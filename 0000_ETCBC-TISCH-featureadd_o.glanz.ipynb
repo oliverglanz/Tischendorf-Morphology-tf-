{
 "cells": [
  {
   "cell_type": "markdown",
   "metadata": {},
   "source": [
    "# Lets first inquire what the Tisch data offers at this moment\n",
    "\n",
    "checkout: https://github.com/codykingham/tischendorf_tf/blob/master/tisch2tf/tisch2TF.ipynb"
   ]
  },
  {
   "cell_type": "code",
   "execution_count": 1,
   "metadata": {},
   "outputs": [],
   "source": [
    "%load_ext autoreload\n",
    "%autoreload 2"
   ]
  },
  {
   "cell_type": "code",
   "execution_count": 2,
   "metadata": {},
   "outputs": [],
   "source": [
    "import sys, os, collections"
   ]
  },
  {
   "cell_type": "code",
   "execution_count": 3,
   "metadata": {},
   "outputs": [],
   "source": [
    "from tf.app import use"
   ]
  },
  {
   "cell_type": "code",
   "execution_count": 4,
   "metadata": {},
   "outputs": [
    {
     "name": "stdout",
     "output_type": "stream",
     "text": [
      "\tconnecting to online GitHub repo annotation/app-tisch ... connected\n",
      "Using TF-app in /Users/glanz/text-fabric-data/annotation/app-tisch/code:\n",
      "\trv.1.2=#6bbf132c3854f186062b417a981aef0f51a8b714 (latest release)\n",
      "\tconnecting to online GitHub repo codykingham/tischendorf_tf ... connected\n",
      "Using data in /Users/glanz/text-fabric-data/codykingham/tischendorf_tf/tf/2.8:\n",
      "\trv.1.12=#c8a8b8c0d9f1746f050f4da0a3e0421835b378df (latest release)\n",
      "   |     0.00s No structure info in otext, the structure part of the T-API cannot be used\n"
     ]
    },
    {
     "data": {
      "text/html": [
       "<b>Documentation:</b> <a target=\"_blank\" href=\"https://github.com/codykingham/tischendorf_tf/blob/master/docs\" title=\"provenance of Tischendorf's 8th New Testament\">TISCHENDORF_TF</a> <a target=\"_blank\" href=\"https://github.com/codykingham/tischendorf_tf/blob/master/docs/features.md\" title=\"('Greek characters transcription',)\">Character table</a> <a target=\"_blank\" href=\"https://github.com/codykingham/tischendorf_tf/blob/master/docs/features.md#features.md\" title=\"TISCHENDORF_TF feature documentation\">Feature docs</a> <a target=\"_blank\" href=\"https://github.com/annotation/app-tisch\" title=\"tisch API documentation\">tisch API</a> <a target=\"_blank\" href=\"https://annotation.github.io/text-fabric/Api/Fabric/\" title=\"text-fabric-api\">Text-Fabric API 7.8.12</a> <a target=\"_blank\" href=\"https://annotation.github.io/text-fabric/Use/Search/\" title=\"Search Templates Introduction and Reference\">Search Reference</a><details open><summary><b>Loaded features</b>:</summary>\n",
       "<p><b>Tischendorf's 8th New Testament</b>: <a target=\"_blank\" href=\"https://github.com/codykingham/tischendorf_tf/blob/master/docs/features.md#anlex_lem\" title=\"/Users/glanz/text-fabric-data/codykingham/tischendorf_tf/tf/2.8/anlex_lem.tf\">anlex_lem</a>  <a target=\"_blank\" href=\"https://github.com/codykingham/tischendorf_tf/blob/master/docs/features.md#book\" title=\"/Users/glanz/text-fabric-data/codykingham/tischendorf_tf/tf/2.8/book.tf\">book</a>  <a target=\"_blank\" href=\"https://github.com/codykingham/tischendorf_tf/blob/master/docs/features.md#book_code\" title=\"/Users/glanz/text-fabric-data/codykingham/tischendorf_tf/tf/2.8/book_code.tf\">book_code</a>  <a target=\"_blank\" href=\"https://github.com/codykingham/tischendorf_tf/blob/master/docs/features.md#chapter\" title=\"/Users/glanz/text-fabric-data/codykingham/tischendorf_tf/tf/2.8/chapter.tf\">chapter</a>  <a target=\"_blank\" href=\"https://github.com/codykingham/tischendorf_tf/blob/master/docs/features.md#freq_lex\" title=\"/Users/glanz/text-fabric-data/codykingham/tischendorf_tf/tf/2.8/freq_lex.tf\">freq_lex</a>  <a target=\"_blank\" href=\"https://github.com/codykingham/tischendorf_tf/blob/master/docs/features.md#gloss\" title=\"/Users/glanz/text-fabric-data/codykingham/tischendorf_tf/tf/2.8/gloss.tf\">gloss</a>  <a target=\"_blank\" href=\"https://github.com/codykingham/tischendorf_tf/blob/master/docs/features.md#ketiv\" title=\"/Users/glanz/text-fabric-data/codykingham/tischendorf_tf/tf/2.8/ketiv.tf\">ketiv</a>  <a target=\"_blank\" href=\"https://github.com/codykingham/tischendorf_tf/blob/master/docs/features.md#morph\" title=\"/Users/glanz/text-fabric-data/codykingham/tischendorf_tf/tf/2.8/morph.tf\">morph</a>  <a target=\"_blank\" href=\"https://github.com/codykingham/tischendorf_tf/blob/master/docs/features.md#otype\" title=\"/Users/glanz/text-fabric-data/codykingham/tischendorf_tf/tf/2.8/otype.tf\">otype</a>  <a target=\"_blank\" href=\"https://github.com/codykingham/tischendorf_tf/blob/master/docs/features.md#para\" title=\"/Users/glanz/text-fabric-data/codykingham/tischendorf_tf/tf/2.8/para.tf\">para</a>  <a target=\"_blank\" href=\"https://github.com/codykingham/tischendorf_tf/blob/master/docs/features.md#qere\" title=\"/Users/glanz/text-fabric-data/codykingham/tischendorf_tf/tf/2.8/qere.tf\">qere</a>  <a target=\"_blank\" href=\"https://github.com/codykingham/tischendorf_tf/blob/master/docs/features.md#str_lem\" title=\"/Users/glanz/text-fabric-data/codykingham/tischendorf_tf/tf/2.8/str_lem.tf\">str_lem</a>  <a target=\"_blank\" href=\"https://github.com/codykingham/tischendorf_tf/blob/master/docs/features.md#strongs\" title=\"/Users/glanz/text-fabric-data/codykingham/tischendorf_tf/tf/2.8/strongs.tf\">strongs</a>  <a target=\"_blank\" href=\"https://github.com/codykingham/tischendorf_tf/blob/master/docs/features.md#verse\" title=\"/Users/glanz/text-fabric-data/codykingham/tischendorf_tf/tf/2.8/verse.tf\">verse</a>  <a target=\"_blank\" href=\"https://github.com/codykingham/tischendorf_tf/blob/master/docs/features.md#vrsnum\" title=\"/Users/glanz/text-fabric-data/codykingham/tischendorf_tf/tf/2.8/vrsnum.tf\">vrsnum</a>  <b><i><a target=\"_blank\" href=\"https://github.com/codykingham/tischendorf_tf/blob/master/docs/features.md#oslots\" title=\"/Users/glanz/text-fabric-data/codykingham/tischendorf_tf/tf/2.8/oslots.tf\">oslots</a></i></b> </p></details>"
      ],
      "text/plain": [
       "<IPython.core.display.HTML object>"
      ]
     },
     "metadata": {},
     "output_type": "display_data"
    },
    {
     "data": {
      "text/html": [
       "<style>\n",
       "@font-face {\n",
       "  font-family: \"SBL_BLit\";\n",
       "  src:\n",
       "    local(\"SBL_BLit.ttf\"),\n",
       "    url(\"https://github.com/annotation/text-fabric/blob/master/tf/server/static/fonts/SBL_BLit.ttf?raw=true\");\n",
       "}\n",
       ".features {\n",
       "    font-family: monospace;\n",
       "    font-size: medium;\n",
       "    font-weight: bold;\n",
       "    color: #0a6611;\n",
       "    display: flex;\n",
       "    flex-flow: column nowrap;\n",
       "    padding: 0.1em;\n",
       "    margin: 0.1em;\n",
       "    direction: ltr;\n",
       "}\n",
       ".features div,.features span {\n",
       "    padding: 0;\n",
       "    margin: -0.1rem 0;\n",
       "}\n",
       ".features .f {\n",
       "    font-family: sans-serif;\n",
       "    font-size: x-small;\n",
       "    font-weight: normal;\n",
       "    color: #5555bb;\n",
       "}\n",
       ".features .xft {\n",
       "  color: #000000;\n",
       "  background-color: #eeeeee;\n",
       "  font-size: medium;\n",
       "  margin: 0.1em 0em;\n",
       "}\n",
       ".features .xft .f {\n",
       "  color: #000000;\n",
       "  background-color: #eeeeee;\n",
       "  font-style: italic;\n",
       "  font-size: small;\n",
       "  font-weight: normal;\n",
       "}\n",
       ".verse {\n",
       "    display: flex;\n",
       "    flex-flow: row wrap;\n",
       "    direction: ltr;\n",
       "}\n",
       ".vl {\n",
       "    display: flex;\n",
       "    flex-flow: column nowrap;\n",
       "    justify-content: flex-end;\n",
       "    align-items: flex-end;\n",
       "    direction: ltr;\n",
       "    width: 100%;\n",
       "}\n",
       ".outeritem {\n",
       "    display: flex;\n",
       "    flex-flow: row wrap;\n",
       "    direction: ltr;\n",
       "}\n",
       ".word {\n",
       "    padding: 0.1em;\n",
       "    margin: 0.1em;\n",
       "    border-radius: 0.1em;\n",
       "    border: 1px solid #cccccc;\n",
       "    display: flex;\n",
       "    flex-flow: column nowrap;\n",
       "    direction: ltr;\n",
       "    background-color: #ffffff;\n",
       "}\n",
       ".occs {\n",
       "    font-size: x-small;\n",
       "}\n",
       ".tr,.tr a:visited,.tr a:link {\n",
       "    font-family: sans-serif;\n",
       "    font-size: large;\n",
       "    color: #000044;\n",
       "    direction: ltr;\n",
       "    text-decoration: none;\n",
       "}\n",
       ".trb,.trb a:visited,.trb a:link {\n",
       "    font-family: sans-serif;\n",
       "    font-size: normal;\n",
       "    direction: ltr;\n",
       "    text-decoration: none;\n",
       "}\n",
       ".grk,.grk a:visited,.sy a:link {\n",
       "    font-family: \"SBL_BLit\", serif;\n",
       "    font-size: large;\n",
       "    color: #111111;\n",
       "    direction: ltr;\n",
       "    text-decoration: none;\n",
       "}\n",
       ".vn {\n",
       "  font-size: small !important;\n",
       "  padding-right: 1em;\n",
       "}\n",
       ".nd {\n",
       "    font-family: monospace;\n",
       "    font-size: x-small;\n",
       "    color: #999999;\n",
       "}\n",
       ".hl {\n",
       "    background-color: #ffee66;\n",
       "}\n",
       "\n",
       "tr.tf, td.tf, th.tf {\n",
       "  text-align: left;\n",
       "}\n",
       "\n",
       "span.hldot {\n",
       "\tbackground-color: var(--hl-strong);\n",
       "\tborder: 0.2rem solid var(--hl-rim);\n",
       "\tborder-radius: 0.4rem;\n",
       "\t/*\n",
       "\tdisplay: inline-block;\n",
       "\twidth: 0.8rem;\n",
       "\theight: 0.8rem;\n",
       "\t*/\n",
       "}\n",
       "span.hl {\n",
       "\tbackground-color: var(--hl-strong);\n",
       "\tborder-width: 0;\n",
       "\tborder-radius: 0.1rem;\n",
       "\tborder-style: solid;\n",
       "}\n",
       "\n",
       "span.hlup {\n",
       "\tborder-color: var(--hl-dark);\n",
       "\tborder-width: 0.1rem;\n",
       "\tborder-style: solid;\n",
       "\tborder-radius: 0.2rem;\n",
       "  padding: 0.2rem;\n",
       "}\n",
       "\n",
       ":root {\n",
       "\t--hl-strong:        hsla( 60, 100%,  70%, 0.9  );\n",
       "\t--hl-rim:           hsla( 55, 100%,  60%, 0.9  );\n",
       "\t--hl-dark:          hsla( 55, 100%,  40%, 0.9  );\n",
       "}\n",
       "</style>"
      ],
      "text/plain": [
       "<IPython.core.display.HTML object>"
      ]
     },
     "metadata": {},
     "output_type": "display_data"
    },
    {
     "data": {
      "text/html": [
       "<details open><summary><b>API members</b>:</summary>\n",
       "<a target=\"_blank\" href=\"https://annotation.github.io/text-fabric/Api/Computed/#computed-data\" title=\"doc\">C Computed</a>, <a target=\"_blank\" href=\"https://annotation.github.io/text-fabric/Api/Computed/#computed-data\" title=\"doc\">Call AllComputeds</a>, <a target=\"_blank\" href=\"https://annotation.github.io/text-fabric/Api/Computed/#computed-data\" title=\"doc\">Cs ComputedString</a><br/>\n",
       "<a target=\"_blank\" href=\"https://annotation.github.io/text-fabric/Api/Features/#edge-features\" title=\"doc\">E Edge</a>, <a target=\"_blank\" href=\"https://annotation.github.io/text-fabric/Api/Features/#edge-features\" title=\"doc\">Eall AllEdges</a>, <a target=\"_blank\" href=\"https://annotation.github.io/text-fabric/Api/Features/#edge-features\" title=\"doc\">Es EdgeString</a><br/>\n",
       "<a target=\"_blank\" href=\"https://annotation.github.io/text-fabric/Api/Fabric/#loading\" title=\"doc\">ensureLoaded</a>, <a target=\"_blank\" href=\"https://annotation.github.io/text-fabric/Api/Fabric/#loading\" title=\"doc\">TF</a>, <a target=\"_blank\" href=\"https://annotation.github.io/text-fabric/Api/Fabric/#loading\" title=\"doc\">ignored</a>, <a target=\"_blank\" href=\"https://annotation.github.io/text-fabric/Api/Fabric/#loading\" title=\"doc\">loadLog</a><br/>\n",
       "<a target=\"_blank\" href=\"https://annotation.github.io/text-fabric/Api/Locality/#locality\" title=\"doc\">L Locality</a><br/>\n",
       "<a target=\"_blank\" href=\"https://annotation.github.io/text-fabric/Api/Misc/#messaging\" title=\"doc\">cache</a>, <a target=\"_blank\" href=\"https://annotation.github.io/text-fabric/Api/Misc/#messaging\" title=\"doc\">error</a>, <a target=\"_blank\" href=\"https://annotation.github.io/text-fabric/Api/Misc/#messaging\" title=\"doc\">indent</a>, <a target=\"_blank\" href=\"https://annotation.github.io/text-fabric/Api/Misc/#messaging\" title=\"doc\">info</a>, <a target=\"_blank\" href=\"https://annotation.github.io/text-fabric/Api/Misc/#messaging\" title=\"doc\">isSilent</a>, <a target=\"_blank\" href=\"https://annotation.github.io/text-fabric/Api/Misc/#messaging\" title=\"doc\">reset</a>, <a target=\"_blank\" href=\"https://annotation.github.io/text-fabric/Api/Misc/#messaging\" title=\"doc\">setSilent</a>, <a target=\"_blank\" href=\"https://annotation.github.io/text-fabric/Api/Misc/#messaging\" title=\"doc\">silentOff</a>, <a target=\"_blank\" href=\"https://annotation.github.io/text-fabric/Api/Misc/#messaging\" title=\"doc\">silentOn</a>, <a target=\"_blank\" href=\"https://annotation.github.io/text-fabric/Api/Misc/#messaging\" title=\"doc\">warning</a><br/>\n",
       "<a target=\"_blank\" href=\"https://annotation.github.io/text-fabric/Api/Nodes/#navigating-nodes\" title=\"doc\">N Nodes</a>, <a target=\"_blank\" href=\"https://annotation.github.io/text-fabric/Api/Nodes/#navigating-nodes\" title=\"doc\">sortKey</a>, <a target=\"_blank\" href=\"https://annotation.github.io/text-fabric/Api/Nodes/#navigating-nodes\" title=\"doc\">sortKeyTuple</a>, <a target=\"_blank\" href=\"https://annotation.github.io/text-fabric/Api/Nodes/#navigating-nodes\" title=\"doc\">otypeRank</a>, <a target=\"_blank\" href=\"https://annotation.github.io/text-fabric/Api/Nodes/#navigating-nodes\" title=\"doc\">sortNodes</a><br/>\n",
       "<a target=\"_blank\" href=\"https://annotation.github.io/text-fabric/Api/Features/#node-features\" title=\"doc\">F Feature</a>, <a target=\"_blank\" href=\"https://annotation.github.io/text-fabric/Api/Features/#node-features\" title=\"doc\">Fall AllFeatures</a>, <a target=\"_blank\" href=\"https://annotation.github.io/text-fabric/Api/Features/#node-features\" title=\"doc\">Fs FeatureString</a><br/>\n",
       "<a target=\"_blank\" href=\"https://annotation.github.io/text-fabric/Api/Search/#search\" title=\"doc\">S Search</a><br/>\n",
       "<a target=\"_blank\" href=\"https://annotation.github.io/text-fabric/Api/Text/#text\" title=\"doc\">T Text</a></details>"
      ],
      "text/plain": [
       "<IPython.core.display.HTML object>"
      ]
     },
     "metadata": {},
     "output_type": "display_data"
    }
   ],
   "source": [
    "A = use('tisch', hoist=globals())"
   ]
  },
  {
   "cell_type": "code",
   "execution_count": 5,
   "metadata": {},
   "outputs": [
    {
     "data": {
      "text/plain": [
       "'book'"
      ]
     },
     "execution_count": 5,
     "metadata": {},
     "output_type": "execute_result"
    }
   ],
   "source": [
    "F.gloss.v(1)"
   ]
  },
  {
   "cell_type": "code",
   "execution_count": 6,
   "metadata": {},
   "outputs": [
    {
     "name": "stdout",
     "output_type": "stream",
     "text": [
      "   |     0.00s No structure info in otext, the structure part of the T-API cannot be used\n"
     ]
    }
   ],
   "source": [
    "api = TF.load('gloss')"
   ]
  },
  {
   "cell_type": "markdown",
   "metadata": {},
   "source": [
    "# What books are available in the ETCBC Tisch collection?\n",
    "Text-Fabric has two special features, `otype` (object types) and `oslots` (object slots), that must occur in every Text-Fabric data set.\n",
    "`otype` tells you for each node its type, and you can ask for the number of `slot`s in the text.\n",
    "Lets check out what `otype`s are available by using the `F` function. `F` gives access to all features. Every feature has a method\n",
    "`freqList()`\n",
    "to generate a frequency list of its values, higher frequencies first.\n",
    "\n",
    "\n",
    "```python\n",
    "slotType = 'word'\n",
    "otext = {'fmt:text-orig-full':'{qere} ',\n",
    "         'sectionTypes':'book,chapter,verse',\n",
    "         'sectionFeatures':'book,chapter,verse'}\n",
    "\n",
    "generic = {'Name': 'Morph-GNT Tischendorf',\n",
    "           'Version': None, # to be filled in\n",
    "           'Author': 'Constantin von Tischendorf',\n",
    "           'Editors': 'Ulrik Sandborg-Petersen, G. Clint Yale, and Maurice A. Robinson',\n",
    "           'Converter': 'Cody Kingham', \n",
    "           'Source:':'https://github.com/morphgnt/tischendorf-data/',\n",
    "           'Note':'Feature descriptions adapted from tischendorf-data README'}\n",
    "\n",
    "intFeatures = {'chapter', 'para', 'verse'}\n",
    "\n",
    "featureMeta = {'book': {'description': 'A book name'},\n",
    "               'chapter': {'description': 'A chapter number'},\n",
    "               'verse': {'description': 'A verse number'},\n",
    "               'book_code':{'description': 'Short book abbreviation'},\n",
    "               'para': {'description': 'A paragraph number'},\n",
    "               'ketiv': {'descrption': 'The text as it is written in the printed Tischendorf'},\n",
    "               'qere': {'description': 'The text as the editor thinks it should have been'},\n",
    "               'morph': {'description': 'Word morphological tag based on Maurice A Robinson\\'s analysis'},\n",
    "               'strongs': {'description': 'A word\\'s number in Strongs'},\n",
    "               'vrsnum': {'description': 'N-word in verse'},\n",
    "               'str_lem': {'description': 'Word lemma that corresponds to The NEW Strong\\'sComplete Dictionary of Bible Words'},\n",
    "               'anlex_lem': {'description': 'Word lemma that corresponds to Friberg, Friberg and Miller\\'s ANLEX'}\n",
    "              }\n",
    "```"
   ]
  },
  {
   "cell_type": "code",
   "execution_count": 7,
   "metadata": {},
   "outputs": [
    {
     "data": {
      "text/plain": [
       "('book', 'chapter', 'paragraph', 'lex', 'verse', 'word')"
      ]
     },
     "execution_count": 7,
     "metadata": {},
     "output_type": "execute_result"
    }
   ],
   "source": [
    "F.otype.all"
   ]
  },
  {
   "cell_type": "markdown",
   "metadata": {},
   "source": [
    "These are then the object types we can work with. But what features do those object types (`otype`) have? Lets investigate the scrolls first."
   ]
  },
  {
   "cell_type": "code",
   "execution_count": 5,
   "metadata": {},
   "outputs": [
    {
     "data": {
      "text/plain": [
       "{'nodes': {'anlex_lem',\n",
       "  'book',\n",
       "  'book_code',\n",
       "  'chapter',\n",
       "  'freq_lex',\n",
       "  'gloss',\n",
       "  'ketiv',\n",
       "  'morph',\n",
       "  'morph_bkp',\n",
       "  'otype',\n",
       "  'para',\n",
       "  'qere',\n",
       "  'str_lem',\n",
       "  'strongs',\n",
       "  'verse',\n",
       "  'vrsnum'},\n",
       " 'edges': {'oslots'},\n",
       " 'configs': {'otext'},\n",
       " 'computeds': {'__boundary__',\n",
       "  '__levDown__',\n",
       "  '__levUp__',\n",
       "  '__levels__',\n",
       "  '__order__',\n",
       "  '__rank__',\n",
       "  '__sections__',\n",
       "  '__structure__'}}"
      ]
     },
     "execution_count": 5,
     "metadata": {},
     "output_type": "execute_result"
    }
   ],
   "source": [
    "TF.featureSets"
   ]
  },
  {
   "cell_type": "code",
   "execution_count": 9,
   "metadata": {},
   "outputs": [
    {
     "data": {
      "text/html": [
       "<span class=\"grk\"><a class=\"vn\" href=\"https://github.com/morphgnt/tischendorf-data/tree/master/word-per-line/2.8/Unicode/MT.txt\" title=\"Matthew 1:1\" sec=\"Matthew 1:1\">Matthew 1:1</a>Βίβλος γενέσεως Ἰησοῦ Χριστοῦ υἱοῦ Δαυεὶδ υἱοῦ Ἀβραάμ. </span>"
      ],
      "text/plain": [
       "<IPython.core.display.HTML object>"
      ]
     },
     "metadata": {},
     "output_type": "display_data"
    }
   ],
   "source": [
    "verse1 = A.nodeFromSectionStr('Matthew 1:1')\n",
    "A.plain(verse1)"
   ]
  },
  {
   "cell_type": "code",
   "execution_count": 10,
   "metadata": {},
   "outputs": [
    {
     "data": {
      "text/html": [
       "<a href=\"https://github.com/morphgnt/tischendorf-data/tree/master/word-per-line/2.8/Unicode/MT.txt\" title=\"see this passage in its source document\" sec=\"Matthew 1:1\">Matthew 1:1</a>\n",
       "<div class=\"outeritem\">\n",
       "<div class=\"word  \" >\n",
       "<div class=\"grk\">Βίβλος </div>\n",
       "<div class=\"features\"></div>\n",
       "</div>\n",
       "</div>"
      ],
      "text/plain": [
       "<IPython.core.display.HTML object>"
      ]
     },
     "metadata": {},
     "output_type": "display_data"
    },
    {
     "data": {
      "text/html": [
       "<a href=\"https://github.com/morphgnt/tischendorf-data/tree/master/word-per-line/2.8/Unicode/MT.txt\" title=\"see this passage in its source document\" sec=\"Matthew 1:1\">Matthew 1:1</a>\n",
       "<div class=\"outeritem\">\n",
       "<div class=\"word  \" >\n",
       "<div class=\"grk\">γενέσεως </div>\n",
       "<div class=\"features\"></div>\n",
       "</div>\n",
       "</div>"
      ],
      "text/plain": [
       "<IPython.core.display.HTML object>"
      ]
     },
     "metadata": {},
     "output_type": "display_data"
    },
    {
     "data": {
      "text/html": [
       "<a href=\"https://github.com/morphgnt/tischendorf-data/tree/master/word-per-line/2.8/Unicode/MT.txt\" title=\"see this passage in its source document\" sec=\"Matthew 1:1\">Matthew 1:1</a>\n",
       "<div class=\"outeritem\">\n",
       "<div class=\"word  \" >\n",
       "<div class=\"grk\">Ἰησοῦ </div>\n",
       "<div class=\"features\"></div>\n",
       "</div>\n",
       "</div>"
      ],
      "text/plain": [
       "<IPython.core.display.HTML object>"
      ]
     },
     "metadata": {},
     "output_type": "display_data"
    }
   ],
   "source": [
    "wordShow = (1, 2, 3)\n",
    "for word in wordShow:\n",
    "  A.pretty(word)"
   ]
  },
  {
   "cell_type": "code",
   "execution_count": 11,
   "metadata": {},
   "outputs": [
    {
     "data": {
      "text/html": [
       "<a href=\"https://github.com/morphgnt/tischendorf-data/tree/master/word-per-line/2.8/Unicode/MT.txt\" title=\"see this passage in its source document\" sec=\"Matthew 1:1\">Matthew 1:1</a>\n",
       "<div class=\"outeritem\">\n",
       "<div class=\"word  \" >\n",
       "<div class=\"grk\">Βίβλος </div>\n",
       "<div class=\"features\"></div>\n",
       "</div>\n",
       "</div>"
      ],
      "text/plain": [
       "<IPython.core.display.HTML object>"
      ]
     },
     "metadata": {},
     "output_type": "display_data"
    }
   ],
   "source": [
    "phraseShow = 1\n",
    "A.pretty(phraseShow)"
   ]
  },
  {
   "cell_type": "code",
   "execution_count": 12,
   "metadata": {},
   "outputs": [
    {
     "data": {
      "text/html": [
       "<a href=\"https://github.com/morphgnt/tischendorf-data/tree/master/word-per-line/2.8/Unicode/MT.txt\" title=\"see this passage in its source document\" sec=\"Matthew 1:1\">Matthew 1:1</a>\n",
       "<div class=\"outeritem\">\n",
       "<div class=\"word  \" >\n",
       "<div class=\"grk\">Βίβλος </div>\n",
       "<div class=\"features\"></div>\n",
       "</div>\n",
       "</div>"
      ],
      "text/plain": [
       "<IPython.core.display.HTML object>"
      ]
     },
     "metadata": {},
     "output_type": "display_data"
    }
   ],
   "source": [
    "paragraphShow = 1\n",
    "A.pretty(paragraphShow)"
   ]
  },
  {
   "cell_type": "code",
   "execution_count": 13,
   "metadata": {},
   "outputs": [
    {
     "data": {
      "text/html": [
       "<a href=\"https://github.com/morphgnt/tischendorf-data/tree/master/word-per-line/2.8/Unicode/MT.txt\" title=\"see this passage in its source document\" sec=\"Matthew 1:1\">Matthew 1:1</a>\n",
       "<div class=\"outeritem\">\n",
       "<div class=\"word  \" >\n",
       "<div class=\"grk\">Βίβλος </div>\n",
       "<div class=\"features\"></div>\n",
       "</div>\n",
       "</div>"
      ],
      "text/plain": [
       "<IPython.core.display.HTML object>"
      ]
     },
     "metadata": {},
     "output_type": "display_data"
    }
   ],
   "source": [
    "verseShow = 1\n",
    "A.pretty(verseShow)"
   ]
  },
  {
   "cell_type": "markdown",
   "metadata": {},
   "source": [
    "# word search\n",
    "## simple searches"
   ]
  },
  {
   "cell_type": "code",
   "execution_count": 10,
   "metadata": {},
   "outputs": [
    {
     "name": "stdout",
     "output_type": "stream",
     "text": [
      "  0.96s 435 results\n"
     ]
    }
   ],
   "source": [
    "Mat1_1 ='''\n",
    "book book=Matthew\n",
    "    chapter chapter=1\n",
    "            word morph* morph_bkp* anlex_lem* str_lem* ketiv* qere* morph* strongs* vrsnum* gloss*\n",
    "'''\n",
    "Mat1_1=A.search(Mat1_1)"
   ]
  },
  {
   "cell_type": "code",
   "execution_count": 11,
   "metadata": {},
   "outputs": [
    {
     "data": {
      "text/html": [
       "<p><b>verse</b> <i>1</i></p>"
      ],
      "text/plain": [
       "<IPython.core.display.HTML object>"
      ]
     },
     "metadata": {},
     "output_type": "display_data"
    },
    {
     "data": {
      "text/html": [
       "<div class=\"outeritem\">\n",
       "<div class=\"verse  \" >\n",
       "\n",
       "    <div class=\"ll\">\n",
       "        <div class=\"line\"><a href=\"https://github.com/morphgnt/tischendorf-data/tree/master/word-per-line/2.8/Unicode/MT.txt\" title=\"see this passage in its source document\" sec=\"Matthew 1:1\">Matthew 1:1</a></div>\n",
       "\n",
       "        <div class=\"features\"></div>\n",
       "    </div>\n",
       "\n",
       "<div class=\"word  hl\"  style=\"background-color: lightsalmon;\" >\n",
       "<div class=\"grk\">Βίβλος </div>\n",
       "<div class=\"features\"> <span class=\"anlex_lem xft\"><span class=\"f\">anlex_lem=</span>βίβλος</span> <span class=\"gloss xft\"><span class=\"f\">gloss=</span>book</span> <span class=\"ketiv xft\"><span class=\"f\">ketiv=</span>Βίβλος</span> <span class=\"morph xft\"><span class=\"f\">morph=</span>noun-NSF</span> <span class=\"morph_bkp xft\"><span class=\"f\">morph_bkp=</span>N-NSF</span> <span class=\"qere xft\"><span class=\"f\">qere=</span>Βίβλος</span> <span class=\"str_lem xft\"><span class=\"f\">str_lem=</span>βίβλος</span> <span class=\"strongs xft\"><span class=\"f\">strongs=</span>976</span> <span class=\"vrsnum xft\"><span class=\"f\">vrsnum=</span>1</span></div>\n",
       "</div>\n",
       "<div class=\"word  hl\"  style=\"background-color: lightsalmon;\" >\n",
       "<div class=\"grk\">γενέσεως </div>\n",
       "<div class=\"features\"> <span class=\"anlex_lem xft\"><span class=\"f\">anlex_lem=</span>γένεσις</span> <span class=\"gloss xft\"><span class=\"f\">gloss=</span>birth</span> <span class=\"ketiv xft\"><span class=\"f\">ketiv=</span>γενέσεως</span> <span class=\"morph xft\"><span class=\"f\">morph=</span>noun-GSF</span> <span class=\"morph_bkp xft\"><span class=\"f\">morph_bkp=</span>N-GSF</span> <span class=\"qere xft\"><span class=\"f\">qere=</span>γενέσεως</span> <span class=\"str_lem xft\"><span class=\"f\">str_lem=</span>γένεσις</span> <span class=\"strongs xft\"><span class=\"f\">strongs=</span>1078</span> <span class=\"vrsnum xft\"><span class=\"f\">vrsnum=</span>2</span></div>\n",
       "</div>\n",
       "<div class=\"word  hl\"  style=\"background-color: lightsalmon;\" >\n",
       "<div class=\"grk\">Ἰησοῦ </div>\n",
       "<div class=\"features\"> <span class=\"anlex_lem xft\"><span class=\"f\">anlex_lem=</span>Ἰησοῦς</span> <span class=\"gloss xft\"><span class=\"f\">gloss=</span>Jesus</span> <span class=\"ketiv xft\"><span class=\"f\">ketiv=</span>Ἰησοῦ</span> <span class=\"morph xft\"><span class=\"f\">morph=</span>noun-GSM</span> <span class=\"morph_bkp xft\"><span class=\"f\">morph_bkp=</span>N-GSM</span> <span class=\"qere xft\"><span class=\"f\">qere=</span>Ἰησοῦ</span> <span class=\"str_lem xft\"><span class=\"f\">str_lem=</span>Ἰησοῦς</span> <span class=\"strongs xft\"><span class=\"f\">strongs=</span>2424</span> <span class=\"vrsnum xft\"><span class=\"f\">vrsnum=</span>3</span></div>\n",
       "</div>\n",
       "<div class=\"word  hl\"  style=\"background-color: lightsalmon;\" >\n",
       "<div class=\"grk\">Χριστοῦ </div>\n",
       "<div class=\"features\"> <span class=\"anlex_lem xft\"><span class=\"f\">anlex_lem=</span>Χριστός</span> <span class=\"gloss xft\"><span class=\"f\">gloss=</span>Christ</span> <span class=\"ketiv xft\"><span class=\"f\">ketiv=</span>Χριστοῦ</span> <span class=\"morph xft\"><span class=\"f\">morph=</span>noun-GSM</span> <span class=\"morph_bkp xft\"><span class=\"f\">morph_bkp=</span>N-GSM</span> <span class=\"qere xft\"><span class=\"f\">qere=</span>Χριστοῦ</span> <span class=\"str_lem xft\"><span class=\"f\">str_lem=</span>Χριστός</span> <span class=\"strongs xft\"><span class=\"f\">strongs=</span>5547</span> <span class=\"vrsnum xft\"><span class=\"f\">vrsnum=</span>4</span></div>\n",
       "</div>\n",
       "<div class=\"word  hl\"  style=\"background-color: lightsalmon;\" >\n",
       "<div class=\"grk\">υἱοῦ </div>\n",
       "<div class=\"features\"> <span class=\"anlex_lem xft\"><span class=\"f\">anlex_lem=</span>υἱός</span> <span class=\"gloss xft\"><span class=\"f\">gloss=</span>son</span> <span class=\"ketiv xft\"><span class=\"f\">ketiv=</span>υἱοῦ</span> <span class=\"morph xft\"><span class=\"f\">morph=</span>noun-GSM</span> <span class=\"morph_bkp xft\"><span class=\"f\">morph_bkp=</span>N-GSM</span> <span class=\"qere xft\"><span class=\"f\">qere=</span>υἱοῦ</span> <span class=\"str_lem xft\"><span class=\"f\">str_lem=</span>υἱός</span> <span class=\"strongs xft\"><span class=\"f\">strongs=</span>5207</span> <span class=\"vrsnum xft\"><span class=\"f\">vrsnum=</span>5</span></div>\n",
       "</div>\n",
       "<div class=\"word  hl\"  style=\"background-color: lightsalmon;\" >\n",
       "<div class=\"grk\">Δαυεὶδ </div>\n",
       "<div class=\"features\"> <span class=\"anlex_lem xft\"><span class=\"f\">anlex_lem=</span>Δαυίδ</span> <span class=\"gloss xft\"><span class=\"f\">gloss=</span>David</span> <span class=\"ketiv xft\"><span class=\"f\">ketiv=</span>Δαυεὶδ</span> <span class=\"morph xft\"><span class=\"f\">morph=</span>noun-PRI</span> <span class=\"morph_bkp xft\"><span class=\"f\">morph_bkp=</span>N-PRI</span> <span class=\"qere xft\"><span class=\"f\">qere=</span>Δαυεὶδ</span> <span class=\"str_lem xft\"><span class=\"f\">str_lem=</span>Δαβίδ</span> <span class=\"strongs xft\"><span class=\"f\">strongs=</span>1138</span> <span class=\"vrsnum xft\"><span class=\"f\">vrsnum=</span>6</span></div>\n",
       "</div>\n",
       "<div class=\"word  hl\"  style=\"background-color: lightsalmon;\" >\n",
       "<div class=\"grk\">υἱοῦ </div>\n",
       "<div class=\"features\"> <span class=\"anlex_lem xft\"><span class=\"f\">anlex_lem=</span>υἱός</span> <span class=\"gloss xft\"><span class=\"f\">gloss=</span>son</span> <span class=\"ketiv xft\"><span class=\"f\">ketiv=</span>υἱοῦ</span> <span class=\"morph xft\"><span class=\"f\">morph=</span>noun-GSM</span> <span class=\"morph_bkp xft\"><span class=\"f\">morph_bkp=</span>N-GSM</span> <span class=\"qere xft\"><span class=\"f\">qere=</span>υἱοῦ</span> <span class=\"str_lem xft\"><span class=\"f\">str_lem=</span>υἱός</span> <span class=\"strongs xft\"><span class=\"f\">strongs=</span>5207</span> <span class=\"vrsnum xft\"><span class=\"f\">vrsnum=</span>7</span></div>\n",
       "</div>\n",
       "<div class=\"word  hl\"  style=\"background-color: lightsalmon;\" >\n",
       "<div class=\"grk\">Ἀβραάμ. </div>\n",
       "<div class=\"features\"> <span class=\"anlex_lem xft\"><span class=\"f\">anlex_lem=</span>Ἀβραάμ</span> <span class=\"gloss xft\"><span class=\"f\">gloss=</span>Abraham</span> <span class=\"ketiv xft\"><span class=\"f\">ketiv=</span>Ἀβραάμ.</span> <span class=\"morph xft\"><span class=\"f\">morph=</span>noun-PRI</span> <span class=\"morph_bkp xft\"><span class=\"f\">morph_bkp=</span>N-PRI</span> <span class=\"qere xft\"><span class=\"f\">qere=</span>Ἀβραάμ.</span> <span class=\"str_lem xft\"><span class=\"f\">str_lem=</span>Ἀβραάμ</span> <span class=\"strongs xft\"><span class=\"f\">strongs=</span>11</span> <span class=\"vrsnum xft\"><span class=\"f\">vrsnum=</span>8</span></div>\n",
       "</div>\n",
       "</div>\n",
       "</div>"
      ],
      "text/plain": [
       "<IPython.core.display.HTML object>"
      ]
     },
     "metadata": {},
     "output_type": "display_data"
    },
    {
     "data": {
      "text/html": [
       "<p><b>verse</b> <i>2</i></p>"
      ],
      "text/plain": [
       "<IPython.core.display.HTML object>"
      ]
     },
     "metadata": {},
     "output_type": "display_data"
    },
    {
     "data": {
      "text/html": [
       "<div class=\"outeritem\">\n",
       "<div class=\"verse  \" >\n",
       "\n",
       "    <div class=\"ll\">\n",
       "        <div class=\"line\"><a href=\"https://github.com/morphgnt/tischendorf-data/tree/master/word-per-line/2.8/Unicode/MT.txt\" title=\"see this passage in its source document\" sec=\"Matthew 1:2\">Matthew 1:2</a></div>\n",
       "\n",
       "        <div class=\"features\"></div>\n",
       "    </div>\n",
       "\n",
       "<div class=\"word  hl\"  style=\"background-color: lightsalmon;\" >\n",
       "<div class=\"grk\">Ἀβραὰμ </div>\n",
       "<div class=\"features\"> <span class=\"anlex_lem xft\"><span class=\"f\">anlex_lem=</span>Ἀβραάμ</span> <span class=\"gloss xft\"><span class=\"f\">gloss=</span>Abraham</span> <span class=\"ketiv xft\"><span class=\"f\">ketiv=</span>Ἀβραὰμ</span> <span class=\"morph xft\"><span class=\"f\">morph=</span>noun-PRI</span> <span class=\"morph_bkp xft\"><span class=\"f\">morph_bkp=</span>N-PRI</span> <span class=\"qere xft\"><span class=\"f\">qere=</span>Ἀβραὰμ</span> <span class=\"str_lem xft\"><span class=\"f\">str_lem=</span>Ἀβραάμ</span> <span class=\"strongs xft\"><span class=\"f\">strongs=</span>11</span> <span class=\"vrsnum xft\"><span class=\"f\">vrsnum=</span>1</span></div>\n",
       "</div>\n",
       "<div class=\"word  hl\"  style=\"background-color: lightsalmon;\" >\n",
       "<div class=\"grk\">ἐγέννησεν </div>\n",
       "<div class=\"features\"> <span class=\"anlex_lem xft\"><span class=\"f\">anlex_lem=</span>γεννάω</span> <span class=\"gloss xft\"><span class=\"f\">gloss=</span>to become the father of</span> <span class=\"ketiv xft\"><span class=\"f\">ketiv=</span>ἐγέννησεν</span> <span class=\"morph xft\"><span class=\"f\">morph=</span>verb-AAI-3S</span> <span class=\"morph_bkp xft\"><span class=\"f\">morph_bkp=</span>V-AAI-3S</span> <span class=\"qere xft\"><span class=\"f\">qere=</span>ἐγέννησεν</span> <span class=\"str_lem xft\"><span class=\"f\">str_lem=</span>γεννάω</span> <span class=\"strongs xft\"><span class=\"f\">strongs=</span>1080</span> <span class=\"vrsnum xft\"><span class=\"f\">vrsnum=</span>2</span></div>\n",
       "</div>\n",
       "<div class=\"word  hl\"  style=\"background-color: lightsalmon;\" >\n",
       "<div class=\"grk\">τὸν </div>\n",
       "<div class=\"features\"> <span class=\"anlex_lem xft\"><span class=\"f\">anlex_lem=</span>ὁ</span> <span class=\"gloss xft\"><span class=\"f\">gloss=</span>the</span> <span class=\"ketiv xft\"><span class=\"f\">ketiv=</span>τὸν</span> <span class=\"morph xft\"><span class=\"f\">morph=</span>T-ASM</span> <span class=\"morph_bkp xft\"><span class=\"f\">morph_bkp=</span>T-ASM</span> <span class=\"qere xft\"><span class=\"f\">qere=</span>τὸν</span> <span class=\"str_lem xft\"><span class=\"f\">str_lem=</span>ὁ</span> <span class=\"strongs xft\"><span class=\"f\">strongs=</span>3588</span> <span class=\"vrsnum xft\"><span class=\"f\">vrsnum=</span>3</span></div>\n",
       "</div>\n",
       "<div class=\"word  hl\"  style=\"background-color: lightsalmon;\" >\n",
       "<div class=\"grk\">Ἰσαάκ, </div>\n",
       "<div class=\"features\"> <span class=\"anlex_lem xft\"><span class=\"f\">anlex_lem=</span>Ἰσαάκ</span> <span class=\"gloss xft\"><span class=\"f\">gloss=</span>Isaac</span> <span class=\"ketiv xft\"><span class=\"f\">ketiv=</span>Ἰσαάκ,</span> <span class=\"morph xft\"><span class=\"f\">morph=</span>noun-PRI</span> <span class=\"morph_bkp xft\"><span class=\"f\">morph_bkp=</span>N-PRI</span> <span class=\"qere xft\"><span class=\"f\">qere=</span>Ἰσαάκ,</span> <span class=\"str_lem xft\"><span class=\"f\">str_lem=</span>Ἰσαάκ</span> <span class=\"strongs xft\"><span class=\"f\">strongs=</span>2464</span> <span class=\"vrsnum xft\"><span class=\"f\">vrsnum=</span>4</span></div>\n",
       "</div>\n",
       "<div class=\"word  hl\"  style=\"background-color: lightsalmon;\" >\n",
       "<div class=\"grk\">Ἰσαὰκ </div>\n",
       "<div class=\"features\"> <span class=\"anlex_lem xft\"><span class=\"f\">anlex_lem=</span>Ἰσαάκ</span> <span class=\"gloss xft\"><span class=\"f\">gloss=</span>Isaac</span> <span class=\"ketiv xft\"><span class=\"f\">ketiv=</span>Ἰσαὰκ</span> <span class=\"morph xft\"><span class=\"f\">morph=</span>noun-PRI</span> <span class=\"morph_bkp xft\"><span class=\"f\">morph_bkp=</span>N-PRI</span> <span class=\"qere xft\"><span class=\"f\">qere=</span>Ἰσαὰκ</span> <span class=\"str_lem xft\"><span class=\"f\">str_lem=</span>Ἰσαάκ</span> <span class=\"strongs xft\"><span class=\"f\">strongs=</span>2464</span> <span class=\"vrsnum xft\"><span class=\"f\">vrsnum=</span>5</span></div>\n",
       "</div>\n",
       "<div class=\"word  hl\"  style=\"background-color: lightsalmon;\" >\n",
       "<div class=\"grk\">δὲ </div>\n",
       "<div class=\"features\"> <span class=\"anlex_lem xft\"><span class=\"f\">anlex_lem=</span>δέ</span> <span class=\"gloss xft\"><span class=\"f\">gloss=</span>but</span> <span class=\"ketiv xft\"><span class=\"f\">ketiv=</span>δὲ</span> <span class=\"morph xft\"><span class=\"f\">morph=</span>CONJ</span> <span class=\"morph_bkp xft\"><span class=\"f\">morph_bkp=</span>CONJ</span> <span class=\"qere xft\"><span class=\"f\">qere=</span>δὲ</span> <span class=\"str_lem xft\"><span class=\"f\">str_lem=</span>δέ</span> <span class=\"strongs xft\"><span class=\"f\">strongs=</span>1161</span> <span class=\"vrsnum xft\"><span class=\"f\">vrsnum=</span>6</span></div>\n",
       "</div>\n",
       "<div class=\"word  hl\"  style=\"background-color: lightsalmon;\" >\n",
       "<div class=\"grk\">ἐγέννησεν </div>\n",
       "<div class=\"features\"> <span class=\"anlex_lem xft\"><span class=\"f\">anlex_lem=</span>γεννάω</span> <span class=\"gloss xft\"><span class=\"f\">gloss=</span>to become the father of</span> <span class=\"ketiv xft\"><span class=\"f\">ketiv=</span>ἐγέννησεν</span> <span class=\"morph xft\"><span class=\"f\">morph=</span>verb-AAI-3S</span> <span class=\"morph_bkp xft\"><span class=\"f\">morph_bkp=</span>V-AAI-3S</span> <span class=\"qere xft\"><span class=\"f\">qere=</span>ἐγέννησεν</span> <span class=\"str_lem xft\"><span class=\"f\">str_lem=</span>γεννάω</span> <span class=\"strongs xft\"><span class=\"f\">strongs=</span>1080</span> <span class=\"vrsnum xft\"><span class=\"f\">vrsnum=</span>7</span></div>\n",
       "</div>\n",
       "<div class=\"word  hl\"  style=\"background-color: lightsalmon;\" >\n",
       "<div class=\"grk\">τὸν </div>\n",
       "<div class=\"features\"> <span class=\"anlex_lem xft\"><span class=\"f\">anlex_lem=</span>ὁ</span> <span class=\"gloss xft\"><span class=\"f\">gloss=</span>the</span> <span class=\"ketiv xft\"><span class=\"f\">ketiv=</span>τὸν</span> <span class=\"morph xft\"><span class=\"f\">morph=</span>T-ASM</span> <span class=\"morph_bkp xft\"><span class=\"f\">morph_bkp=</span>T-ASM</span> <span class=\"qere xft\"><span class=\"f\">qere=</span>τὸν</span> <span class=\"str_lem xft\"><span class=\"f\">str_lem=</span>ὁ</span> <span class=\"strongs xft\"><span class=\"f\">strongs=</span>3588</span> <span class=\"vrsnum xft\"><span class=\"f\">vrsnum=</span>8</span></div>\n",
       "</div>\n",
       "<div class=\"word  hl\"  style=\"background-color: lightsalmon;\" >\n",
       "<div class=\"grk\">Ἰακώβ, </div>\n",
       "<div class=\"features\"> <span class=\"anlex_lem xft\"><span class=\"f\">anlex_lem=</span>Ἰακώβ</span> <span class=\"gloss xft\"><span class=\"f\">gloss=</span>Jacob</span> <span class=\"ketiv xft\"><span class=\"f\">ketiv=</span>Ἰακώβ,</span> <span class=\"morph xft\"><span class=\"f\">morph=</span>noun-PRI</span> <span class=\"morph_bkp xft\"><span class=\"f\">morph_bkp=</span>N-PRI</span> <span class=\"qere xft\"><span class=\"f\">qere=</span>Ἰακώβ,</span> <span class=\"str_lem xft\"><span class=\"f\">str_lem=</span>Ἰακώβ</span> <span class=\"strongs xft\"><span class=\"f\">strongs=</span>2384</span> <span class=\"vrsnum xft\"><span class=\"f\">vrsnum=</span>9</span></div>\n",
       "</div>\n",
       "<div class=\"word  hl\"  style=\"background-color: lightsalmon;\" >\n",
       "<div class=\"grk\">Ἰακὼβ </div>\n",
       "<div class=\"features\"> <span class=\"anlex_lem xft\"><span class=\"f\">anlex_lem=</span>Ἰακώβ</span> <span class=\"gloss xft\"><span class=\"f\">gloss=</span>Jacob</span> <span class=\"ketiv xft\"><span class=\"f\">ketiv=</span>Ἰακὼβ</span> <span class=\"morph xft\"><span class=\"f\">morph=</span>noun-PRI</span> <span class=\"morph_bkp xft\"><span class=\"f\">morph_bkp=</span>N-PRI</span> <span class=\"qere xft\"><span class=\"f\">qere=</span>Ἰακὼβ</span> <span class=\"str_lem xft\"><span class=\"f\">str_lem=</span>Ἰακώβ</span> <span class=\"strongs xft\"><span class=\"f\">strongs=</span>2384</span> <span class=\"vrsnum xft\"><span class=\"f\">vrsnum=</span>10</span></div>\n",
       "</div>\n",
       "<div class=\"word  hl\"  style=\"background-color: lightsalmon;\" >\n",
       "<div class=\"grk\">δὲ </div>\n",
       "<div class=\"features\"> <span class=\"anlex_lem xft\"><span class=\"f\">anlex_lem=</span>δέ</span> <span class=\"gloss xft\"><span class=\"f\">gloss=</span>but</span> <span class=\"ketiv xft\"><span class=\"f\">ketiv=</span>δὲ</span> <span class=\"morph xft\"><span class=\"f\">morph=</span>CONJ</span> <span class=\"morph_bkp xft\"><span class=\"f\">morph_bkp=</span>CONJ</span> <span class=\"qere xft\"><span class=\"f\">qere=</span>δὲ</span> <span class=\"str_lem xft\"><span class=\"f\">str_lem=</span>δέ</span> <span class=\"strongs xft\"><span class=\"f\">strongs=</span>1161</span> <span class=\"vrsnum xft\"><span class=\"f\">vrsnum=</span>11</span></div>\n",
       "</div>\n",
       "<div class=\"word  hl\"  style=\"background-color: lightsalmon;\" >\n",
       "<div class=\"grk\">ἐγέννησεν </div>\n",
       "<div class=\"features\"> <span class=\"anlex_lem xft\"><span class=\"f\">anlex_lem=</span>γεννάω</span> <span class=\"gloss xft\"><span class=\"f\">gloss=</span>to become the father of</span> <span class=\"ketiv xft\"><span class=\"f\">ketiv=</span>ἐγέννησεν</span> <span class=\"morph xft\"><span class=\"f\">morph=</span>verb-AAI-3S</span> <span class=\"morph_bkp xft\"><span class=\"f\">morph_bkp=</span>V-AAI-3S</span> <span class=\"qere xft\"><span class=\"f\">qere=</span>ἐγέννησεν</span> <span class=\"str_lem xft\"><span class=\"f\">str_lem=</span>γεννάω</span> <span class=\"strongs xft\"><span class=\"f\">strongs=</span>1080</span> <span class=\"vrsnum xft\"><span class=\"f\">vrsnum=</span>12</span></div>\n",
       "</div>\n",
       "<div class=\"word  hl\"  style=\"background-color: lightsalmon;\" >\n",
       "<div class=\"grk\">τὸν </div>\n",
       "<div class=\"features\"> <span class=\"anlex_lem xft\"><span class=\"f\">anlex_lem=</span>ὁ</span> <span class=\"gloss xft\"><span class=\"f\">gloss=</span>the</span> <span class=\"ketiv xft\"><span class=\"f\">ketiv=</span>τὸν</span> <span class=\"morph xft\"><span class=\"f\">morph=</span>T-ASM</span> <span class=\"morph_bkp xft\"><span class=\"f\">morph_bkp=</span>T-ASM</span> <span class=\"qere xft\"><span class=\"f\">qere=</span>τὸν</span> <span class=\"str_lem xft\"><span class=\"f\">str_lem=</span>ὁ</span> <span class=\"strongs xft\"><span class=\"f\">strongs=</span>3588</span> <span class=\"vrsnum xft\"><span class=\"f\">vrsnum=</span>13</span></div>\n",
       "</div>\n",
       "<div class=\"word  hl\"  style=\"background-color: lightsalmon;\" >\n",
       "<div class=\"grk\">Ἰούδαν </div>\n",
       "<div class=\"features\"> <span class=\"anlex_lem xft\"><span class=\"f\">anlex_lem=</span>Ἰούδας</span> <span class=\"gloss xft\"><span class=\"f\">gloss=</span>Joda</span> <span class=\"ketiv xft\"><span class=\"f\">ketiv=</span>Ἰούδαν</span> <span class=\"morph xft\"><span class=\"f\">morph=</span>noun-ASM</span> <span class=\"morph_bkp xft\"><span class=\"f\">morph_bkp=</span>N-ASM</span> <span class=\"qere xft\"><span class=\"f\">qere=</span>Ἰούδαν</span> <span class=\"str_lem xft\"><span class=\"f\">str_lem=</span>Ἰούδας</span> <span class=\"strongs xft\"><span class=\"f\">strongs=</span>2455</span> <span class=\"vrsnum xft\"><span class=\"f\">vrsnum=</span>14</span></div>\n",
       "</div>\n",
       "<div class=\"word  hl\"  style=\"background-color: lightsalmon;\" >\n",
       "<div class=\"grk\">καὶ </div>\n",
       "<div class=\"features\"> <span class=\"anlex_lem xft\"><span class=\"f\">anlex_lem=</span>καί</span> <span class=\"gloss xft\"><span class=\"f\">gloss=</span>and</span> <span class=\"ketiv xft\"><span class=\"f\">ketiv=</span>καὶ</span> <span class=\"morph xft\"><span class=\"f\">morph=</span>CONJ</span> <span class=\"morph_bkp xft\"><span class=\"f\">morph_bkp=</span>CONJ</span> <span class=\"qere xft\"><span class=\"f\">qere=</span>καὶ</span> <span class=\"str_lem xft\"><span class=\"f\">str_lem=</span>καί</span> <span class=\"strongs xft\"><span class=\"f\">strongs=</span>2532</span> <span class=\"vrsnum xft\"><span class=\"f\">vrsnum=</span>15</span></div>\n",
       "</div>\n",
       "<div class=\"word  hl\"  style=\"background-color: lightsalmon;\" >\n",
       "<div class=\"grk\">τοὺς </div>\n",
       "<div class=\"features\"> <span class=\"anlex_lem xft\"><span class=\"f\">anlex_lem=</span>ὁ</span> <span class=\"gloss xft\"><span class=\"f\">gloss=</span>the</span> <span class=\"ketiv xft\"><span class=\"f\">ketiv=</span>τοὺς</span> <span class=\"morph xft\"><span class=\"f\">morph=</span>T-APM</span> <span class=\"morph_bkp xft\"><span class=\"f\">morph_bkp=</span>T-APM</span> <span class=\"qere xft\"><span class=\"f\">qere=</span>τοὺς</span> <span class=\"str_lem xft\"><span class=\"f\">str_lem=</span>ὁ</span> <span class=\"strongs xft\"><span class=\"f\">strongs=</span>3588</span> <span class=\"vrsnum xft\"><span class=\"f\">vrsnum=</span>16</span></div>\n",
       "</div>\n",
       "<div class=\"word  hl\"  style=\"background-color: lightsalmon;\" >\n",
       "<div class=\"grk\">ἀδελφοὺς </div>\n",
       "<div class=\"features\"> <span class=\"anlex_lem xft\"><span class=\"f\">anlex_lem=</span>ἀδελφός</span> <span class=\"gloss xft\"><span class=\"f\">gloss=</span>brother</span> <span class=\"ketiv xft\"><span class=\"f\">ketiv=</span>ἀδελφοὺς</span> <span class=\"morph xft\"><span class=\"f\">morph=</span>noun-APM</span> <span class=\"morph_bkp xft\"><span class=\"f\">morph_bkp=</span>N-APM</span> <span class=\"qere xft\"><span class=\"f\">qere=</span>ἀδελφοὺς</span> <span class=\"str_lem xft\"><span class=\"f\">str_lem=</span>ἀδελφός</span> <span class=\"strongs xft\"><span class=\"f\">strongs=</span>80</span> <span class=\"vrsnum xft\"><span class=\"f\">vrsnum=</span>17</span></div>\n",
       "</div>\n",
       "<div class=\"word  hl\"  style=\"background-color: lightsalmon;\" >\n",
       "<div class=\"grk\">αὐτοῦ, </div>\n",
       "<div class=\"features\"> <span class=\"anlex_lem xft\"><span class=\"f\">anlex_lem=</span>αὐτός</span> <span class=\"gloss xft\"><span class=\"f\">gloss=</span>he</span> <span class=\"ketiv xft\"><span class=\"f\">ketiv=</span>αὐτοῦ,</span> <span class=\"morph xft\"><span class=\"f\">morph=</span>P-GSM</span> <span class=\"morph_bkp xft\"><span class=\"f\">morph_bkp=</span>P-GSM</span> <span class=\"qere xft\"><span class=\"f\">qere=</span>αὐτοῦ,</span> <span class=\"str_lem xft\"><span class=\"f\">str_lem=</span>αὐτός</span> <span class=\"strongs xft\"><span class=\"f\">strongs=</span>846</span> <span class=\"vrsnum xft\"><span class=\"f\">vrsnum=</span>18</span></div>\n",
       "</div>\n",
       "</div>\n",
       "</div>"
      ],
      "text/plain": [
       "<IPython.core.display.HTML object>"
      ]
     },
     "metadata": {},
     "output_type": "display_data"
    },
    {
     "data": {
      "text/html": [
       "<p><b>verse</b> <i>3</i></p>"
      ],
      "text/plain": [
       "<IPython.core.display.HTML object>"
      ]
     },
     "metadata": {},
     "output_type": "display_data"
    },
    {
     "data": {
      "text/html": [
       "<div class=\"outeritem\">\n",
       "<div class=\"verse  \" >\n",
       "\n",
       "    <div class=\"ll\">\n",
       "        <div class=\"line\"><a href=\"https://github.com/morphgnt/tischendorf-data/tree/master/word-per-line/2.8/Unicode/MT.txt\" title=\"see this passage in its source document\" sec=\"Matthew 1:3\">Matthew 1:3</a></div>\n",
       "\n",
       "        <div class=\"features\"></div>\n",
       "    </div>\n",
       "\n",
       "<div class=\"word  hl\"  style=\"background-color: lightsalmon;\" >\n",
       "<div class=\"grk\">Ἰούδας </div>\n",
       "<div class=\"features\"> <span class=\"anlex_lem xft\"><span class=\"f\">anlex_lem=</span>Ἰούδας</span> <span class=\"gloss xft\"><span class=\"f\">gloss=</span>Joda</span> <span class=\"ketiv xft\"><span class=\"f\">ketiv=</span>Ἰούδας</span> <span class=\"morph xft\"><span class=\"f\">morph=</span>noun-NSM</span> <span class=\"morph_bkp xft\"><span class=\"f\">morph_bkp=</span>N-NSM</span> <span class=\"qere xft\"><span class=\"f\">qere=</span>Ἰούδας</span> <span class=\"str_lem xft\"><span class=\"f\">str_lem=</span>Ἰούδας</span> <span class=\"strongs xft\"><span class=\"f\">strongs=</span>2455</span> <span class=\"vrsnum xft\"><span class=\"f\">vrsnum=</span>1</span></div>\n",
       "</div>\n",
       "<div class=\"word  hl\"  style=\"background-color: lightsalmon;\" >\n",
       "<div class=\"grk\">δὲ </div>\n",
       "<div class=\"features\"> <span class=\"anlex_lem xft\"><span class=\"f\">anlex_lem=</span>δέ</span> <span class=\"gloss xft\"><span class=\"f\">gloss=</span>but</span> <span class=\"ketiv xft\"><span class=\"f\">ketiv=</span>δὲ</span> <span class=\"morph xft\"><span class=\"f\">morph=</span>CONJ</span> <span class=\"morph_bkp xft\"><span class=\"f\">morph_bkp=</span>CONJ</span> <span class=\"qere xft\"><span class=\"f\">qere=</span>δὲ</span> <span class=\"str_lem xft\"><span class=\"f\">str_lem=</span>δέ</span> <span class=\"strongs xft\"><span class=\"f\">strongs=</span>1161</span> <span class=\"vrsnum xft\"><span class=\"f\">vrsnum=</span>2</span></div>\n",
       "</div>\n",
       "<div class=\"word  hl\"  style=\"background-color: lightsalmon;\" >\n",
       "<div class=\"grk\">ἐγέννησεν </div>\n",
       "<div class=\"features\"> <span class=\"anlex_lem xft\"><span class=\"f\">anlex_lem=</span>γεννάω</span> <span class=\"gloss xft\"><span class=\"f\">gloss=</span>to become the father of</span> <span class=\"ketiv xft\"><span class=\"f\">ketiv=</span>ἐγέννησεν</span> <span class=\"morph xft\"><span class=\"f\">morph=</span>verb-AAI-3S</span> <span class=\"morph_bkp xft\"><span class=\"f\">morph_bkp=</span>V-AAI-3S</span> <span class=\"qere xft\"><span class=\"f\">qere=</span>ἐγέννησεν</span> <span class=\"str_lem xft\"><span class=\"f\">str_lem=</span>γεννάω</span> <span class=\"strongs xft\"><span class=\"f\">strongs=</span>1080</span> <span class=\"vrsnum xft\"><span class=\"f\">vrsnum=</span>3</span></div>\n",
       "</div>\n",
       "<div class=\"word  hl\"  style=\"background-color: lightsalmon;\" >\n",
       "<div class=\"grk\">τὸν </div>\n",
       "<div class=\"features\"> <span class=\"anlex_lem xft\"><span class=\"f\">anlex_lem=</span>ὁ</span> <span class=\"gloss xft\"><span class=\"f\">gloss=</span>the</span> <span class=\"ketiv xft\"><span class=\"f\">ketiv=</span>τὸν</span> <span class=\"morph xft\"><span class=\"f\">morph=</span>T-ASM</span> <span class=\"morph_bkp xft\"><span class=\"f\">morph_bkp=</span>T-ASM</span> <span class=\"qere xft\"><span class=\"f\">qere=</span>τὸν</span> <span class=\"str_lem xft\"><span class=\"f\">str_lem=</span>ὁ</span> <span class=\"strongs xft\"><span class=\"f\">strongs=</span>3588</span> <span class=\"vrsnum xft\"><span class=\"f\">vrsnum=</span>4</span></div>\n",
       "</div>\n",
       "<div class=\"word  hl\"  style=\"background-color: lightsalmon;\" >\n",
       "<div class=\"grk\">Φάρες </div>\n",
       "<div class=\"features\"> <span class=\"anlex_lem xft\"><span class=\"f\">anlex_lem=</span>Φάρες</span> <span class=\"gloss xft\"><span class=\"f\">gloss=</span>Perez</span> <span class=\"ketiv xft\"><span class=\"f\">ketiv=</span>Φάρες</span> <span class=\"morph xft\"><span class=\"f\">morph=</span>noun-PRI</span> <span class=\"morph_bkp xft\"><span class=\"f\">morph_bkp=</span>N-PRI</span> <span class=\"qere xft\"><span class=\"f\">qere=</span>Φάρες</span> <span class=\"str_lem xft\"><span class=\"f\">str_lem=</span>Φάρες</span> <span class=\"strongs xft\"><span class=\"f\">strongs=</span>5329</span> <span class=\"vrsnum xft\"><span class=\"f\">vrsnum=</span>5</span></div>\n",
       "</div>\n",
       "<div class=\"word  hl\"  style=\"background-color: lightsalmon;\" >\n",
       "<div class=\"grk\">καὶ </div>\n",
       "<div class=\"features\"> <span class=\"anlex_lem xft\"><span class=\"f\">anlex_lem=</span>καί</span> <span class=\"gloss xft\"><span class=\"f\">gloss=</span>and</span> <span class=\"ketiv xft\"><span class=\"f\">ketiv=</span>καὶ</span> <span class=\"morph xft\"><span class=\"f\">morph=</span>CONJ</span> <span class=\"morph_bkp xft\"><span class=\"f\">morph_bkp=</span>CONJ</span> <span class=\"qere xft\"><span class=\"f\">qere=</span>καὶ</span> <span class=\"str_lem xft\"><span class=\"f\">str_lem=</span>καί</span> <span class=\"strongs xft\"><span class=\"f\">strongs=</span>2532</span> <span class=\"vrsnum xft\"><span class=\"f\">vrsnum=</span>6</span></div>\n",
       "</div>\n",
       "<div class=\"word  hl\"  style=\"background-color: lightsalmon;\" >\n",
       "<div class=\"grk\">τὸν </div>\n",
       "<div class=\"features\"> <span class=\"anlex_lem xft\"><span class=\"f\">anlex_lem=</span>ὁ</span> <span class=\"gloss xft\"><span class=\"f\">gloss=</span>the</span> <span class=\"ketiv xft\"><span class=\"f\">ketiv=</span>τὸν</span> <span class=\"morph xft\"><span class=\"f\">morph=</span>T-ASM</span> <span class=\"morph_bkp xft\"><span class=\"f\">morph_bkp=</span>T-ASM</span> <span class=\"qere xft\"><span class=\"f\">qere=</span>τὸν</span> <span class=\"str_lem xft\"><span class=\"f\">str_lem=</span>ὁ</span> <span class=\"strongs xft\"><span class=\"f\">strongs=</span>3588</span> <span class=\"vrsnum xft\"><span class=\"f\">vrsnum=</span>7</span></div>\n",
       "</div>\n",
       "<div class=\"word  hl\"  style=\"background-color: lightsalmon;\" >\n",
       "<div class=\"grk\">Ζάρα </div>\n",
       "<div class=\"features\"> <span class=\"anlex_lem xft\"><span class=\"f\">anlex_lem=</span>Ζάρα</span> <span class=\"gloss xft\"><span class=\"f\">gloss=</span>Zerah</span> <span class=\"ketiv xft\"><span class=\"f\">ketiv=</span>Ζάρα</span> <span class=\"morph xft\"><span class=\"f\">morph=</span>noun-PRI</span> <span class=\"morph_bkp xft\"><span class=\"f\">morph_bkp=</span>N-PRI</span> <span class=\"qere xft\"><span class=\"f\">qere=</span>Ζάρα</span> <span class=\"str_lem xft\"><span class=\"f\">str_lem=</span>Ζαρά</span> <span class=\"strongs xft\"><span class=\"f\">strongs=</span>2196</span> <span class=\"vrsnum xft\"><span class=\"f\">vrsnum=</span>8</span></div>\n",
       "</div>\n",
       "<div class=\"word  hl\"  style=\"background-color: lightsalmon;\" >\n",
       "<div class=\"grk\">ἐκ </div>\n",
       "<div class=\"features\"> <span class=\"anlex_lem xft\"><span class=\"f\">anlex_lem=</span>ἐκ</span> <span class=\"gloss xft\"><span class=\"f\">gloss=</span>of</span> <span class=\"ketiv xft\"><span class=\"f\">ketiv=</span>ἐκ</span> <span class=\"morph xft\"><span class=\"f\">morph=</span>PREP</span> <span class=\"morph_bkp xft\"><span class=\"f\">morph_bkp=</span>PREP</span> <span class=\"qere xft\"><span class=\"f\">qere=</span>ἐκ</span> <span class=\"str_lem xft\"><span class=\"f\">str_lem=</span>ἐκ</span> <span class=\"strongs xft\"><span class=\"f\">strongs=</span>1537</span> <span class=\"vrsnum xft\"><span class=\"f\">vrsnum=</span>9</span></div>\n",
       "</div>\n",
       "<div class=\"word  hl\"  style=\"background-color: lightsalmon;\" >\n",
       "<div class=\"grk\">τῆς </div>\n",
       "<div class=\"features\"> <span class=\"anlex_lem xft\"><span class=\"f\">anlex_lem=</span>ὁ</span> <span class=\"gloss xft\"><span class=\"f\">gloss=</span>the</span> <span class=\"ketiv xft\"><span class=\"f\">ketiv=</span>τῆς</span> <span class=\"morph xft\"><span class=\"f\">morph=</span>T-GSF</span> <span class=\"morph_bkp xft\"><span class=\"f\">morph_bkp=</span>T-GSF</span> <span class=\"qere xft\"><span class=\"f\">qere=</span>τῆς</span> <span class=\"str_lem xft\"><span class=\"f\">str_lem=</span>ὁ</span> <span class=\"strongs xft\"><span class=\"f\">strongs=</span>3588</span> <span class=\"vrsnum xft\"><span class=\"f\">vrsnum=</span>10</span></div>\n",
       "</div>\n",
       "<div class=\"word  hl\"  style=\"background-color: lightsalmon;\" >\n",
       "<div class=\"grk\">Θαμάρ, </div>\n",
       "<div class=\"features\"> <span class=\"anlex_lem xft\"><span class=\"f\">anlex_lem=</span>Θαμάρ</span> <span class=\"gloss xft\"><span class=\"f\">gloss=</span>Tamar</span> <span class=\"ketiv xft\"><span class=\"f\">ketiv=</span>Θαμάρ,</span> <span class=\"morph xft\"><span class=\"f\">morph=</span>noun-PRI</span> <span class=\"morph_bkp xft\"><span class=\"f\">morph_bkp=</span>N-PRI</span> <span class=\"qere xft\"><span class=\"f\">qere=</span>Θαμάρ,</span> <span class=\"str_lem xft\"><span class=\"f\">str_lem=</span>Θάμαρ</span> <span class=\"strongs xft\"><span class=\"f\">strongs=</span>2283</span> <span class=\"vrsnum xft\"><span class=\"f\">vrsnum=</span>11</span></div>\n",
       "</div>\n",
       "<div class=\"word  hl\"  style=\"background-color: lightsalmon;\" >\n",
       "<div class=\"grk\">Φάρες </div>\n",
       "<div class=\"features\"> <span class=\"anlex_lem xft\"><span class=\"f\">anlex_lem=</span>Φάρες</span> <span class=\"gloss xft\"><span class=\"f\">gloss=</span>Perez</span> <span class=\"ketiv xft\"><span class=\"f\">ketiv=</span>Φάρες</span> <span class=\"morph xft\"><span class=\"f\">morph=</span>noun-PRI</span> <span class=\"morph_bkp xft\"><span class=\"f\">morph_bkp=</span>N-PRI</span> <span class=\"qere xft\"><span class=\"f\">qere=</span>Φάρες</span> <span class=\"str_lem xft\"><span class=\"f\">str_lem=</span>Φάρες</span> <span class=\"strongs xft\"><span class=\"f\">strongs=</span>5329</span> <span class=\"vrsnum xft\"><span class=\"f\">vrsnum=</span>12</span></div>\n",
       "</div>\n",
       "<div class=\"word  hl\"  style=\"background-color: lightsalmon;\" >\n",
       "<div class=\"grk\">δὲ </div>\n",
       "<div class=\"features\"> <span class=\"anlex_lem xft\"><span class=\"f\">anlex_lem=</span>δέ</span> <span class=\"gloss xft\"><span class=\"f\">gloss=</span>but</span> <span class=\"ketiv xft\"><span class=\"f\">ketiv=</span>δὲ</span> <span class=\"morph xft\"><span class=\"f\">morph=</span>CONJ</span> <span class=\"morph_bkp xft\"><span class=\"f\">morph_bkp=</span>CONJ</span> <span class=\"qere xft\"><span class=\"f\">qere=</span>δὲ</span> <span class=\"str_lem xft\"><span class=\"f\">str_lem=</span>δέ</span> <span class=\"strongs xft\"><span class=\"f\">strongs=</span>1161</span> <span class=\"vrsnum xft\"><span class=\"f\">vrsnum=</span>13</span></div>\n",
       "</div>\n",
       "<div class=\"word  hl\"  style=\"background-color: lightsalmon;\" >\n",
       "<div class=\"grk\">ἐγέννησεν </div>\n",
       "<div class=\"features\"> <span class=\"anlex_lem xft\"><span class=\"f\">anlex_lem=</span>γεννάω</span> <span class=\"gloss xft\"><span class=\"f\">gloss=</span>to become the father of</span> <span class=\"ketiv xft\"><span class=\"f\">ketiv=</span>ἐγέννησεν</span> <span class=\"morph xft\"><span class=\"f\">morph=</span>verb-AAI-3S</span> <span class=\"morph_bkp xft\"><span class=\"f\">morph_bkp=</span>V-AAI-3S</span> <span class=\"qere xft\"><span class=\"f\">qere=</span>ἐγέννησεν</span> <span class=\"str_lem xft\"><span class=\"f\">str_lem=</span>γεννάω</span> <span class=\"strongs xft\"><span class=\"f\">strongs=</span>1080</span> <span class=\"vrsnum xft\"><span class=\"f\">vrsnum=</span>14</span></div>\n",
       "</div>\n",
       "<div class=\"word  hl\"  style=\"background-color: lightsalmon;\" >\n",
       "<div class=\"grk\">τὸν </div>\n",
       "<div class=\"features\"> <span class=\"anlex_lem xft\"><span class=\"f\">anlex_lem=</span>ὁ</span> <span class=\"gloss xft\"><span class=\"f\">gloss=</span>the</span> <span class=\"ketiv xft\"><span class=\"f\">ketiv=</span>τὸν</span> <span class=\"morph xft\"><span class=\"f\">morph=</span>T-ASM</span> <span class=\"morph_bkp xft\"><span class=\"f\">morph_bkp=</span>T-ASM</span> <span class=\"qere xft\"><span class=\"f\">qere=</span>τὸν</span> <span class=\"str_lem xft\"><span class=\"f\">str_lem=</span>ὁ</span> <span class=\"strongs xft\"><span class=\"f\">strongs=</span>3588</span> <span class=\"vrsnum xft\"><span class=\"f\">vrsnum=</span>15</span></div>\n",
       "</div>\n",
       "<div class=\"word  hl\"  style=\"background-color: lightsalmon;\" >\n",
       "<div class=\"grk\">Ἑσρώμ, </div>\n",
       "<div class=\"features\"> <span class=\"anlex_lem xft\"><span class=\"f\">anlex_lem=</span>Ἑσρώμ</span> <span class=\"gloss xft\"><span class=\"f\">gloss=</span>Hezron</span> <span class=\"ketiv xft\"><span class=\"f\">ketiv=</span>Ἑσρώμ,</span> <span class=\"morph xft\"><span class=\"f\">morph=</span>noun-PRI</span> <span class=\"morph_bkp xft\"><span class=\"f\">morph_bkp=</span>N-PRI</span> <span class=\"qere xft\"><span class=\"f\">qere=</span>Ἑσρώμ,</span> <span class=\"str_lem xft\"><span class=\"f\">str_lem=</span>Ἐσρώμ</span> <span class=\"strongs xft\"><span class=\"f\">strongs=</span>2074</span> <span class=\"vrsnum xft\"><span class=\"f\">vrsnum=</span>16</span></div>\n",
       "</div>\n",
       "<div class=\"word  hl\"  style=\"background-color: lightsalmon;\" >\n",
       "<div class=\"grk\">Ἑσρὼμ </div>\n",
       "<div class=\"features\"> <span class=\"anlex_lem xft\"><span class=\"f\">anlex_lem=</span>Ἑσρώμ</span> <span class=\"gloss xft\"><span class=\"f\">gloss=</span>Hezron</span> <span class=\"ketiv xft\"><span class=\"f\">ketiv=</span>Ἑσρὼμ</span> <span class=\"morph xft\"><span class=\"f\">morph=</span>noun-PRI</span> <span class=\"morph_bkp xft\"><span class=\"f\">morph_bkp=</span>N-PRI</span> <span class=\"qere xft\"><span class=\"f\">qere=</span>Ἑσρὼμ</span> <span class=\"str_lem xft\"><span class=\"f\">str_lem=</span>Ἐσρώμ</span> <span class=\"strongs xft\"><span class=\"f\">strongs=</span>2074</span> <span class=\"vrsnum xft\"><span class=\"f\">vrsnum=</span>17</span></div>\n",
       "</div>\n",
       "<div class=\"word  hl\"  style=\"background-color: lightsalmon;\" >\n",
       "<div class=\"grk\">δὲ </div>\n",
       "<div class=\"features\"> <span class=\"anlex_lem xft\"><span class=\"f\">anlex_lem=</span>δέ</span> <span class=\"gloss xft\"><span class=\"f\">gloss=</span>but</span> <span class=\"ketiv xft\"><span class=\"f\">ketiv=</span>δὲ</span> <span class=\"morph xft\"><span class=\"f\">morph=</span>CONJ</span> <span class=\"morph_bkp xft\"><span class=\"f\">morph_bkp=</span>CONJ</span> <span class=\"qere xft\"><span class=\"f\">qere=</span>δὲ</span> <span class=\"str_lem xft\"><span class=\"f\">str_lem=</span>δέ</span> <span class=\"strongs xft\"><span class=\"f\">strongs=</span>1161</span> <span class=\"vrsnum xft\"><span class=\"f\">vrsnum=</span>18</span></div>\n",
       "</div>\n",
       "<div class=\"word  hl\"  style=\"background-color: lightsalmon;\" >\n",
       "<div class=\"grk\">ἐγέννησεν </div>\n",
       "<div class=\"features\"> <span class=\"anlex_lem xft\"><span class=\"f\">anlex_lem=</span>γεννάω</span> <span class=\"gloss xft\"><span class=\"f\">gloss=</span>to become the father of</span> <span class=\"ketiv xft\"><span class=\"f\">ketiv=</span>ἐγέννησεν</span> <span class=\"morph xft\"><span class=\"f\">morph=</span>verb-AAI-3S</span> <span class=\"morph_bkp xft\"><span class=\"f\">morph_bkp=</span>V-AAI-3S</span> <span class=\"qere xft\"><span class=\"f\">qere=</span>ἐγέννησεν</span> <span class=\"str_lem xft\"><span class=\"f\">str_lem=</span>γεννάω</span> <span class=\"strongs xft\"><span class=\"f\">strongs=</span>1080</span> <span class=\"vrsnum xft\"><span class=\"f\">vrsnum=</span>19</span></div>\n",
       "</div>\n",
       "<div class=\"word  hl\"  style=\"background-color: lightsalmon;\" >\n",
       "<div class=\"grk\">τὸν </div>\n",
       "<div class=\"features\"> <span class=\"anlex_lem xft\"><span class=\"f\">anlex_lem=</span>ὁ</span> <span class=\"gloss xft\"><span class=\"f\">gloss=</span>the</span> <span class=\"ketiv xft\"><span class=\"f\">ketiv=</span>τὸν</span> <span class=\"morph xft\"><span class=\"f\">morph=</span>T-ASM</span> <span class=\"morph_bkp xft\"><span class=\"f\">morph_bkp=</span>T-ASM</span> <span class=\"qere xft\"><span class=\"f\">qere=</span>τὸν</span> <span class=\"str_lem xft\"><span class=\"f\">str_lem=</span>ὁ</span> <span class=\"strongs xft\"><span class=\"f\">strongs=</span>3588</span> <span class=\"vrsnum xft\"><span class=\"f\">vrsnum=</span>20</span></div>\n",
       "</div>\n",
       "<div class=\"word  hl\"  style=\"background-color: lightsalmon;\" >\n",
       "<div class=\"grk\">Ἀράμ, </div>\n",
       "<div class=\"features\"> <span class=\"anlex_lem xft\"><span class=\"f\">anlex_lem=</span>Ἀράμ</span> <span class=\"gloss xft\"><span class=\"f\">gloss=</span>Ram</span> <span class=\"ketiv xft\"><span class=\"f\">ketiv=</span>Ἀράμ,</span> <span class=\"morph xft\"><span class=\"f\">morph=</span>noun-PRI</span> <span class=\"morph_bkp xft\"><span class=\"f\">morph_bkp=</span>N-PRI</span> <span class=\"qere xft\"><span class=\"f\">qere=</span>Ἀράμ,</span> <span class=\"str_lem xft\"><span class=\"f\">str_lem=</span>Ἀράμ</span> <span class=\"strongs xft\"><span class=\"f\">strongs=</span>689</span> <span class=\"vrsnum xft\"><span class=\"f\">vrsnum=</span>21</span></div>\n",
       "</div>\n",
       "</div>\n",
       "</div>"
      ],
      "text/plain": [
       "<IPython.core.display.HTML object>"
      ]
     },
     "metadata": {},
     "output_type": "display_data"
    },
    {
     "data": {
      "text/html": [
       "<p><b>verse</b> <i>4</i></p>"
      ],
      "text/plain": [
       "<IPython.core.display.HTML object>"
      ]
     },
     "metadata": {},
     "output_type": "display_data"
    },
    {
     "data": {
      "text/html": [
       "<div class=\"outeritem\">\n",
       "<div class=\"verse  \" >\n",
       "\n",
       "    <div class=\"ll\">\n",
       "        <div class=\"line\"><a href=\"https://github.com/morphgnt/tischendorf-data/tree/master/word-per-line/2.8/Unicode/MT.txt\" title=\"see this passage in its source document\" sec=\"Matthew 1:4\">Matthew 1:4</a></div>\n",
       "\n",
       "        <div class=\"features\"></div>\n",
       "    </div>\n",
       "\n",
       "<div class=\"word  hl\"  style=\"background-color: lightsalmon;\" >\n",
       "<div class=\"grk\">Ἀρὰμ </div>\n",
       "<div class=\"features\"> <span class=\"anlex_lem xft\"><span class=\"f\">anlex_lem=</span>Ἀράμ</span> <span class=\"gloss xft\"><span class=\"f\">gloss=</span>Ram</span> <span class=\"ketiv xft\"><span class=\"f\">ketiv=</span>Ἀρὰμ</span> <span class=\"morph xft\"><span class=\"f\">morph=</span>noun-PRI</span> <span class=\"morph_bkp xft\"><span class=\"f\">morph_bkp=</span>N-PRI</span> <span class=\"qere xft\"><span class=\"f\">qere=</span>Ἀρὰμ</span> <span class=\"str_lem xft\"><span class=\"f\">str_lem=</span>Ἀράμ</span> <span class=\"strongs xft\"><span class=\"f\">strongs=</span>689</span> <span class=\"vrsnum xft\"><span class=\"f\">vrsnum=</span>1</span></div>\n",
       "</div>\n",
       "<div class=\"word  hl\"  style=\"background-color: lightsalmon;\" >\n",
       "<div class=\"grk\">δὲ </div>\n",
       "<div class=\"features\"> <span class=\"anlex_lem xft\"><span class=\"f\">anlex_lem=</span>δέ</span> <span class=\"gloss xft\"><span class=\"f\">gloss=</span>but</span> <span class=\"ketiv xft\"><span class=\"f\">ketiv=</span>δὲ</span> <span class=\"morph xft\"><span class=\"f\">morph=</span>CONJ</span> <span class=\"morph_bkp xft\"><span class=\"f\">morph_bkp=</span>CONJ</span> <span class=\"qere xft\"><span class=\"f\">qere=</span>δὲ</span> <span class=\"str_lem xft\"><span class=\"f\">str_lem=</span>δέ</span> <span class=\"strongs xft\"><span class=\"f\">strongs=</span>1161</span> <span class=\"vrsnum xft\"><span class=\"f\">vrsnum=</span>2</span></div>\n",
       "</div>\n",
       "<div class=\"word  hl\"  style=\"background-color: lightsalmon;\" >\n",
       "<div class=\"grk\">ἐγέννησεν </div>\n",
       "<div class=\"features\"> <span class=\"anlex_lem xft\"><span class=\"f\">anlex_lem=</span>γεννάω</span> <span class=\"gloss xft\"><span class=\"f\">gloss=</span>to become the father of</span> <span class=\"ketiv xft\"><span class=\"f\">ketiv=</span>ἐγέννησεν</span> <span class=\"morph xft\"><span class=\"f\">morph=</span>verb-AAI-3S</span> <span class=\"morph_bkp xft\"><span class=\"f\">morph_bkp=</span>V-AAI-3S</span> <span class=\"qere xft\"><span class=\"f\">qere=</span>ἐγέννησεν</span> <span class=\"str_lem xft\"><span class=\"f\">str_lem=</span>γεννάω</span> <span class=\"strongs xft\"><span class=\"f\">strongs=</span>1080</span> <span class=\"vrsnum xft\"><span class=\"f\">vrsnum=</span>3</span></div>\n",
       "</div>\n",
       "<div class=\"word  hl\"  style=\"background-color: lightsalmon;\" >\n",
       "<div class=\"grk\">τὸν </div>\n",
       "<div class=\"features\"> <span class=\"anlex_lem xft\"><span class=\"f\">anlex_lem=</span>ὁ</span> <span class=\"gloss xft\"><span class=\"f\">gloss=</span>the</span> <span class=\"ketiv xft\"><span class=\"f\">ketiv=</span>τὸν</span> <span class=\"morph xft\"><span class=\"f\">morph=</span>T-ASM</span> <span class=\"morph_bkp xft\"><span class=\"f\">morph_bkp=</span>T-ASM</span> <span class=\"qere xft\"><span class=\"f\">qere=</span>τὸν</span> <span class=\"str_lem xft\"><span class=\"f\">str_lem=</span>ὁ</span> <span class=\"strongs xft\"><span class=\"f\">strongs=</span>3588</span> <span class=\"vrsnum xft\"><span class=\"f\">vrsnum=</span>4</span></div>\n",
       "</div>\n",
       "<div class=\"word  hl\"  style=\"background-color: lightsalmon;\" >\n",
       "<div class=\"grk\">Ἀμιναδάβ, </div>\n",
       "<div class=\"features\"> <span class=\"anlex_lem xft\"><span class=\"f\">anlex_lem=</span>Ἀμιναδάβ</span> <span class=\"gloss xft\"><span class=\"f\">gloss=</span>Amminadab</span> <span class=\"ketiv xft\"><span class=\"f\">ketiv=</span>Ἀμιναδάβ,</span> <span class=\"morph xft\"><span class=\"f\">morph=</span>noun-PRI</span> <span class=\"morph_bkp xft\"><span class=\"f\">morph_bkp=</span>N-PRI</span> <span class=\"qere xft\"><span class=\"f\">qere=</span>Ἀμιναδάβ,</span> <span class=\"str_lem xft\"><span class=\"f\">str_lem=</span>Ἀμιναδάβ</span> <span class=\"strongs xft\"><span class=\"f\">strongs=</span>284</span> <span class=\"vrsnum xft\"><span class=\"f\">vrsnum=</span>5</span></div>\n",
       "</div>\n",
       "<div class=\"word  hl\"  style=\"background-color: lightsalmon;\" >\n",
       "<div class=\"grk\">Ἀμιναδὰβ </div>\n",
       "<div class=\"features\"> <span class=\"anlex_lem xft\"><span class=\"f\">anlex_lem=</span>Ἀμιναδάβ</span> <span class=\"gloss xft\"><span class=\"f\">gloss=</span>Amminadab</span> <span class=\"ketiv xft\"><span class=\"f\">ketiv=</span>Ἀμιναδὰβ</span> <span class=\"morph xft\"><span class=\"f\">morph=</span>noun-PRI</span> <span class=\"morph_bkp xft\"><span class=\"f\">morph_bkp=</span>N-PRI</span> <span class=\"qere xft\"><span class=\"f\">qere=</span>Ἀμιναδὰβ</span> <span class=\"str_lem xft\"><span class=\"f\">str_lem=</span>Ἀμιναδάβ</span> <span class=\"strongs xft\"><span class=\"f\">strongs=</span>284</span> <span class=\"vrsnum xft\"><span class=\"f\">vrsnum=</span>6</span></div>\n",
       "</div>\n",
       "<div class=\"word  hl\"  style=\"background-color: lightsalmon;\" >\n",
       "<div class=\"grk\">δὲ </div>\n",
       "<div class=\"features\"> <span class=\"anlex_lem xft\"><span class=\"f\">anlex_lem=</span>δέ</span> <span class=\"gloss xft\"><span class=\"f\">gloss=</span>but</span> <span class=\"ketiv xft\"><span class=\"f\">ketiv=</span>δὲ</span> <span class=\"morph xft\"><span class=\"f\">morph=</span>CONJ</span> <span class=\"morph_bkp xft\"><span class=\"f\">morph_bkp=</span>CONJ</span> <span class=\"qere xft\"><span class=\"f\">qere=</span>δὲ</span> <span class=\"str_lem xft\"><span class=\"f\">str_lem=</span>δέ</span> <span class=\"strongs xft\"><span class=\"f\">strongs=</span>1161</span> <span class=\"vrsnum xft\"><span class=\"f\">vrsnum=</span>7</span></div>\n",
       "</div>\n",
       "<div class=\"word  hl\"  style=\"background-color: lightsalmon;\" >\n",
       "<div class=\"grk\">ἐγέννησεν </div>\n",
       "<div class=\"features\"> <span class=\"anlex_lem xft\"><span class=\"f\">anlex_lem=</span>γεννάω</span> <span class=\"gloss xft\"><span class=\"f\">gloss=</span>to become the father of</span> <span class=\"ketiv xft\"><span class=\"f\">ketiv=</span>ἐγέννησεν</span> <span class=\"morph xft\"><span class=\"f\">morph=</span>verb-AAI-3S</span> <span class=\"morph_bkp xft\"><span class=\"f\">morph_bkp=</span>V-AAI-3S</span> <span class=\"qere xft\"><span class=\"f\">qere=</span>ἐγέννησεν</span> <span class=\"str_lem xft\"><span class=\"f\">str_lem=</span>γεννάω</span> <span class=\"strongs xft\"><span class=\"f\">strongs=</span>1080</span> <span class=\"vrsnum xft\"><span class=\"f\">vrsnum=</span>8</span></div>\n",
       "</div>\n",
       "<div class=\"word  hl\"  style=\"background-color: lightsalmon;\" >\n",
       "<div class=\"grk\">τὸν </div>\n",
       "<div class=\"features\"> <span class=\"anlex_lem xft\"><span class=\"f\">anlex_lem=</span>ὁ</span> <span class=\"gloss xft\"><span class=\"f\">gloss=</span>the</span> <span class=\"ketiv xft\"><span class=\"f\">ketiv=</span>τὸν</span> <span class=\"morph xft\"><span class=\"f\">morph=</span>T-ASM</span> <span class=\"morph_bkp xft\"><span class=\"f\">morph_bkp=</span>T-ASM</span> <span class=\"qere xft\"><span class=\"f\">qere=</span>τὸν</span> <span class=\"str_lem xft\"><span class=\"f\">str_lem=</span>ὁ</span> <span class=\"strongs xft\"><span class=\"f\">strongs=</span>3588</span> <span class=\"vrsnum xft\"><span class=\"f\">vrsnum=</span>9</span></div>\n",
       "</div>\n",
       "<div class=\"word  hl\"  style=\"background-color: lightsalmon;\" >\n",
       "<div class=\"grk\">Ναασσών, </div>\n",
       "<div class=\"features\"> <span class=\"anlex_lem xft\"><span class=\"f\">anlex_lem=</span>Ναασσών</span> <span class=\"gloss xft\"><span class=\"f\">gloss=</span>Nahshon</span> <span class=\"ketiv xft\"><span class=\"f\">ketiv=</span>Ναασσών,</span> <span class=\"morph xft\"><span class=\"f\">morph=</span>noun-PRI</span> <span class=\"morph_bkp xft\"><span class=\"f\">morph_bkp=</span>N-PRI</span> <span class=\"qere xft\"><span class=\"f\">qere=</span>Ναασσών,</span> <span class=\"str_lem xft\"><span class=\"f\">str_lem=</span>Ναασσών</span> <span class=\"strongs xft\"><span class=\"f\">strongs=</span>3476</span> <span class=\"vrsnum xft\"><span class=\"f\">vrsnum=</span>10</span></div>\n",
       "</div>\n",
       "<div class=\"word  hl\"  style=\"background-color: lightsalmon;\" >\n",
       "<div class=\"grk\">Ναασσὼν </div>\n",
       "<div class=\"features\"> <span class=\"anlex_lem xft\"><span class=\"f\">anlex_lem=</span>Ναασσών</span> <span class=\"gloss xft\"><span class=\"f\">gloss=</span>Nahshon</span> <span class=\"ketiv xft\"><span class=\"f\">ketiv=</span>Ναασσὼν</span> <span class=\"morph xft\"><span class=\"f\">morph=</span>noun-PRI</span> <span class=\"morph_bkp xft\"><span class=\"f\">morph_bkp=</span>N-PRI</span> <span class=\"qere xft\"><span class=\"f\">qere=</span>Ναασσὼν</span> <span class=\"str_lem xft\"><span class=\"f\">str_lem=</span>Ναασσών</span> <span class=\"strongs xft\"><span class=\"f\">strongs=</span>3476</span> <span class=\"vrsnum xft\"><span class=\"f\">vrsnum=</span>11</span></div>\n",
       "</div>\n",
       "<div class=\"word  hl\"  style=\"background-color: lightsalmon;\" >\n",
       "<div class=\"grk\">δὲ </div>\n",
       "<div class=\"features\"> <span class=\"anlex_lem xft\"><span class=\"f\">anlex_lem=</span>δέ</span> <span class=\"gloss xft\"><span class=\"f\">gloss=</span>but</span> <span class=\"ketiv xft\"><span class=\"f\">ketiv=</span>δὲ</span> <span class=\"morph xft\"><span class=\"f\">morph=</span>CONJ</span> <span class=\"morph_bkp xft\"><span class=\"f\">morph_bkp=</span>CONJ</span> <span class=\"qere xft\"><span class=\"f\">qere=</span>δὲ</span> <span class=\"str_lem xft\"><span class=\"f\">str_lem=</span>δέ</span> <span class=\"strongs xft\"><span class=\"f\">strongs=</span>1161</span> <span class=\"vrsnum xft\"><span class=\"f\">vrsnum=</span>12</span></div>\n",
       "</div>\n",
       "<div class=\"word  hl\"  style=\"background-color: lightsalmon;\" >\n",
       "<div class=\"grk\">ἐγέννησεν </div>\n",
       "<div class=\"features\"> <span class=\"anlex_lem xft\"><span class=\"f\">anlex_lem=</span>γεννάω</span> <span class=\"gloss xft\"><span class=\"f\">gloss=</span>to become the father of</span> <span class=\"ketiv xft\"><span class=\"f\">ketiv=</span>ἐγέννησεν</span> <span class=\"morph xft\"><span class=\"f\">morph=</span>verb-AAI-3S</span> <span class=\"morph_bkp xft\"><span class=\"f\">morph_bkp=</span>V-AAI-3S</span> <span class=\"qere xft\"><span class=\"f\">qere=</span>ἐγέννησεν</span> <span class=\"str_lem xft\"><span class=\"f\">str_lem=</span>γεννάω</span> <span class=\"strongs xft\"><span class=\"f\">strongs=</span>1080</span> <span class=\"vrsnum xft\"><span class=\"f\">vrsnum=</span>13</span></div>\n",
       "</div>\n",
       "<div class=\"word  hl\"  style=\"background-color: lightsalmon;\" >\n",
       "<div class=\"grk\">τὸν </div>\n",
       "<div class=\"features\"> <span class=\"anlex_lem xft\"><span class=\"f\">anlex_lem=</span>ὁ</span> <span class=\"gloss xft\"><span class=\"f\">gloss=</span>the</span> <span class=\"ketiv xft\"><span class=\"f\">ketiv=</span>τὸν</span> <span class=\"morph xft\"><span class=\"f\">morph=</span>T-ASM</span> <span class=\"morph_bkp xft\"><span class=\"f\">morph_bkp=</span>T-ASM</span> <span class=\"qere xft\"><span class=\"f\">qere=</span>τὸν</span> <span class=\"str_lem xft\"><span class=\"f\">str_lem=</span>ὁ</span> <span class=\"strongs xft\"><span class=\"f\">strongs=</span>3588</span> <span class=\"vrsnum xft\"><span class=\"f\">vrsnum=</span>14</span></div>\n",
       "</div>\n",
       "<div class=\"word  hl\"  style=\"background-color: lightsalmon;\" >\n",
       "<div class=\"grk\">Σαλμών, </div>\n",
       "<div class=\"features\"> <span class=\"anlex_lem xft\"><span class=\"f\">anlex_lem=</span>Σαλμών</span> <span class=\"gloss xft\"><span class=\"f\">gloss=</span>Salmon</span> <span class=\"ketiv xft\"><span class=\"f\">ketiv=</span>Σαλμών,</span> <span class=\"morph xft\"><span class=\"f\">morph=</span>noun-PRI</span> <span class=\"morph_bkp xft\"><span class=\"f\">morph_bkp=</span>N-PRI</span> <span class=\"qere xft\"><span class=\"f\">qere=</span>Σαλμών,</span> <span class=\"str_lem xft\"><span class=\"f\">str_lem=</span>Σαλμών</span> <span class=\"strongs xft\"><span class=\"f\">strongs=</span>4533</span> <span class=\"vrsnum xft\"><span class=\"f\">vrsnum=</span>15</span></div>\n",
       "</div>\n",
       "</div>\n",
       "</div>"
      ],
      "text/plain": [
       "<IPython.core.display.HTML object>"
      ]
     },
     "metadata": {},
     "output_type": "display_data"
    },
    {
     "data": {
      "text/html": [
       "<p><b>verse</b> <i>5</i></p>"
      ],
      "text/plain": [
       "<IPython.core.display.HTML object>"
      ]
     },
     "metadata": {},
     "output_type": "display_data"
    },
    {
     "data": {
      "text/html": [
       "<div class=\"outeritem\">\n",
       "<div class=\"verse  \" >\n",
       "\n",
       "    <div class=\"ll\">\n",
       "        <div class=\"line\"><a href=\"https://github.com/morphgnt/tischendorf-data/tree/master/word-per-line/2.8/Unicode/MT.txt\" title=\"see this passage in its source document\" sec=\"Matthew 1:5\">Matthew 1:5</a></div>\n",
       "\n",
       "        <div class=\"features\"></div>\n",
       "    </div>\n",
       "\n",
       "<div class=\"word  hl\"  style=\"background-color: lightsalmon;\" >\n",
       "<div class=\"grk\">Σαλμὼν </div>\n",
       "<div class=\"features\"> <span class=\"anlex_lem xft\"><span class=\"f\">anlex_lem=</span>Σαλμών</span> <span class=\"gloss xft\"><span class=\"f\">gloss=</span>Salmon</span> <span class=\"ketiv xft\"><span class=\"f\">ketiv=</span>Σαλμὼν</span> <span class=\"morph xft\"><span class=\"f\">morph=</span>noun-PRI</span> <span class=\"morph_bkp xft\"><span class=\"f\">morph_bkp=</span>N-PRI</span> <span class=\"qere xft\"><span class=\"f\">qere=</span>Σαλμὼν</span> <span class=\"str_lem xft\"><span class=\"f\">str_lem=</span>Σαλμών</span> <span class=\"strongs xft\"><span class=\"f\">strongs=</span>4533</span> <span class=\"vrsnum xft\"><span class=\"f\">vrsnum=</span>1</span></div>\n",
       "</div>\n",
       "<div class=\"word  hl\"  style=\"background-color: lightsalmon;\" >\n",
       "<div class=\"grk\">δὲ </div>\n",
       "<div class=\"features\"> <span class=\"anlex_lem xft\"><span class=\"f\">anlex_lem=</span>δέ</span> <span class=\"gloss xft\"><span class=\"f\">gloss=</span>but</span> <span class=\"ketiv xft\"><span class=\"f\">ketiv=</span>δὲ</span> <span class=\"morph xft\"><span class=\"f\">morph=</span>CONJ</span> <span class=\"morph_bkp xft\"><span class=\"f\">morph_bkp=</span>CONJ</span> <span class=\"qere xft\"><span class=\"f\">qere=</span>δὲ</span> <span class=\"str_lem xft\"><span class=\"f\">str_lem=</span>δέ</span> <span class=\"strongs xft\"><span class=\"f\">strongs=</span>1161</span> <span class=\"vrsnum xft\"><span class=\"f\">vrsnum=</span>2</span></div>\n",
       "</div>\n",
       "<div class=\"word  hl\"  style=\"background-color: lightsalmon;\" >\n",
       "<div class=\"grk\">ἐγέννησεν </div>\n",
       "<div class=\"features\"> <span class=\"anlex_lem xft\"><span class=\"f\">anlex_lem=</span>γεννάω</span> <span class=\"gloss xft\"><span class=\"f\">gloss=</span>to become the father of</span> <span class=\"ketiv xft\"><span class=\"f\">ketiv=</span>ἐγέννησεν</span> <span class=\"morph xft\"><span class=\"f\">morph=</span>verb-AAI-3S</span> <span class=\"morph_bkp xft\"><span class=\"f\">morph_bkp=</span>V-AAI-3S</span> <span class=\"qere xft\"><span class=\"f\">qere=</span>ἐγέννησεν</span> <span class=\"str_lem xft\"><span class=\"f\">str_lem=</span>γεννάω</span> <span class=\"strongs xft\"><span class=\"f\">strongs=</span>1080</span> <span class=\"vrsnum xft\"><span class=\"f\">vrsnum=</span>3</span></div>\n",
       "</div>\n",
       "<div class=\"word  hl\"  style=\"background-color: lightsalmon;\" >\n",
       "<div class=\"grk\">τὸν </div>\n",
       "<div class=\"features\"> <span class=\"anlex_lem xft\"><span class=\"f\">anlex_lem=</span>ὁ</span> <span class=\"gloss xft\"><span class=\"f\">gloss=</span>the</span> <span class=\"ketiv xft\"><span class=\"f\">ketiv=</span>τὸν</span> <span class=\"morph xft\"><span class=\"f\">morph=</span>T-ASM</span> <span class=\"morph_bkp xft\"><span class=\"f\">morph_bkp=</span>T-ASM</span> <span class=\"qere xft\"><span class=\"f\">qere=</span>τὸν</span> <span class=\"str_lem xft\"><span class=\"f\">str_lem=</span>ὁ</span> <span class=\"strongs xft\"><span class=\"f\">strongs=</span>3588</span> <span class=\"vrsnum xft\"><span class=\"f\">vrsnum=</span>4</span></div>\n",
       "</div>\n",
       "<div class=\"word  hl\"  style=\"background-color: lightsalmon;\" >\n",
       "<div class=\"grk\">Βόες </div>\n",
       "<div class=\"features\"> <span class=\"anlex_lem xft\"><span class=\"f\">anlex_lem=</span>Βόες</span> <span class=\"gloss xft\"><span class=\"f\">gloss=</span>Boaz</span> <span class=\"ketiv xft\"><span class=\"f\">ketiv=</span>Βόες</span> <span class=\"morph xft\"><span class=\"f\">morph=</span>noun-PRI</span> <span class=\"morph_bkp xft\"><span class=\"f\">morph_bkp=</span>N-PRI</span> <span class=\"qere xft\"><span class=\"f\">qere=</span>Βόες</span> <span class=\"str_lem xft\"><span class=\"f\">str_lem=</span>Βοόζ</span> <span class=\"strongs xft\"><span class=\"f\">strongs=</span>1003</span> <span class=\"vrsnum xft\"><span class=\"f\">vrsnum=</span>5</span></div>\n",
       "</div>\n",
       "<div class=\"word  hl\"  style=\"background-color: lightsalmon;\" >\n",
       "<div class=\"grk\">ἐκ </div>\n",
       "<div class=\"features\"> <span class=\"anlex_lem xft\"><span class=\"f\">anlex_lem=</span>ἐκ</span> <span class=\"gloss xft\"><span class=\"f\">gloss=</span>of</span> <span class=\"ketiv xft\"><span class=\"f\">ketiv=</span>ἐκ</span> <span class=\"morph xft\"><span class=\"f\">morph=</span>PREP</span> <span class=\"morph_bkp xft\"><span class=\"f\">morph_bkp=</span>PREP</span> <span class=\"qere xft\"><span class=\"f\">qere=</span>ἐκ</span> <span class=\"str_lem xft\"><span class=\"f\">str_lem=</span>ἐκ</span> <span class=\"strongs xft\"><span class=\"f\">strongs=</span>1537</span> <span class=\"vrsnum xft\"><span class=\"f\">vrsnum=</span>6</span></div>\n",
       "</div>\n",
       "<div class=\"word  hl\"  style=\"background-color: lightsalmon;\" >\n",
       "<div class=\"grk\">τῆς </div>\n",
       "<div class=\"features\"> <span class=\"anlex_lem xft\"><span class=\"f\">anlex_lem=</span>ὁ</span> <span class=\"gloss xft\"><span class=\"f\">gloss=</span>the</span> <span class=\"ketiv xft\"><span class=\"f\">ketiv=</span>τῆς</span> <span class=\"morph xft\"><span class=\"f\">morph=</span>T-GSF</span> <span class=\"morph_bkp xft\"><span class=\"f\">morph_bkp=</span>T-GSF</span> <span class=\"qere xft\"><span class=\"f\">qere=</span>τῆς</span> <span class=\"str_lem xft\"><span class=\"f\">str_lem=</span>ὁ</span> <span class=\"strongs xft\"><span class=\"f\">strongs=</span>3588</span> <span class=\"vrsnum xft\"><span class=\"f\">vrsnum=</span>7</span></div>\n",
       "</div>\n",
       "<div class=\"word  hl\"  style=\"background-color: lightsalmon;\" >\n",
       "<div class=\"grk\">Ῥαχάβ, </div>\n",
       "<div class=\"features\"> <span class=\"anlex_lem xft\"><span class=\"f\">anlex_lem=</span>Ῥαχάβ</span> <span class=\"gloss xft\"><span class=\"f\">gloss=</span>Rahab</span> <span class=\"ketiv xft\"><span class=\"f\">ketiv=</span>Ῥαχάβ,</span> <span class=\"morph xft\"><span class=\"f\">morph=</span>noun-PRI</span> <span class=\"morph_bkp xft\"><span class=\"f\">morph_bkp=</span>N-PRI</span> <span class=\"qere xft\"><span class=\"f\">qere=</span>Ῥαχάβ,</span> <span class=\"str_lem xft\"><span class=\"f\">str_lem=</span>Ῥαχάβ</span> <span class=\"strongs xft\"><span class=\"f\">strongs=</span>4477</span> <span class=\"vrsnum xft\"><span class=\"f\">vrsnum=</span>8</span></div>\n",
       "</div>\n",
       "<div class=\"word  hl\"  style=\"background-color: lightsalmon;\" >\n",
       "<div class=\"grk\">Βόες </div>\n",
       "<div class=\"features\"> <span class=\"anlex_lem xft\"><span class=\"f\">anlex_lem=</span>Βόες</span> <span class=\"gloss xft\"><span class=\"f\">gloss=</span>Boaz</span> <span class=\"ketiv xft\"><span class=\"f\">ketiv=</span>Βόες</span> <span class=\"morph xft\"><span class=\"f\">morph=</span>noun-PRI</span> <span class=\"morph_bkp xft\"><span class=\"f\">morph_bkp=</span>N-PRI</span> <span class=\"qere xft\"><span class=\"f\">qere=</span>Βόες</span> <span class=\"str_lem xft\"><span class=\"f\">str_lem=</span>Βοόζ</span> <span class=\"strongs xft\"><span class=\"f\">strongs=</span>1003</span> <span class=\"vrsnum xft\"><span class=\"f\">vrsnum=</span>9</span></div>\n",
       "</div>\n",
       "<div class=\"word  hl\"  style=\"background-color: lightsalmon;\" >\n",
       "<div class=\"grk\">δὲ </div>\n",
       "<div class=\"features\"> <span class=\"anlex_lem xft\"><span class=\"f\">anlex_lem=</span>δέ</span> <span class=\"gloss xft\"><span class=\"f\">gloss=</span>but</span> <span class=\"ketiv xft\"><span class=\"f\">ketiv=</span>δὲ</span> <span class=\"morph xft\"><span class=\"f\">morph=</span>CONJ</span> <span class=\"morph_bkp xft\"><span class=\"f\">morph_bkp=</span>CONJ</span> <span class=\"qere xft\"><span class=\"f\">qere=</span>δὲ</span> <span class=\"str_lem xft\"><span class=\"f\">str_lem=</span>δέ</span> <span class=\"strongs xft\"><span class=\"f\">strongs=</span>1161</span> <span class=\"vrsnum xft\"><span class=\"f\">vrsnum=</span>10</span></div>\n",
       "</div>\n",
       "<div class=\"word  hl\"  style=\"background-color: lightsalmon;\" >\n",
       "<div class=\"grk\">ἐγέννησεν </div>\n",
       "<div class=\"features\"> <span class=\"anlex_lem xft\"><span class=\"f\">anlex_lem=</span>γεννάω</span> <span class=\"gloss xft\"><span class=\"f\">gloss=</span>to become the father of</span> <span class=\"ketiv xft\"><span class=\"f\">ketiv=</span>ἐγέννησεν</span> <span class=\"morph xft\"><span class=\"f\">morph=</span>verb-AAI-3S</span> <span class=\"morph_bkp xft\"><span class=\"f\">morph_bkp=</span>V-AAI-3S</span> <span class=\"qere xft\"><span class=\"f\">qere=</span>ἐγέννησεν</span> <span class=\"str_lem xft\"><span class=\"f\">str_lem=</span>γεννάω</span> <span class=\"strongs xft\"><span class=\"f\">strongs=</span>1080</span> <span class=\"vrsnum xft\"><span class=\"f\">vrsnum=</span>11</span></div>\n",
       "</div>\n",
       "<div class=\"word  hl\"  style=\"background-color: lightsalmon;\" >\n",
       "<div class=\"grk\">τὸν </div>\n",
       "<div class=\"features\"> <span class=\"anlex_lem xft\"><span class=\"f\">anlex_lem=</span>ὁ</span> <span class=\"gloss xft\"><span class=\"f\">gloss=</span>the</span> <span class=\"ketiv xft\"><span class=\"f\">ketiv=</span>τὸν</span> <span class=\"morph xft\"><span class=\"f\">morph=</span>T-ASM</span> <span class=\"morph_bkp xft\"><span class=\"f\">morph_bkp=</span>T-ASM</span> <span class=\"qere xft\"><span class=\"f\">qere=</span>τὸν</span> <span class=\"str_lem xft\"><span class=\"f\">str_lem=</span>ὁ</span> <span class=\"strongs xft\"><span class=\"f\">strongs=</span>3588</span> <span class=\"vrsnum xft\"><span class=\"f\">vrsnum=</span>12</span></div>\n",
       "</div>\n",
       "<div class=\"word  hl\"  style=\"background-color: lightsalmon;\" >\n",
       "<div class=\"grk\">Ἰωβὴδ </div>\n",
       "<div class=\"features\"> <span class=\"anlex_lem xft\"><span class=\"f\">anlex_lem=</span>Ἰωβήδ</span> <span class=\"gloss xft\"><span class=\"f\">gloss=</span>Obed</span> <span class=\"ketiv xft\"><span class=\"f\">ketiv=</span>Ἰωβὴδ</span> <span class=\"morph xft\"><span class=\"f\">morph=</span>noun-PRI</span> <span class=\"morph_bkp xft\"><span class=\"f\">morph_bkp=</span>N-PRI</span> <span class=\"qere xft\"><span class=\"f\">qere=</span>Ἰωβὴδ</span> <span class=\"str_lem xft\"><span class=\"f\">str_lem=</span>Ὠβήδ</span> <span class=\"strongs xft\"><span class=\"f\">strongs=</span>5601</span> <span class=\"vrsnum xft\"><span class=\"f\">vrsnum=</span>13</span></div>\n",
       "</div>\n",
       "<div class=\"word  hl\"  style=\"background-color: lightsalmon;\" >\n",
       "<div class=\"grk\">ἐκ </div>\n",
       "<div class=\"features\"> <span class=\"anlex_lem xft\"><span class=\"f\">anlex_lem=</span>ἐκ</span> <span class=\"gloss xft\"><span class=\"f\">gloss=</span>of</span> <span class=\"ketiv xft\"><span class=\"f\">ketiv=</span>ἐκ</span> <span class=\"morph xft\"><span class=\"f\">morph=</span>PREP</span> <span class=\"morph_bkp xft\"><span class=\"f\">morph_bkp=</span>PREP</span> <span class=\"qere xft\"><span class=\"f\">qere=</span>ἐκ</span> <span class=\"str_lem xft\"><span class=\"f\">str_lem=</span>ἐκ</span> <span class=\"strongs xft\"><span class=\"f\">strongs=</span>1537</span> <span class=\"vrsnum xft\"><span class=\"f\">vrsnum=</span>14</span></div>\n",
       "</div>\n",
       "<div class=\"word  hl\"  style=\"background-color: lightsalmon;\" >\n",
       "<div class=\"grk\">τῆς </div>\n",
       "<div class=\"features\"> <span class=\"anlex_lem xft\"><span class=\"f\">anlex_lem=</span>ὁ</span> <span class=\"gloss xft\"><span class=\"f\">gloss=</span>the</span> <span class=\"ketiv xft\"><span class=\"f\">ketiv=</span>τῆς</span> <span class=\"morph xft\"><span class=\"f\">morph=</span>T-GSF</span> <span class=\"morph_bkp xft\"><span class=\"f\">morph_bkp=</span>T-GSF</span> <span class=\"qere xft\"><span class=\"f\">qere=</span>τῆς</span> <span class=\"str_lem xft\"><span class=\"f\">str_lem=</span>ὁ</span> <span class=\"strongs xft\"><span class=\"f\">strongs=</span>3588</span> <span class=\"vrsnum xft\"><span class=\"f\">vrsnum=</span>15</span></div>\n",
       "</div>\n",
       "<div class=\"word  hl\"  style=\"background-color: lightsalmon;\" >\n",
       "<div class=\"grk\">Ῥούθ, </div>\n",
       "<div class=\"features\"> <span class=\"anlex_lem xft\"><span class=\"f\">anlex_lem=</span>Ῥούθ</span> <span class=\"gloss xft\"><span class=\"f\">gloss=</span>Ruth</span> <span class=\"ketiv xft\"><span class=\"f\">ketiv=</span>Ῥούθ,</span> <span class=\"morph xft\"><span class=\"f\">morph=</span>noun-PRI</span> <span class=\"morph_bkp xft\"><span class=\"f\">morph_bkp=</span>N-PRI</span> <span class=\"qere xft\"><span class=\"f\">qere=</span>Ῥούθ,</span> <span class=\"str_lem xft\"><span class=\"f\">str_lem=</span>Ῥούθ</span> <span class=\"strongs xft\"><span class=\"f\">strongs=</span>4503</span> <span class=\"vrsnum xft\"><span class=\"f\">vrsnum=</span>16</span></div>\n",
       "</div>\n",
       "<div class=\"word  hl\"  style=\"background-color: lightsalmon;\" >\n",
       "<div class=\"grk\">Ἰωβὴδ </div>\n",
       "<div class=\"features\"> <span class=\"anlex_lem xft\"><span class=\"f\">anlex_lem=</span>Ἰωβήδ</span> <span class=\"gloss xft\"><span class=\"f\">gloss=</span>Obed</span> <span class=\"ketiv xft\"><span class=\"f\">ketiv=</span>Ἰωβὴδ</span> <span class=\"morph xft\"><span class=\"f\">morph=</span>noun-PRI</span> <span class=\"morph_bkp xft\"><span class=\"f\">morph_bkp=</span>N-PRI</span> <span class=\"qere xft\"><span class=\"f\">qere=</span>Ἰωβὴδ</span> <span class=\"str_lem xft\"><span class=\"f\">str_lem=</span>Ὠβήδ</span> <span class=\"strongs xft\"><span class=\"f\">strongs=</span>5601</span> <span class=\"vrsnum xft\"><span class=\"f\">vrsnum=</span>17</span></div>\n",
       "</div>\n",
       "<div class=\"word  hl\"  style=\"background-color: lightsalmon;\" >\n",
       "<div class=\"grk\">δὲ </div>\n",
       "<div class=\"features\"> <span class=\"anlex_lem xft\"><span class=\"f\">anlex_lem=</span>δέ</span> <span class=\"gloss xft\"><span class=\"f\">gloss=</span>but</span> <span class=\"ketiv xft\"><span class=\"f\">ketiv=</span>δὲ</span> <span class=\"morph xft\"><span class=\"f\">morph=</span>CONJ</span> <span class=\"morph_bkp xft\"><span class=\"f\">morph_bkp=</span>CONJ</span> <span class=\"qere xft\"><span class=\"f\">qere=</span>δὲ</span> <span class=\"str_lem xft\"><span class=\"f\">str_lem=</span>δέ</span> <span class=\"strongs xft\"><span class=\"f\">strongs=</span>1161</span> <span class=\"vrsnum xft\"><span class=\"f\">vrsnum=</span>18</span></div>\n",
       "</div>\n",
       "<div class=\"word  hl\"  style=\"background-color: lightsalmon;\" >\n",
       "<div class=\"grk\">ἐγέννησεν </div>\n",
       "<div class=\"features\"> <span class=\"anlex_lem xft\"><span class=\"f\">anlex_lem=</span>γεννάω</span> <span class=\"gloss xft\"><span class=\"f\">gloss=</span>to become the father of</span> <span class=\"ketiv xft\"><span class=\"f\">ketiv=</span>ἐγέννησεν</span> <span class=\"morph xft\"><span class=\"f\">morph=</span>verb-AAI-3S</span> <span class=\"morph_bkp xft\"><span class=\"f\">morph_bkp=</span>V-AAI-3S</span> <span class=\"qere xft\"><span class=\"f\">qere=</span>ἐγέννησεν</span> <span class=\"str_lem xft\"><span class=\"f\">str_lem=</span>γεννάω</span> <span class=\"strongs xft\"><span class=\"f\">strongs=</span>1080</span> <span class=\"vrsnum xft\"><span class=\"f\">vrsnum=</span>19</span></div>\n",
       "</div>\n",
       "<div class=\"word  hl\"  style=\"background-color: lightsalmon;\" >\n",
       "<div class=\"grk\">τὸν </div>\n",
       "<div class=\"features\"> <span class=\"anlex_lem xft\"><span class=\"f\">anlex_lem=</span>ὁ</span> <span class=\"gloss xft\"><span class=\"f\">gloss=</span>the</span> <span class=\"ketiv xft\"><span class=\"f\">ketiv=</span>τὸν</span> <span class=\"morph xft\"><span class=\"f\">morph=</span>T-ASM</span> <span class=\"morph_bkp xft\"><span class=\"f\">morph_bkp=</span>T-ASM</span> <span class=\"qere xft\"><span class=\"f\">qere=</span>τὸν</span> <span class=\"str_lem xft\"><span class=\"f\">str_lem=</span>ὁ</span> <span class=\"strongs xft\"><span class=\"f\">strongs=</span>3588</span> <span class=\"vrsnum xft\"><span class=\"f\">vrsnum=</span>20</span></div>\n",
       "</div>\n",
       "<div class=\"word  hl\"  style=\"background-color: lightsalmon;\" >\n",
       "<div class=\"grk\">Ἰεσσαί, </div>\n",
       "<div class=\"features\"> <span class=\"anlex_lem xft\"><span class=\"f\">anlex_lem=</span>Ἰεσσαί</span> <span class=\"gloss xft\"><span class=\"f\">gloss=</span>Jesse</span> <span class=\"ketiv xft\"><span class=\"f\">ketiv=</span>Ἰεσσαί,</span> <span class=\"morph xft\"><span class=\"f\">morph=</span>noun-PRI</span> <span class=\"morph_bkp xft\"><span class=\"f\">morph_bkp=</span>N-PRI</span> <span class=\"qere xft\"><span class=\"f\">qere=</span>Ἰεσσαί,</span> <span class=\"str_lem xft\"><span class=\"f\">str_lem=</span>Ἰεσσαί</span> <span class=\"strongs xft\"><span class=\"f\">strongs=</span>2421</span> <span class=\"vrsnum xft\"><span class=\"f\">vrsnum=</span>21</span></div>\n",
       "</div>\n",
       "</div>\n",
       "</div>"
      ],
      "text/plain": [
       "<IPython.core.display.HTML object>"
      ]
     },
     "metadata": {},
     "output_type": "display_data"
    },
    {
     "data": {
      "text/html": [
       "<p><b>verse</b> <i>6</i></p>"
      ],
      "text/plain": [
       "<IPython.core.display.HTML object>"
      ]
     },
     "metadata": {},
     "output_type": "display_data"
    },
    {
     "data": {
      "text/html": [
       "<div class=\"outeritem\">\n",
       "<div class=\"verse  \" >\n",
       "\n",
       "    <div class=\"ll\">\n",
       "        <div class=\"line\"><a href=\"https://github.com/morphgnt/tischendorf-data/tree/master/word-per-line/2.8/Unicode/MT.txt\" title=\"see this passage in its source document\" sec=\"Matthew 1:6\">Matthew 1:6</a></div>\n",
       "\n",
       "        <div class=\"features\"></div>\n",
       "    </div>\n",
       "\n",
       "<div class=\"word  hl\"  style=\"background-color: lightsalmon;\" >\n",
       "<div class=\"grk\">Ἰεσσαὶ </div>\n",
       "<div class=\"features\"> <span class=\"anlex_lem xft\"><span class=\"f\">anlex_lem=</span>Ἰεσσαί</span> <span class=\"gloss xft\"><span class=\"f\">gloss=</span>Jesse</span> <span class=\"ketiv xft\"><span class=\"f\">ketiv=</span>Ἰεσσαὶ</span> <span class=\"morph xft\"><span class=\"f\">morph=</span>noun-PRI</span> <span class=\"morph_bkp xft\"><span class=\"f\">morph_bkp=</span>N-PRI</span> <span class=\"qere xft\"><span class=\"f\">qere=</span>Ἰεσσαὶ</span> <span class=\"str_lem xft\"><span class=\"f\">str_lem=</span>Ἰεσσαί</span> <span class=\"strongs xft\"><span class=\"f\">strongs=</span>2421</span> <span class=\"vrsnum xft\"><span class=\"f\">vrsnum=</span>1</span></div>\n",
       "</div>\n",
       "<div class=\"word  hl\"  style=\"background-color: lightsalmon;\" >\n",
       "<div class=\"grk\">δὲ </div>\n",
       "<div class=\"features\"> <span class=\"anlex_lem xft\"><span class=\"f\">anlex_lem=</span>δέ</span> <span class=\"gloss xft\"><span class=\"f\">gloss=</span>but</span> <span class=\"ketiv xft\"><span class=\"f\">ketiv=</span>δὲ</span> <span class=\"morph xft\"><span class=\"f\">morph=</span>CONJ</span> <span class=\"morph_bkp xft\"><span class=\"f\">morph_bkp=</span>CONJ</span> <span class=\"qere xft\"><span class=\"f\">qere=</span>δὲ</span> <span class=\"str_lem xft\"><span class=\"f\">str_lem=</span>δέ</span> <span class=\"strongs xft\"><span class=\"f\">strongs=</span>1161</span> <span class=\"vrsnum xft\"><span class=\"f\">vrsnum=</span>2</span></div>\n",
       "</div>\n",
       "<div class=\"word  hl\"  style=\"background-color: lightsalmon;\" >\n",
       "<div class=\"grk\">ἐγέννησεν </div>\n",
       "<div class=\"features\"> <span class=\"anlex_lem xft\"><span class=\"f\">anlex_lem=</span>γεννάω</span> <span class=\"gloss xft\"><span class=\"f\">gloss=</span>to become the father of</span> <span class=\"ketiv xft\"><span class=\"f\">ketiv=</span>ἐγέννησεν</span> <span class=\"morph xft\"><span class=\"f\">morph=</span>verb-AAI-3S</span> <span class=\"morph_bkp xft\"><span class=\"f\">morph_bkp=</span>V-AAI-3S</span> <span class=\"qere xft\"><span class=\"f\">qere=</span>ἐγέννησεν</span> <span class=\"str_lem xft\"><span class=\"f\">str_lem=</span>γεννάω</span> <span class=\"strongs xft\"><span class=\"f\">strongs=</span>1080</span> <span class=\"vrsnum xft\"><span class=\"f\">vrsnum=</span>3</span></div>\n",
       "</div>\n",
       "<div class=\"word  hl\"  style=\"background-color: lightsalmon;\" >\n",
       "<div class=\"grk\">τὸν </div>\n",
       "<div class=\"features\"> <span class=\"anlex_lem xft\"><span class=\"f\">anlex_lem=</span>ὁ</span> <span class=\"gloss xft\"><span class=\"f\">gloss=</span>the</span> <span class=\"ketiv xft\"><span class=\"f\">ketiv=</span>τὸν</span> <span class=\"morph xft\"><span class=\"f\">morph=</span>T-ASM</span> <span class=\"morph_bkp xft\"><span class=\"f\">morph_bkp=</span>T-ASM</span> <span class=\"qere xft\"><span class=\"f\">qere=</span>τὸν</span> <span class=\"str_lem xft\"><span class=\"f\">str_lem=</span>ὁ</span> <span class=\"strongs xft\"><span class=\"f\">strongs=</span>3588</span> <span class=\"vrsnum xft\"><span class=\"f\">vrsnum=</span>4</span></div>\n",
       "</div>\n",
       "<div class=\"word  hl\"  style=\"background-color: lightsalmon;\" >\n",
       "<div class=\"grk\">Δαυεὶδ </div>\n",
       "<div class=\"features\"> <span class=\"anlex_lem xft\"><span class=\"f\">anlex_lem=</span>Δαυίδ</span> <span class=\"gloss xft\"><span class=\"f\">gloss=</span>David</span> <span class=\"ketiv xft\"><span class=\"f\">ketiv=</span>Δαυεὶδ</span> <span class=\"morph xft\"><span class=\"f\">morph=</span>noun-PRI</span> <span class=\"morph_bkp xft\"><span class=\"f\">morph_bkp=</span>N-PRI</span> <span class=\"qere xft\"><span class=\"f\">qere=</span>Δαυεὶδ</span> <span class=\"str_lem xft\"><span class=\"f\">str_lem=</span>Δαβίδ</span> <span class=\"strongs xft\"><span class=\"f\">strongs=</span>1138</span> <span class=\"vrsnum xft\"><span class=\"f\">vrsnum=</span>5</span></div>\n",
       "</div>\n",
       "<div class=\"word  hl\"  style=\"background-color: lightsalmon;\" >\n",
       "<div class=\"grk\">τὸν </div>\n",
       "<div class=\"features\"> <span class=\"anlex_lem xft\"><span class=\"f\">anlex_lem=</span>ὁ</span> <span class=\"gloss xft\"><span class=\"f\">gloss=</span>the</span> <span class=\"ketiv xft\"><span class=\"f\">ketiv=</span>τὸν</span> <span class=\"morph xft\"><span class=\"f\">morph=</span>T-ASM</span> <span class=\"morph_bkp xft\"><span class=\"f\">morph_bkp=</span>T-ASM</span> <span class=\"qere xft\"><span class=\"f\">qere=</span>τὸν</span> <span class=\"str_lem xft\"><span class=\"f\">str_lem=</span>ὁ</span> <span class=\"strongs xft\"><span class=\"f\">strongs=</span>3588</span> <span class=\"vrsnum xft\"><span class=\"f\">vrsnum=</span>6</span></div>\n",
       "</div>\n",
       "<div class=\"word  hl\"  style=\"background-color: lightsalmon;\" >\n",
       "<div class=\"grk\">βασιλέα. </div>\n",
       "<div class=\"features\"> <span class=\"anlex_lem xft\"><span class=\"f\">anlex_lem=</span>βασιλεύς</span> <span class=\"gloss xft\"><span class=\"f\">gloss=</span>king</span> <span class=\"ketiv xft\"><span class=\"f\">ketiv=</span>βασιλέα.</span> <span class=\"morph xft\"><span class=\"f\">morph=</span>noun-ASM</span> <span class=\"morph_bkp xft\"><span class=\"f\">morph_bkp=</span>N-ASM</span> <span class=\"qere xft\"><span class=\"f\">qere=</span>βασιλέα.</span> <span class=\"str_lem xft\"><span class=\"f\">str_lem=</span>βασιλεύς</span> <span class=\"strongs xft\"><span class=\"f\">strongs=</span>935</span> <span class=\"vrsnum xft\"><span class=\"f\">vrsnum=</span>7</span></div>\n",
       "</div>\n",
       "<div class=\"word  hl\"  style=\"background-color: lightsalmon;\" >\n",
       "<div class=\"grk\">Δαυεὶδ </div>\n",
       "<div class=\"features\"> <span class=\"anlex_lem xft\"><span class=\"f\">anlex_lem=</span>Δαυίδ</span> <span class=\"gloss xft\"><span class=\"f\">gloss=</span>David</span> <span class=\"ketiv xft\"><span class=\"f\">ketiv=</span>Δαυεὶδ</span> <span class=\"morph xft\"><span class=\"f\">morph=</span>noun-PRI</span> <span class=\"morph_bkp xft\"><span class=\"f\">morph_bkp=</span>N-PRI</span> <span class=\"qere xft\"><span class=\"f\">qere=</span>Δαυεὶδ</span> <span class=\"str_lem xft\"><span class=\"f\">str_lem=</span>Δαβίδ</span> <span class=\"strongs xft\"><span class=\"f\">strongs=</span>1138</span> <span class=\"vrsnum xft\"><span class=\"f\">vrsnum=</span>8</span></div>\n",
       "</div>\n",
       "<div class=\"word  hl\"  style=\"background-color: lightsalmon;\" >\n",
       "<div class=\"grk\">δὲ </div>\n",
       "<div class=\"features\"> <span class=\"anlex_lem xft\"><span class=\"f\">anlex_lem=</span>δέ</span> <span class=\"gloss xft\"><span class=\"f\">gloss=</span>but</span> <span class=\"ketiv xft\"><span class=\"f\">ketiv=</span>δὲ</span> <span class=\"morph xft\"><span class=\"f\">morph=</span>CONJ</span> <span class=\"morph_bkp xft\"><span class=\"f\">morph_bkp=</span>CONJ</span> <span class=\"qere xft\"><span class=\"f\">qere=</span>δὲ</span> <span class=\"str_lem xft\"><span class=\"f\">str_lem=</span>δέ</span> <span class=\"strongs xft\"><span class=\"f\">strongs=</span>1161</span> <span class=\"vrsnum xft\"><span class=\"f\">vrsnum=</span>9</span></div>\n",
       "</div>\n",
       "<div class=\"word  hl\"  style=\"background-color: lightsalmon;\" >\n",
       "<div class=\"grk\">ἐγέννησεν </div>\n",
       "<div class=\"features\"> <span class=\"anlex_lem xft\"><span class=\"f\">anlex_lem=</span>γεννάω</span> <span class=\"gloss xft\"><span class=\"f\">gloss=</span>to become the father of</span> <span class=\"ketiv xft\"><span class=\"f\">ketiv=</span>ἐγέννησεν</span> <span class=\"morph xft\"><span class=\"f\">morph=</span>verb-AAI-3S</span> <span class=\"morph_bkp xft\"><span class=\"f\">morph_bkp=</span>V-AAI-3S</span> <span class=\"qere xft\"><span class=\"f\">qere=</span>ἐγέννησεν</span> <span class=\"str_lem xft\"><span class=\"f\">str_lem=</span>γεννάω</span> <span class=\"strongs xft\"><span class=\"f\">strongs=</span>1080</span> <span class=\"vrsnum xft\"><span class=\"f\">vrsnum=</span>10</span></div>\n",
       "</div>\n",
       "<div class=\"word  hl\"  style=\"background-color: lightsalmon;\" >\n",
       "<div class=\"grk\">τὸν </div>\n",
       "<div class=\"features\"> <span class=\"anlex_lem xft\"><span class=\"f\">anlex_lem=</span>ὁ</span> <span class=\"gloss xft\"><span class=\"f\">gloss=</span>the</span> <span class=\"ketiv xft\"><span class=\"f\">ketiv=</span>τὸν</span> <span class=\"morph xft\"><span class=\"f\">morph=</span>T-ASM</span> <span class=\"morph_bkp xft\"><span class=\"f\">morph_bkp=</span>T-ASM</span> <span class=\"qere xft\"><span class=\"f\">qere=</span>τὸν</span> <span class=\"str_lem xft\"><span class=\"f\">str_lem=</span>ὁ</span> <span class=\"strongs xft\"><span class=\"f\">strongs=</span>3588</span> <span class=\"vrsnum xft\"><span class=\"f\">vrsnum=</span>11</span></div>\n",
       "</div>\n",
       "<div class=\"word  hl\"  style=\"background-color: lightsalmon;\" >\n",
       "<div class=\"grk\">Σολομῶνα </div>\n",
       "<div class=\"features\"> <span class=\"anlex_lem xft\"><span class=\"f\">anlex_lem=</span>Σολομών</span> <span class=\"gloss xft\"><span class=\"f\">gloss=</span>Solomon</span> <span class=\"ketiv xft\"><span class=\"f\">ketiv=</span>Σολομῶνα</span> <span class=\"morph xft\"><span class=\"f\">morph=</span>noun-ASM</span> <span class=\"morph_bkp xft\"><span class=\"f\">morph_bkp=</span>N-ASM</span> <span class=\"qere xft\"><span class=\"f\">qere=</span>Σολομῶνα</span> <span class=\"str_lem xft\"><span class=\"f\">str_lem=</span>Σολομών</span> <span class=\"strongs xft\"><span class=\"f\">strongs=</span>4672</span> <span class=\"vrsnum xft\"><span class=\"f\">vrsnum=</span>12</span></div>\n",
       "</div>\n",
       "<div class=\"word  hl\"  style=\"background-color: lightsalmon;\" >\n",
       "<div class=\"grk\">ἐκ </div>\n",
       "<div class=\"features\"> <span class=\"anlex_lem xft\"><span class=\"f\">anlex_lem=</span>ἐκ</span> <span class=\"gloss xft\"><span class=\"f\">gloss=</span>of</span> <span class=\"ketiv xft\"><span class=\"f\">ketiv=</span>ἐκ</span> <span class=\"morph xft\"><span class=\"f\">morph=</span>PREP</span> <span class=\"morph_bkp xft\"><span class=\"f\">morph_bkp=</span>PREP</span> <span class=\"qere xft\"><span class=\"f\">qere=</span>ἐκ</span> <span class=\"str_lem xft\"><span class=\"f\">str_lem=</span>ἐκ</span> <span class=\"strongs xft\"><span class=\"f\">strongs=</span>1537</span> <span class=\"vrsnum xft\"><span class=\"f\">vrsnum=</span>13</span></div>\n",
       "</div>\n",
       "<div class=\"word  hl\"  style=\"background-color: lightsalmon;\" >\n",
       "<div class=\"grk\">τῆς </div>\n",
       "<div class=\"features\"> <span class=\"anlex_lem xft\"><span class=\"f\">anlex_lem=</span>ὁ</span> <span class=\"gloss xft\"><span class=\"f\">gloss=</span>the</span> <span class=\"ketiv xft\"><span class=\"f\">ketiv=</span>τῆς</span> <span class=\"morph xft\"><span class=\"f\">morph=</span>T-GSF</span> <span class=\"morph_bkp xft\"><span class=\"f\">morph_bkp=</span>T-GSF</span> <span class=\"qere xft\"><span class=\"f\">qere=</span>τῆς</span> <span class=\"str_lem xft\"><span class=\"f\">str_lem=</span>ὁ</span> <span class=\"strongs xft\"><span class=\"f\">strongs=</span>3588</span> <span class=\"vrsnum xft\"><span class=\"f\">vrsnum=</span>14</span></div>\n",
       "</div>\n",
       "<div class=\"word  hl\"  style=\"background-color: lightsalmon;\" >\n",
       "<div class=\"grk\">τοῦ </div>\n",
       "<div class=\"features\"> <span class=\"anlex_lem xft\"><span class=\"f\">anlex_lem=</span>ὁ</span> <span class=\"gloss xft\"><span class=\"f\">gloss=</span>the</span> <span class=\"ketiv xft\"><span class=\"f\">ketiv=</span>τοῦ</span> <span class=\"morph xft\"><span class=\"f\">morph=</span>T-GSM</span> <span class=\"morph_bkp xft\"><span class=\"f\">morph_bkp=</span>T-GSM</span> <span class=\"qere xft\"><span class=\"f\">qere=</span>τοῦ</span> <span class=\"str_lem xft\"><span class=\"f\">str_lem=</span>ὁ</span> <span class=\"strongs xft\"><span class=\"f\">strongs=</span>3588</span> <span class=\"vrsnum xft\"><span class=\"f\">vrsnum=</span>15</span></div>\n",
       "</div>\n",
       "<div class=\"word  hl\"  style=\"background-color: lightsalmon;\" >\n",
       "<div class=\"grk\">Οὐρίου, </div>\n",
       "<div class=\"features\"> <span class=\"anlex_lem xft\"><span class=\"f\">anlex_lem=</span>Οὐρίας</span> <span class=\"gloss xft\"><span class=\"f\">gloss=</span>Uriah</span> <span class=\"ketiv xft\"><span class=\"f\">ketiv=</span>Οὐρίου,</span> <span class=\"morph xft\"><span class=\"f\">morph=</span>noun-GSM</span> <span class=\"morph_bkp xft\"><span class=\"f\">morph_bkp=</span>N-GSM</span> <span class=\"qere xft\"><span class=\"f\">qere=</span>Οὐρίου,</span> <span class=\"str_lem xft\"><span class=\"f\">str_lem=</span>Οὐρίας</span> <span class=\"strongs xft\"><span class=\"f\">strongs=</span>3774</span> <span class=\"vrsnum xft\"><span class=\"f\">vrsnum=</span>16</span></div>\n",
       "</div>\n",
       "</div>\n",
       "</div>"
      ],
      "text/plain": [
       "<IPython.core.display.HTML object>"
      ]
     },
     "metadata": {},
     "output_type": "display_data"
    },
    {
     "data": {
      "text/html": [
       "<p><b>verse</b> <i>7</i></p>"
      ],
      "text/plain": [
       "<IPython.core.display.HTML object>"
      ]
     },
     "metadata": {},
     "output_type": "display_data"
    },
    {
     "data": {
      "text/html": [
       "<div class=\"outeritem\">\n",
       "<div class=\"verse  \" >\n",
       "\n",
       "    <div class=\"ll\">\n",
       "        <div class=\"line\"><a href=\"https://github.com/morphgnt/tischendorf-data/tree/master/word-per-line/2.8/Unicode/MT.txt\" title=\"see this passage in its source document\" sec=\"Matthew 1:7\">Matthew 1:7</a></div>\n",
       "\n",
       "        <div class=\"features\"></div>\n",
       "    </div>\n",
       "\n",
       "<div class=\"word  hl\"  style=\"background-color: lightsalmon;\" >\n",
       "<div class=\"grk\">Σολομὼν </div>\n",
       "<div class=\"features\"> <span class=\"anlex_lem xft\"><span class=\"f\">anlex_lem=</span>Σολομών</span> <span class=\"gloss xft\"><span class=\"f\">gloss=</span>Solomon</span> <span class=\"ketiv xft\"><span class=\"f\">ketiv=</span>Σολομὼν</span> <span class=\"morph xft\"><span class=\"f\">morph=</span>noun-NSM</span> <span class=\"morph_bkp xft\"><span class=\"f\">morph_bkp=</span>N-NSM</span> <span class=\"qere xft\"><span class=\"f\">qere=</span>Σολομὼν</span> <span class=\"str_lem xft\"><span class=\"f\">str_lem=</span>Σολομών</span> <span class=\"strongs xft\"><span class=\"f\">strongs=</span>4672</span> <span class=\"vrsnum xft\"><span class=\"f\">vrsnum=</span>1</span></div>\n",
       "</div>\n",
       "<div class=\"word  hl\"  style=\"background-color: lightsalmon;\" >\n",
       "<div class=\"grk\">δὲ </div>\n",
       "<div class=\"features\"> <span class=\"anlex_lem xft\"><span class=\"f\">anlex_lem=</span>δέ</span> <span class=\"gloss xft\"><span class=\"f\">gloss=</span>but</span> <span class=\"ketiv xft\"><span class=\"f\">ketiv=</span>δὲ</span> <span class=\"morph xft\"><span class=\"f\">morph=</span>CONJ</span> <span class=\"morph_bkp xft\"><span class=\"f\">morph_bkp=</span>CONJ</span> <span class=\"qere xft\"><span class=\"f\">qere=</span>δὲ</span> <span class=\"str_lem xft\"><span class=\"f\">str_lem=</span>δέ</span> <span class=\"strongs xft\"><span class=\"f\">strongs=</span>1161</span> <span class=\"vrsnum xft\"><span class=\"f\">vrsnum=</span>2</span></div>\n",
       "</div>\n",
       "<div class=\"word  hl\"  style=\"background-color: lightsalmon;\" >\n",
       "<div class=\"grk\">ἐγέννησεν </div>\n",
       "<div class=\"features\"> <span class=\"anlex_lem xft\"><span class=\"f\">anlex_lem=</span>γεννάω</span> <span class=\"gloss xft\"><span class=\"f\">gloss=</span>to become the father of</span> <span class=\"ketiv xft\"><span class=\"f\">ketiv=</span>ἐγέννησεν</span> <span class=\"morph xft\"><span class=\"f\">morph=</span>verb-AAI-3S</span> <span class=\"morph_bkp xft\"><span class=\"f\">morph_bkp=</span>V-AAI-3S</span> <span class=\"qere xft\"><span class=\"f\">qere=</span>ἐγέννησεν</span> <span class=\"str_lem xft\"><span class=\"f\">str_lem=</span>γεννάω</span> <span class=\"strongs xft\"><span class=\"f\">strongs=</span>1080</span> <span class=\"vrsnum xft\"><span class=\"f\">vrsnum=</span>3</span></div>\n",
       "</div>\n",
       "<div class=\"word  hl\"  style=\"background-color: lightsalmon;\" >\n",
       "<div class=\"grk\">τὸν </div>\n",
       "<div class=\"features\"> <span class=\"anlex_lem xft\"><span class=\"f\">anlex_lem=</span>ὁ</span> <span class=\"gloss xft\"><span class=\"f\">gloss=</span>the</span> <span class=\"ketiv xft\"><span class=\"f\">ketiv=</span>τὸν</span> <span class=\"morph xft\"><span class=\"f\">morph=</span>T-ASM</span> <span class=\"morph_bkp xft\"><span class=\"f\">morph_bkp=</span>T-ASM</span> <span class=\"qere xft\"><span class=\"f\">qere=</span>τὸν</span> <span class=\"str_lem xft\"><span class=\"f\">str_lem=</span>ὁ</span> <span class=\"strongs xft\"><span class=\"f\">strongs=</span>3588</span> <span class=\"vrsnum xft\"><span class=\"f\">vrsnum=</span>4</span></div>\n",
       "</div>\n",
       "<div class=\"word  hl\"  style=\"background-color: lightsalmon;\" >\n",
       "<div class=\"grk\">Ῥοβοάμ, </div>\n",
       "<div class=\"features\"> <span class=\"anlex_lem xft\"><span class=\"f\">anlex_lem=</span>Ῥοβοάμ</span> <span class=\"gloss xft\"><span class=\"f\">gloss=</span>Rehoboam</span> <span class=\"ketiv xft\"><span class=\"f\">ketiv=</span>Ῥοβοάμ,</span> <span class=\"morph xft\"><span class=\"f\">morph=</span>noun-PRI</span> <span class=\"morph_bkp xft\"><span class=\"f\">morph_bkp=</span>N-PRI</span> <span class=\"qere xft\"><span class=\"f\">qere=</span>Ῥοβοάμ,</span> <span class=\"str_lem xft\"><span class=\"f\">str_lem=</span>Ῥοβοάμ</span> <span class=\"strongs xft\"><span class=\"f\">strongs=</span>4497</span> <span class=\"vrsnum xft\"><span class=\"f\">vrsnum=</span>5</span></div>\n",
       "</div>\n",
       "<div class=\"word  hl\"  style=\"background-color: lightsalmon;\" >\n",
       "<div class=\"grk\">Ῥοβοὰμ </div>\n",
       "<div class=\"features\"> <span class=\"anlex_lem xft\"><span class=\"f\">anlex_lem=</span>Ῥοβοάμ</span> <span class=\"gloss xft\"><span class=\"f\">gloss=</span>Rehoboam</span> <span class=\"ketiv xft\"><span class=\"f\">ketiv=</span>Ῥοβοὰμ</span> <span class=\"morph xft\"><span class=\"f\">morph=</span>noun-PRI</span> <span class=\"morph_bkp xft\"><span class=\"f\">morph_bkp=</span>N-PRI</span> <span class=\"qere xft\"><span class=\"f\">qere=</span>Ῥοβοὰμ</span> <span class=\"str_lem xft\"><span class=\"f\">str_lem=</span>Ῥοβοάμ</span> <span class=\"strongs xft\"><span class=\"f\">strongs=</span>4497</span> <span class=\"vrsnum xft\"><span class=\"f\">vrsnum=</span>6</span></div>\n",
       "</div>\n",
       "<div class=\"word  hl\"  style=\"background-color: lightsalmon;\" >\n",
       "<div class=\"grk\">δὲ </div>\n",
       "<div class=\"features\"> <span class=\"anlex_lem xft\"><span class=\"f\">anlex_lem=</span>δέ</span> <span class=\"gloss xft\"><span class=\"f\">gloss=</span>but</span> <span class=\"ketiv xft\"><span class=\"f\">ketiv=</span>δὲ</span> <span class=\"morph xft\"><span class=\"f\">morph=</span>CONJ</span> <span class=\"morph_bkp xft\"><span class=\"f\">morph_bkp=</span>CONJ</span> <span class=\"qere xft\"><span class=\"f\">qere=</span>δὲ</span> <span class=\"str_lem xft\"><span class=\"f\">str_lem=</span>δέ</span> <span class=\"strongs xft\"><span class=\"f\">strongs=</span>1161</span> <span class=\"vrsnum xft\"><span class=\"f\">vrsnum=</span>7</span></div>\n",
       "</div>\n",
       "<div class=\"word  hl\"  style=\"background-color: lightsalmon;\" >\n",
       "<div class=\"grk\">ἐγέννησεν </div>\n",
       "<div class=\"features\"> <span class=\"anlex_lem xft\"><span class=\"f\">anlex_lem=</span>γεννάω</span> <span class=\"gloss xft\"><span class=\"f\">gloss=</span>to become the father of</span> <span class=\"ketiv xft\"><span class=\"f\">ketiv=</span>ἐγέννησεν</span> <span class=\"morph xft\"><span class=\"f\">morph=</span>verb-AAI-3S</span> <span class=\"morph_bkp xft\"><span class=\"f\">morph_bkp=</span>V-AAI-3S</span> <span class=\"qere xft\"><span class=\"f\">qere=</span>ἐγέννησεν</span> <span class=\"str_lem xft\"><span class=\"f\">str_lem=</span>γεννάω</span> <span class=\"strongs xft\"><span class=\"f\">strongs=</span>1080</span> <span class=\"vrsnum xft\"><span class=\"f\">vrsnum=</span>8</span></div>\n",
       "</div>\n",
       "<div class=\"word  hl\"  style=\"background-color: lightsalmon;\" >\n",
       "<div class=\"grk\">τὸν </div>\n",
       "<div class=\"features\"> <span class=\"anlex_lem xft\"><span class=\"f\">anlex_lem=</span>ὁ</span> <span class=\"gloss xft\"><span class=\"f\">gloss=</span>the</span> <span class=\"ketiv xft\"><span class=\"f\">ketiv=</span>τὸν</span> <span class=\"morph xft\"><span class=\"f\">morph=</span>T-ASM</span> <span class=\"morph_bkp xft\"><span class=\"f\">morph_bkp=</span>T-ASM</span> <span class=\"qere xft\"><span class=\"f\">qere=</span>τὸν</span> <span class=\"str_lem xft\"><span class=\"f\">str_lem=</span>ὁ</span> <span class=\"strongs xft\"><span class=\"f\">strongs=</span>3588</span> <span class=\"vrsnum xft\"><span class=\"f\">vrsnum=</span>9</span></div>\n",
       "</div>\n",
       "<div class=\"word  hl\"  style=\"background-color: lightsalmon;\" >\n",
       "<div class=\"grk\">Ἀβιά, </div>\n",
       "<div class=\"features\"> <span class=\"anlex_lem xft\"><span class=\"f\">anlex_lem=</span>Ἀβιά</span> <span class=\"gloss xft\"><span class=\"f\">gloss=</span>Abijah</span> <span class=\"ketiv xft\"><span class=\"f\">ketiv=</span>Ἀβιά,</span> <span class=\"morph xft\"><span class=\"f\">morph=</span>noun-PRI</span> <span class=\"morph_bkp xft\"><span class=\"f\">morph_bkp=</span>N-PRI</span> <span class=\"qere xft\"><span class=\"f\">qere=</span>Ἀβιά,</span> <span class=\"str_lem xft\"><span class=\"f\">str_lem=</span>Ἀβιά</span> <span class=\"strongs xft\"><span class=\"f\">strongs=</span>7</span> <span class=\"vrsnum xft\"><span class=\"f\">vrsnum=</span>10</span></div>\n",
       "</div>\n",
       "<div class=\"word  hl\"  style=\"background-color: lightsalmon;\" >\n",
       "<div class=\"grk\">Ἀβιὰ </div>\n",
       "<div class=\"features\"> <span class=\"anlex_lem xft\"><span class=\"f\">anlex_lem=</span>Ἀβιά</span> <span class=\"gloss xft\"><span class=\"f\">gloss=</span>Abijah</span> <span class=\"ketiv xft\"><span class=\"f\">ketiv=</span>Ἀβιὰ</span> <span class=\"morph xft\"><span class=\"f\">morph=</span>noun-PRI</span> <span class=\"morph_bkp xft\"><span class=\"f\">morph_bkp=</span>N-PRI</span> <span class=\"qere xft\"><span class=\"f\">qere=</span>Ἀβιὰ</span> <span class=\"str_lem xft\"><span class=\"f\">str_lem=</span>Ἀβιά</span> <span class=\"strongs xft\"><span class=\"f\">strongs=</span>7</span> <span class=\"vrsnum xft\"><span class=\"f\">vrsnum=</span>11</span></div>\n",
       "</div>\n",
       "<div class=\"word  hl\"  style=\"background-color: lightsalmon;\" >\n",
       "<div class=\"grk\">δὲ </div>\n",
       "<div class=\"features\"> <span class=\"anlex_lem xft\"><span class=\"f\">anlex_lem=</span>δέ</span> <span class=\"gloss xft\"><span class=\"f\">gloss=</span>but</span> <span class=\"ketiv xft\"><span class=\"f\">ketiv=</span>δὲ</span> <span class=\"morph xft\"><span class=\"f\">morph=</span>CONJ</span> <span class=\"morph_bkp xft\"><span class=\"f\">morph_bkp=</span>CONJ</span> <span class=\"qere xft\"><span class=\"f\">qere=</span>δὲ</span> <span class=\"str_lem xft\"><span class=\"f\">str_lem=</span>δέ</span> <span class=\"strongs xft\"><span class=\"f\">strongs=</span>1161</span> <span class=\"vrsnum xft\"><span class=\"f\">vrsnum=</span>12</span></div>\n",
       "</div>\n",
       "<div class=\"word  hl\"  style=\"background-color: lightsalmon;\" >\n",
       "<div class=\"grk\">ἐγέννησεν </div>\n",
       "<div class=\"features\"> <span class=\"anlex_lem xft\"><span class=\"f\">anlex_lem=</span>γεννάω</span> <span class=\"gloss xft\"><span class=\"f\">gloss=</span>to become the father of</span> <span class=\"ketiv xft\"><span class=\"f\">ketiv=</span>ἐγέννησεν</span> <span class=\"morph xft\"><span class=\"f\">morph=</span>verb-AAI-3S</span> <span class=\"morph_bkp xft\"><span class=\"f\">morph_bkp=</span>V-AAI-3S</span> <span class=\"qere xft\"><span class=\"f\">qere=</span>ἐγέννησεν</span> <span class=\"str_lem xft\"><span class=\"f\">str_lem=</span>γεννάω</span> <span class=\"strongs xft\"><span class=\"f\">strongs=</span>1080</span> <span class=\"vrsnum xft\"><span class=\"f\">vrsnum=</span>13</span></div>\n",
       "</div>\n",
       "<div class=\"word  hl\"  style=\"background-color: lightsalmon;\" >\n",
       "<div class=\"grk\">τὸν </div>\n",
       "<div class=\"features\"> <span class=\"anlex_lem xft\"><span class=\"f\">anlex_lem=</span>ὁ</span> <span class=\"gloss xft\"><span class=\"f\">gloss=</span>the</span> <span class=\"ketiv xft\"><span class=\"f\">ketiv=</span>τὸν</span> <span class=\"morph xft\"><span class=\"f\">morph=</span>T-ASM</span> <span class=\"morph_bkp xft\"><span class=\"f\">morph_bkp=</span>T-ASM</span> <span class=\"qere xft\"><span class=\"f\">qere=</span>τὸν</span> <span class=\"str_lem xft\"><span class=\"f\">str_lem=</span>ὁ</span> <span class=\"strongs xft\"><span class=\"f\">strongs=</span>3588</span> <span class=\"vrsnum xft\"><span class=\"f\">vrsnum=</span>14</span></div>\n",
       "</div>\n",
       "<div class=\"word  hl\"  style=\"background-color: lightsalmon;\" >\n",
       "<div class=\"grk\">Ἀσάφ, </div>\n",
       "<div class=\"features\"> <span class=\"anlex_lem xft\"><span class=\"f\">anlex_lem=</span>Ἀσάφ</span> <span class=\"gloss xft\"><span class=\"f\">gloss=</span>Asaph</span> <span class=\"ketiv xft\"><span class=\"f\">ketiv=</span>Ἀσάφ,</span> <span class=\"morph xft\"><span class=\"f\">morph=</span>noun-PRI</span> <span class=\"morph_bkp xft\"><span class=\"f\">morph_bkp=</span>N-PRI</span> <span class=\"qere xft\"><span class=\"f\">qere=</span>Ἀσάφ,</span> <span class=\"str_lem xft\"><span class=\"f\">str_lem=</span>Ἀσά</span> <span class=\"strongs xft\"><span class=\"f\">strongs=</span>760</span> <span class=\"vrsnum xft\"><span class=\"f\">vrsnum=</span>15</span></div>\n",
       "</div>\n",
       "</div>\n",
       "</div>"
      ],
      "text/plain": [
       "<IPython.core.display.HTML object>"
      ]
     },
     "metadata": {},
     "output_type": "display_data"
    },
    {
     "data": {
      "text/html": [
       "<p><b>verse</b> <i>8</i></p>"
      ],
      "text/plain": [
       "<IPython.core.display.HTML object>"
      ]
     },
     "metadata": {},
     "output_type": "display_data"
    },
    {
     "data": {
      "text/html": [
       "<div class=\"outeritem\">\n",
       "<div class=\"verse  \" >\n",
       "\n",
       "    <div class=\"ll\">\n",
       "        <div class=\"line\"><a href=\"https://github.com/morphgnt/tischendorf-data/tree/master/word-per-line/2.8/Unicode/MT.txt\" title=\"see this passage in its source document\" sec=\"Matthew 1:8\">Matthew 1:8</a></div>\n",
       "\n",
       "        <div class=\"features\"></div>\n",
       "    </div>\n",
       "\n",
       "<div class=\"word  hl\"  style=\"background-color: lightsalmon;\" >\n",
       "<div class=\"grk\">Ἀσὰφ </div>\n",
       "<div class=\"features\"> <span class=\"anlex_lem xft\"><span class=\"f\">anlex_lem=</span>Ἀσάφ</span> <span class=\"gloss xft\"><span class=\"f\">gloss=</span>Asaph</span> <span class=\"ketiv xft\"><span class=\"f\">ketiv=</span>Ἀσὰφ</span> <span class=\"morph xft\"><span class=\"f\">morph=</span>noun-PRI</span> <span class=\"morph_bkp xft\"><span class=\"f\">morph_bkp=</span>N-PRI</span> <span class=\"qere xft\"><span class=\"f\">qere=</span>Ἀσὰφ</span> <span class=\"str_lem xft\"><span class=\"f\">str_lem=</span>Ἀσά</span> <span class=\"strongs xft\"><span class=\"f\">strongs=</span>760</span> <span class=\"vrsnum xft\"><span class=\"f\">vrsnum=</span>1</span></div>\n",
       "</div>\n",
       "<div class=\"word  hl\"  style=\"background-color: lightsalmon;\" >\n",
       "<div class=\"grk\">δὲ </div>\n",
       "<div class=\"features\"> <span class=\"anlex_lem xft\"><span class=\"f\">anlex_lem=</span>δέ</span> <span class=\"gloss xft\"><span class=\"f\">gloss=</span>but</span> <span class=\"ketiv xft\"><span class=\"f\">ketiv=</span>δὲ</span> <span class=\"morph xft\"><span class=\"f\">morph=</span>CONJ</span> <span class=\"morph_bkp xft\"><span class=\"f\">morph_bkp=</span>CONJ</span> <span class=\"qere xft\"><span class=\"f\">qere=</span>δὲ</span> <span class=\"str_lem xft\"><span class=\"f\">str_lem=</span>δέ</span> <span class=\"strongs xft\"><span class=\"f\">strongs=</span>1161</span> <span class=\"vrsnum xft\"><span class=\"f\">vrsnum=</span>2</span></div>\n",
       "</div>\n",
       "<div class=\"word  hl\"  style=\"background-color: lightsalmon;\" >\n",
       "<div class=\"grk\">ἐγέννησεν </div>\n",
       "<div class=\"features\"> <span class=\"anlex_lem xft\"><span class=\"f\">anlex_lem=</span>γεννάω</span> <span class=\"gloss xft\"><span class=\"f\">gloss=</span>to become the father of</span> <span class=\"ketiv xft\"><span class=\"f\">ketiv=</span>ἐγέννησεν</span> <span class=\"morph xft\"><span class=\"f\">morph=</span>verb-AAI-3S</span> <span class=\"morph_bkp xft\"><span class=\"f\">morph_bkp=</span>V-AAI-3S</span> <span class=\"qere xft\"><span class=\"f\">qere=</span>ἐγέννησεν</span> <span class=\"str_lem xft\"><span class=\"f\">str_lem=</span>γεννάω</span> <span class=\"strongs xft\"><span class=\"f\">strongs=</span>1080</span> <span class=\"vrsnum xft\"><span class=\"f\">vrsnum=</span>3</span></div>\n",
       "</div>\n",
       "<div class=\"word  hl\"  style=\"background-color: lightsalmon;\" >\n",
       "<div class=\"grk\">τὸν </div>\n",
       "<div class=\"features\"> <span class=\"anlex_lem xft\"><span class=\"f\">anlex_lem=</span>ὁ</span> <span class=\"gloss xft\"><span class=\"f\">gloss=</span>the</span> <span class=\"ketiv xft\"><span class=\"f\">ketiv=</span>τὸν</span> <span class=\"morph xft\"><span class=\"f\">morph=</span>T-ASM</span> <span class=\"morph_bkp xft\"><span class=\"f\">morph_bkp=</span>T-ASM</span> <span class=\"qere xft\"><span class=\"f\">qere=</span>τὸν</span> <span class=\"str_lem xft\"><span class=\"f\">str_lem=</span>ὁ</span> <span class=\"strongs xft\"><span class=\"f\">strongs=</span>3588</span> <span class=\"vrsnum xft\"><span class=\"f\">vrsnum=</span>4</span></div>\n",
       "</div>\n",
       "<div class=\"word  hl\"  style=\"background-color: lightsalmon;\" >\n",
       "<div class=\"grk\">Ἰωσαφάτ, </div>\n",
       "<div class=\"features\"> <span class=\"anlex_lem xft\"><span class=\"f\">anlex_lem=</span>Ἰωσαφάτ</span> <span class=\"gloss xft\"><span class=\"f\">gloss=</span>Jehoshaphat</span> <span class=\"ketiv xft\"><span class=\"f\">ketiv=</span>Ἰωσαφάτ,</span> <span class=\"morph xft\"><span class=\"f\">morph=</span>noun-PRI</span> <span class=\"morph_bkp xft\"><span class=\"f\">morph_bkp=</span>N-PRI</span> <span class=\"qere xft\"><span class=\"f\">qere=</span>Ἰωσαφάτ,</span> <span class=\"str_lem xft\"><span class=\"f\">str_lem=</span>Ἰωσαφάτ</span> <span class=\"strongs xft\"><span class=\"f\">strongs=</span>2498</span> <span class=\"vrsnum xft\"><span class=\"f\">vrsnum=</span>5</span></div>\n",
       "</div>\n",
       "<div class=\"word  hl\"  style=\"background-color: lightsalmon;\" >\n",
       "<div class=\"grk\">Ἰωσαφὰτ </div>\n",
       "<div class=\"features\"> <span class=\"anlex_lem xft\"><span class=\"f\">anlex_lem=</span>Ἰωσαφάτ</span> <span class=\"gloss xft\"><span class=\"f\">gloss=</span>Jehoshaphat</span> <span class=\"ketiv xft\"><span class=\"f\">ketiv=</span>Ἰωσαφὰτ</span> <span class=\"morph xft\"><span class=\"f\">morph=</span>noun-PRI</span> <span class=\"morph_bkp xft\"><span class=\"f\">morph_bkp=</span>N-PRI</span> <span class=\"qere xft\"><span class=\"f\">qere=</span>Ἰωσαφὰτ</span> <span class=\"str_lem xft\"><span class=\"f\">str_lem=</span>Ἰωσαφάτ</span> <span class=\"strongs xft\"><span class=\"f\">strongs=</span>2498</span> <span class=\"vrsnum xft\"><span class=\"f\">vrsnum=</span>6</span></div>\n",
       "</div>\n",
       "<div class=\"word  hl\"  style=\"background-color: lightsalmon;\" >\n",
       "<div class=\"grk\">δὲ </div>\n",
       "<div class=\"features\"> <span class=\"anlex_lem xft\"><span class=\"f\">anlex_lem=</span>δέ</span> <span class=\"gloss xft\"><span class=\"f\">gloss=</span>but</span> <span class=\"ketiv xft\"><span class=\"f\">ketiv=</span>δὲ</span> <span class=\"morph xft\"><span class=\"f\">morph=</span>CONJ</span> <span class=\"morph_bkp xft\"><span class=\"f\">morph_bkp=</span>CONJ</span> <span class=\"qere xft\"><span class=\"f\">qere=</span>δὲ</span> <span class=\"str_lem xft\"><span class=\"f\">str_lem=</span>δέ</span> <span class=\"strongs xft\"><span class=\"f\">strongs=</span>1161</span> <span class=\"vrsnum xft\"><span class=\"f\">vrsnum=</span>7</span></div>\n",
       "</div>\n",
       "<div class=\"word  hl\"  style=\"background-color: lightsalmon;\" >\n",
       "<div class=\"grk\">ἐγέννησεν </div>\n",
       "<div class=\"features\"> <span class=\"anlex_lem xft\"><span class=\"f\">anlex_lem=</span>γεννάω</span> <span class=\"gloss xft\"><span class=\"f\">gloss=</span>to become the father of</span> <span class=\"ketiv xft\"><span class=\"f\">ketiv=</span>ἐγέννησεν</span> <span class=\"morph xft\"><span class=\"f\">morph=</span>verb-AAI-3S</span> <span class=\"morph_bkp xft\"><span class=\"f\">morph_bkp=</span>V-AAI-3S</span> <span class=\"qere xft\"><span class=\"f\">qere=</span>ἐγέννησεν</span> <span class=\"str_lem xft\"><span class=\"f\">str_lem=</span>γεννάω</span> <span class=\"strongs xft\"><span class=\"f\">strongs=</span>1080</span> <span class=\"vrsnum xft\"><span class=\"f\">vrsnum=</span>8</span></div>\n",
       "</div>\n",
       "<div class=\"word  hl\"  style=\"background-color: lightsalmon;\" >\n",
       "<div class=\"grk\">τὸν </div>\n",
       "<div class=\"features\"> <span class=\"anlex_lem xft\"><span class=\"f\">anlex_lem=</span>ὁ</span> <span class=\"gloss xft\"><span class=\"f\">gloss=</span>the</span> <span class=\"ketiv xft\"><span class=\"f\">ketiv=</span>τὸν</span> <span class=\"morph xft\"><span class=\"f\">morph=</span>T-ASM</span> <span class=\"morph_bkp xft\"><span class=\"f\">morph_bkp=</span>T-ASM</span> <span class=\"qere xft\"><span class=\"f\">qere=</span>τὸν</span> <span class=\"str_lem xft\"><span class=\"f\">str_lem=</span>ὁ</span> <span class=\"strongs xft\"><span class=\"f\">strongs=</span>3588</span> <span class=\"vrsnum xft\"><span class=\"f\">vrsnum=</span>9</span></div>\n",
       "</div>\n",
       "<div class=\"word  hl\"  style=\"background-color: lightsalmon;\" >\n",
       "<div class=\"grk\">Ἰωράμ, </div>\n",
       "<div class=\"features\"> <span class=\"anlex_lem xft\"><span class=\"f\">anlex_lem=</span>Ἰωράμ</span> <span class=\"gloss xft\"><span class=\"f\">gloss=</span>Jehoram</span> <span class=\"ketiv xft\"><span class=\"f\">ketiv=</span>Ἰωράμ,</span> <span class=\"morph xft\"><span class=\"f\">morph=</span>noun-PRI</span> <span class=\"morph_bkp xft\"><span class=\"f\">morph_bkp=</span>N-PRI</span> <span class=\"qere xft\"><span class=\"f\">qere=</span>Ἰωράμ,</span> <span class=\"str_lem xft\"><span class=\"f\">str_lem=</span>Ἰωράμ</span> <span class=\"strongs xft\"><span class=\"f\">strongs=</span>2496</span> <span class=\"vrsnum xft\"><span class=\"f\">vrsnum=</span>10</span></div>\n",
       "</div>\n",
       "<div class=\"word  hl\"  style=\"background-color: lightsalmon;\" >\n",
       "<div class=\"grk\">Ἰωρὰμ </div>\n",
       "<div class=\"features\"> <span class=\"anlex_lem xft\"><span class=\"f\">anlex_lem=</span>Ἰωράμ</span> <span class=\"gloss xft\"><span class=\"f\">gloss=</span>Jehoram</span> <span class=\"ketiv xft\"><span class=\"f\">ketiv=</span>Ἰωρὰμ</span> <span class=\"morph xft\"><span class=\"f\">morph=</span>noun-PRI</span> <span class=\"morph_bkp xft\"><span class=\"f\">morph_bkp=</span>N-PRI</span> <span class=\"qere xft\"><span class=\"f\">qere=</span>Ἰωρὰμ</span> <span class=\"str_lem xft\"><span class=\"f\">str_lem=</span>Ἰωράμ</span> <span class=\"strongs xft\"><span class=\"f\">strongs=</span>2496</span> <span class=\"vrsnum xft\"><span class=\"f\">vrsnum=</span>11</span></div>\n",
       "</div>\n",
       "<div class=\"word  hl\"  style=\"background-color: lightsalmon;\" >\n",
       "<div class=\"grk\">δὲ </div>\n",
       "<div class=\"features\"> <span class=\"anlex_lem xft\"><span class=\"f\">anlex_lem=</span>δέ</span> <span class=\"gloss xft\"><span class=\"f\">gloss=</span>but</span> <span class=\"ketiv xft\"><span class=\"f\">ketiv=</span>δὲ</span> <span class=\"morph xft\"><span class=\"f\">morph=</span>CONJ</span> <span class=\"morph_bkp xft\"><span class=\"f\">morph_bkp=</span>CONJ</span> <span class=\"qere xft\"><span class=\"f\">qere=</span>δὲ</span> <span class=\"str_lem xft\"><span class=\"f\">str_lem=</span>δέ</span> <span class=\"strongs xft\"><span class=\"f\">strongs=</span>1161</span> <span class=\"vrsnum xft\"><span class=\"f\">vrsnum=</span>12</span></div>\n",
       "</div>\n",
       "<div class=\"word  hl\"  style=\"background-color: lightsalmon;\" >\n",
       "<div class=\"grk\">ἐγέννησεν </div>\n",
       "<div class=\"features\"> <span class=\"anlex_lem xft\"><span class=\"f\">anlex_lem=</span>γεννάω</span> <span class=\"gloss xft\"><span class=\"f\">gloss=</span>to become the father of</span> <span class=\"ketiv xft\"><span class=\"f\">ketiv=</span>ἐγέννησεν</span> <span class=\"morph xft\"><span class=\"f\">morph=</span>verb-AAI-3S</span> <span class=\"morph_bkp xft\"><span class=\"f\">morph_bkp=</span>V-AAI-3S</span> <span class=\"qere xft\"><span class=\"f\">qere=</span>ἐγέννησεν</span> <span class=\"str_lem xft\"><span class=\"f\">str_lem=</span>γεννάω</span> <span class=\"strongs xft\"><span class=\"f\">strongs=</span>1080</span> <span class=\"vrsnum xft\"><span class=\"f\">vrsnum=</span>13</span></div>\n",
       "</div>\n",
       "<div class=\"word  hl\"  style=\"background-color: lightsalmon;\" >\n",
       "<div class=\"grk\">τὸν </div>\n",
       "<div class=\"features\"> <span class=\"anlex_lem xft\"><span class=\"f\">anlex_lem=</span>ὁ</span> <span class=\"gloss xft\"><span class=\"f\">gloss=</span>the</span> <span class=\"ketiv xft\"><span class=\"f\">ketiv=</span>τὸν</span> <span class=\"morph xft\"><span class=\"f\">morph=</span>T-ASM</span> <span class=\"morph_bkp xft\"><span class=\"f\">morph_bkp=</span>T-ASM</span> <span class=\"qere xft\"><span class=\"f\">qere=</span>τὸν</span> <span class=\"str_lem xft\"><span class=\"f\">str_lem=</span>ὁ</span> <span class=\"strongs xft\"><span class=\"f\">strongs=</span>3588</span> <span class=\"vrsnum xft\"><span class=\"f\">vrsnum=</span>14</span></div>\n",
       "</div>\n",
       "<div class=\"word  hl\"  style=\"background-color: lightsalmon;\" >\n",
       "<div class=\"grk\">Ὀζείαν, </div>\n",
       "<div class=\"features\"> <span class=\"anlex_lem xft\"><span class=\"f\">anlex_lem=</span>Ὀζίας</span> <span class=\"gloss xft\"><span class=\"f\">gloss=</span>Uzziah</span> <span class=\"ketiv xft\"><span class=\"f\">ketiv=</span>Ὀζείαν,</span> <span class=\"morph xft\"><span class=\"f\">morph=</span>noun-ASM</span> <span class=\"morph_bkp xft\"><span class=\"f\">morph_bkp=</span>N-ASM</span> <span class=\"qere xft\"><span class=\"f\">qere=</span>Ὀζείαν,</span> <span class=\"str_lem xft\"><span class=\"f\">str_lem=</span>Ὀζίας</span> <span class=\"strongs xft\"><span class=\"f\">strongs=</span>3604</span> <span class=\"vrsnum xft\"><span class=\"f\">vrsnum=</span>15</span></div>\n",
       "</div>\n",
       "</div>\n",
       "</div>"
      ],
      "text/plain": [
       "<IPython.core.display.HTML object>"
      ]
     },
     "metadata": {},
     "output_type": "display_data"
    },
    {
     "data": {
      "text/html": [
       "<p><b>verse</b> <i>9</i></p>"
      ],
      "text/plain": [
       "<IPython.core.display.HTML object>"
      ]
     },
     "metadata": {},
     "output_type": "display_data"
    },
    {
     "data": {
      "text/html": [
       "<div class=\"outeritem\">\n",
       "<div class=\"verse  \" >\n",
       "\n",
       "    <div class=\"ll\">\n",
       "        <div class=\"line\"><a href=\"https://github.com/morphgnt/tischendorf-data/tree/master/word-per-line/2.8/Unicode/MT.txt\" title=\"see this passage in its source document\" sec=\"Matthew 1:9\">Matthew 1:9</a></div>\n",
       "\n",
       "        <div class=\"features\"></div>\n",
       "    </div>\n",
       "\n",
       "<div class=\"word  hl\"  style=\"background-color: lightsalmon;\" >\n",
       "<div class=\"grk\">Ὀζείας </div>\n",
       "<div class=\"features\"> <span class=\"anlex_lem xft\"><span class=\"f\">anlex_lem=</span>Ὀζίας</span> <span class=\"gloss xft\"><span class=\"f\">gloss=</span>Uzziah</span> <span class=\"ketiv xft\"><span class=\"f\">ketiv=</span>Ὀζείας</span> <span class=\"morph xft\"><span class=\"f\">morph=</span>noun-NSM</span> <span class=\"morph_bkp xft\"><span class=\"f\">morph_bkp=</span>N-NSM</span> <span class=\"qere xft\"><span class=\"f\">qere=</span>Ὀζείας</span> <span class=\"str_lem xft\"><span class=\"f\">str_lem=</span>Ὀζίας</span> <span class=\"strongs xft\"><span class=\"f\">strongs=</span>3604</span> <span class=\"vrsnum xft\"><span class=\"f\">vrsnum=</span>1</span></div>\n",
       "</div>\n",
       "<div class=\"word  hl\"  style=\"background-color: lightsalmon;\" >\n",
       "<div class=\"grk\">δὲ </div>\n",
       "<div class=\"features\"> <span class=\"anlex_lem xft\"><span class=\"f\">anlex_lem=</span>δέ</span> <span class=\"gloss xft\"><span class=\"f\">gloss=</span>but</span> <span class=\"ketiv xft\"><span class=\"f\">ketiv=</span>δὲ</span> <span class=\"morph xft\"><span class=\"f\">morph=</span>CONJ</span> <span class=\"morph_bkp xft\"><span class=\"f\">morph_bkp=</span>CONJ</span> <span class=\"qere xft\"><span class=\"f\">qere=</span>δὲ</span> <span class=\"str_lem xft\"><span class=\"f\">str_lem=</span>δέ</span> <span class=\"strongs xft\"><span class=\"f\">strongs=</span>1161</span> <span class=\"vrsnum xft\"><span class=\"f\">vrsnum=</span>2</span></div>\n",
       "</div>\n",
       "<div class=\"word  hl\"  style=\"background-color: lightsalmon;\" >\n",
       "<div class=\"grk\">ἐγέννησεν </div>\n",
       "<div class=\"features\"> <span class=\"anlex_lem xft\"><span class=\"f\">anlex_lem=</span>γεννάω</span> <span class=\"gloss xft\"><span class=\"f\">gloss=</span>to become the father of</span> <span class=\"ketiv xft\"><span class=\"f\">ketiv=</span>ἐγέννησεν</span> <span class=\"morph xft\"><span class=\"f\">morph=</span>verb-AAI-3S</span> <span class=\"morph_bkp xft\"><span class=\"f\">morph_bkp=</span>V-AAI-3S</span> <span class=\"qere xft\"><span class=\"f\">qere=</span>ἐγέννησεν</span> <span class=\"str_lem xft\"><span class=\"f\">str_lem=</span>γεννάω</span> <span class=\"strongs xft\"><span class=\"f\">strongs=</span>1080</span> <span class=\"vrsnum xft\"><span class=\"f\">vrsnum=</span>3</span></div>\n",
       "</div>\n",
       "<div class=\"word  hl\"  style=\"background-color: lightsalmon;\" >\n",
       "<div class=\"grk\">τὸν </div>\n",
       "<div class=\"features\"> <span class=\"anlex_lem xft\"><span class=\"f\">anlex_lem=</span>ὁ</span> <span class=\"gloss xft\"><span class=\"f\">gloss=</span>the</span> <span class=\"ketiv xft\"><span class=\"f\">ketiv=</span>τὸν</span> <span class=\"morph xft\"><span class=\"f\">morph=</span>T-ASM</span> <span class=\"morph_bkp xft\"><span class=\"f\">morph_bkp=</span>T-ASM</span> <span class=\"qere xft\"><span class=\"f\">qere=</span>τὸν</span> <span class=\"str_lem xft\"><span class=\"f\">str_lem=</span>ὁ</span> <span class=\"strongs xft\"><span class=\"f\">strongs=</span>3588</span> <span class=\"vrsnum xft\"><span class=\"f\">vrsnum=</span>4</span></div>\n",
       "</div>\n",
       "<div class=\"word  hl\"  style=\"background-color: lightsalmon;\" >\n",
       "<div class=\"grk\">Ἰωαθάμ, </div>\n",
       "<div class=\"features\"> <span class=\"anlex_lem xft\"><span class=\"f\">anlex_lem=</span>Ἰωαθάμ</span> <span class=\"gloss xft\"><span class=\"f\">gloss=</span>Jotham</span> <span class=\"ketiv xft\"><span class=\"f\">ketiv=</span>Ἰωαθάμ,</span> <span class=\"morph xft\"><span class=\"f\">morph=</span>noun-PRI</span> <span class=\"morph_bkp xft\"><span class=\"f\">morph_bkp=</span>N-PRI</span> <span class=\"qere xft\"><span class=\"f\">qere=</span>Ἰωαθάμ,</span> <span class=\"str_lem xft\"><span class=\"f\">str_lem=</span>Ἰωάθαμ</span> <span class=\"strongs xft\"><span class=\"f\">strongs=</span>2488</span> <span class=\"vrsnum xft\"><span class=\"f\">vrsnum=</span>5</span></div>\n",
       "</div>\n",
       "<div class=\"word  hl\"  style=\"background-color: lightsalmon;\" >\n",
       "<div class=\"grk\">Ἰωαθὰμ </div>\n",
       "<div class=\"features\"> <span class=\"anlex_lem xft\"><span class=\"f\">anlex_lem=</span>Ἰωαθάμ</span> <span class=\"gloss xft\"><span class=\"f\">gloss=</span>Jotham</span> <span class=\"ketiv xft\"><span class=\"f\">ketiv=</span>Ἰωαθὰμ</span> <span class=\"morph xft\"><span class=\"f\">morph=</span>noun-PRI</span> <span class=\"morph_bkp xft\"><span class=\"f\">morph_bkp=</span>N-PRI</span> <span class=\"qere xft\"><span class=\"f\">qere=</span>Ἰωαθὰμ</span> <span class=\"str_lem xft\"><span class=\"f\">str_lem=</span>Ἰωάθαμ</span> <span class=\"strongs xft\"><span class=\"f\">strongs=</span>2488</span> <span class=\"vrsnum xft\"><span class=\"f\">vrsnum=</span>6</span></div>\n",
       "</div>\n",
       "<div class=\"word  hl\"  style=\"background-color: lightsalmon;\" >\n",
       "<div class=\"grk\">δὲ </div>\n",
       "<div class=\"features\"> <span class=\"anlex_lem xft\"><span class=\"f\">anlex_lem=</span>δέ</span> <span class=\"gloss xft\"><span class=\"f\">gloss=</span>but</span> <span class=\"ketiv xft\"><span class=\"f\">ketiv=</span>δὲ</span> <span class=\"morph xft\"><span class=\"f\">morph=</span>CONJ</span> <span class=\"morph_bkp xft\"><span class=\"f\">morph_bkp=</span>CONJ</span> <span class=\"qere xft\"><span class=\"f\">qere=</span>δὲ</span> <span class=\"str_lem xft\"><span class=\"f\">str_lem=</span>δέ</span> <span class=\"strongs xft\"><span class=\"f\">strongs=</span>1161</span> <span class=\"vrsnum xft\"><span class=\"f\">vrsnum=</span>7</span></div>\n",
       "</div>\n",
       "<div class=\"word  hl\"  style=\"background-color: lightsalmon;\" >\n",
       "<div class=\"grk\">ἐγέννησεν </div>\n",
       "<div class=\"features\"> <span class=\"anlex_lem xft\"><span class=\"f\">anlex_lem=</span>γεννάω</span> <span class=\"gloss xft\"><span class=\"f\">gloss=</span>to become the father of</span> <span class=\"ketiv xft\"><span class=\"f\">ketiv=</span>ἐγέννησεν</span> <span class=\"morph xft\"><span class=\"f\">morph=</span>verb-AAI-3S</span> <span class=\"morph_bkp xft\"><span class=\"f\">morph_bkp=</span>V-AAI-3S</span> <span class=\"qere xft\"><span class=\"f\">qere=</span>ἐγέννησεν</span> <span class=\"str_lem xft\"><span class=\"f\">str_lem=</span>γεννάω</span> <span class=\"strongs xft\"><span class=\"f\">strongs=</span>1080</span> <span class=\"vrsnum xft\"><span class=\"f\">vrsnum=</span>8</span></div>\n",
       "</div>\n",
       "<div class=\"word  hl\"  style=\"background-color: lightsalmon;\" >\n",
       "<div class=\"grk\">τὸν </div>\n",
       "<div class=\"features\"> <span class=\"anlex_lem xft\"><span class=\"f\">anlex_lem=</span>ὁ</span> <span class=\"gloss xft\"><span class=\"f\">gloss=</span>the</span> <span class=\"ketiv xft\"><span class=\"f\">ketiv=</span>τὸν</span> <span class=\"morph xft\"><span class=\"f\">morph=</span>T-ASM</span> <span class=\"morph_bkp xft\"><span class=\"f\">morph_bkp=</span>T-ASM</span> <span class=\"qere xft\"><span class=\"f\">qere=</span>τὸν</span> <span class=\"str_lem xft\"><span class=\"f\">str_lem=</span>ὁ</span> <span class=\"strongs xft\"><span class=\"f\">strongs=</span>3588</span> <span class=\"vrsnum xft\"><span class=\"f\">vrsnum=</span>9</span></div>\n",
       "</div>\n",
       "<div class=\"word  hl\"  style=\"background-color: lightsalmon;\" >\n",
       "<div class=\"grk\">Ἀχάζ, </div>\n",
       "<div class=\"features\"> <span class=\"anlex_lem xft\"><span class=\"f\">anlex_lem=</span>Ἀχάζ</span> <span class=\"gloss xft\"><span class=\"f\">gloss=</span>Ahaz</span> <span class=\"ketiv xft\"><span class=\"f\">ketiv=</span>Ἀχάζ,</span> <span class=\"morph xft\"><span class=\"f\">morph=</span>noun-PRI</span> <span class=\"morph_bkp xft\"><span class=\"f\">morph_bkp=</span>N-PRI</span> <span class=\"qere xft\"><span class=\"f\">qere=</span>Ἀχάζ,</span> <span class=\"str_lem xft\"><span class=\"f\">str_lem=</span>Ἀχάζ</span> <span class=\"strongs xft\"><span class=\"f\">strongs=</span>881</span> <span class=\"vrsnum xft\"><span class=\"f\">vrsnum=</span>10</span></div>\n",
       "</div>\n",
       "<div class=\"word  hl\"  style=\"background-color: lightsalmon;\" >\n",
       "<div class=\"grk\">Ἀχὰζ </div>\n",
       "<div class=\"features\"> <span class=\"anlex_lem xft\"><span class=\"f\">anlex_lem=</span>Ἀχάζ</span> <span class=\"gloss xft\"><span class=\"f\">gloss=</span>Ahaz</span> <span class=\"ketiv xft\"><span class=\"f\">ketiv=</span>Ἀχὰζ</span> <span class=\"morph xft\"><span class=\"f\">morph=</span>noun-PRI</span> <span class=\"morph_bkp xft\"><span class=\"f\">morph_bkp=</span>N-PRI</span> <span class=\"qere xft\"><span class=\"f\">qere=</span>Ἀχὰζ</span> <span class=\"str_lem xft\"><span class=\"f\">str_lem=</span>Ἀχάζ</span> <span class=\"strongs xft\"><span class=\"f\">strongs=</span>881</span> <span class=\"vrsnum xft\"><span class=\"f\">vrsnum=</span>11</span></div>\n",
       "</div>\n",
       "<div class=\"word  hl\"  style=\"background-color: lightsalmon;\" >\n",
       "<div class=\"grk\">δὲ </div>\n",
       "<div class=\"features\"> <span class=\"anlex_lem xft\"><span class=\"f\">anlex_lem=</span>δέ</span> <span class=\"gloss xft\"><span class=\"f\">gloss=</span>but</span> <span class=\"ketiv xft\"><span class=\"f\">ketiv=</span>δὲ</span> <span class=\"morph xft\"><span class=\"f\">morph=</span>CONJ</span> <span class=\"morph_bkp xft\"><span class=\"f\">morph_bkp=</span>CONJ</span> <span class=\"qere xft\"><span class=\"f\">qere=</span>δὲ</span> <span class=\"str_lem xft\"><span class=\"f\">str_lem=</span>δέ</span> <span class=\"strongs xft\"><span class=\"f\">strongs=</span>1161</span> <span class=\"vrsnum xft\"><span class=\"f\">vrsnum=</span>12</span></div>\n",
       "</div>\n",
       "<div class=\"word  hl\"  style=\"background-color: lightsalmon;\" >\n",
       "<div class=\"grk\">ἐγέννησεν </div>\n",
       "<div class=\"features\"> <span class=\"anlex_lem xft\"><span class=\"f\">anlex_lem=</span>γεννάω</span> <span class=\"gloss xft\"><span class=\"f\">gloss=</span>to become the father of</span> <span class=\"ketiv xft\"><span class=\"f\">ketiv=</span>ἐγέννησεν</span> <span class=\"morph xft\"><span class=\"f\">morph=</span>verb-AAI-3S</span> <span class=\"morph_bkp xft\"><span class=\"f\">morph_bkp=</span>V-AAI-3S</span> <span class=\"qere xft\"><span class=\"f\">qere=</span>ἐγέννησεν</span> <span class=\"str_lem xft\"><span class=\"f\">str_lem=</span>γεννάω</span> <span class=\"strongs xft\"><span class=\"f\">strongs=</span>1080</span> <span class=\"vrsnum xft\"><span class=\"f\">vrsnum=</span>13</span></div>\n",
       "</div>\n",
       "<div class=\"word  hl\"  style=\"background-color: lightsalmon;\" >\n",
       "<div class=\"grk\">τὸν </div>\n",
       "<div class=\"features\"> <span class=\"anlex_lem xft\"><span class=\"f\">anlex_lem=</span>ὁ</span> <span class=\"gloss xft\"><span class=\"f\">gloss=</span>the</span> <span class=\"ketiv xft\"><span class=\"f\">ketiv=</span>τὸν</span> <span class=\"morph xft\"><span class=\"f\">morph=</span>T-ASM</span> <span class=\"morph_bkp xft\"><span class=\"f\">morph_bkp=</span>T-ASM</span> <span class=\"qere xft\"><span class=\"f\">qere=</span>τὸν</span> <span class=\"str_lem xft\"><span class=\"f\">str_lem=</span>ὁ</span> <span class=\"strongs xft\"><span class=\"f\">strongs=</span>3588</span> <span class=\"vrsnum xft\"><span class=\"f\">vrsnum=</span>14</span></div>\n",
       "</div>\n",
       "<div class=\"word  hl\"  style=\"background-color: lightsalmon;\" >\n",
       "<div class=\"grk\">Ἑζεκίαν, </div>\n",
       "<div class=\"features\"> <span class=\"anlex_lem xft\"><span class=\"f\">anlex_lem=</span>Ἑζεκίας</span> <span class=\"gloss xft\"><span class=\"f\">gloss=</span>Hezekiah</span> <span class=\"ketiv xft\"><span class=\"f\">ketiv=</span>Ἑζεκίαν,</span> <span class=\"morph xft\"><span class=\"f\">morph=</span>noun-ASM</span> <span class=\"morph_bkp xft\"><span class=\"f\">morph_bkp=</span>N-ASM</span> <span class=\"qere xft\"><span class=\"f\">qere=</span>Ἑζεκίαν,</span> <span class=\"str_lem xft\"><span class=\"f\">str_lem=</span>Ἐζεκίας</span> <span class=\"strongs xft\"><span class=\"f\">strongs=</span>1478</span> <span class=\"vrsnum xft\"><span class=\"f\">vrsnum=</span>15</span></div>\n",
       "</div>\n",
       "</div>\n",
       "</div>"
      ],
      "text/plain": [
       "<IPython.core.display.HTML object>"
      ]
     },
     "metadata": {},
     "output_type": "display_data"
    },
    {
     "data": {
      "text/html": [
       "<p><b>verse</b> <i>10</i></p>"
      ],
      "text/plain": [
       "<IPython.core.display.HTML object>"
      ]
     },
     "metadata": {},
     "output_type": "display_data"
    },
    {
     "data": {
      "text/html": [
       "<div class=\"outeritem\">\n",
       "<div class=\"verse  \" >\n",
       "\n",
       "    <div class=\"ll\">\n",
       "        <div class=\"line\"><a href=\"https://github.com/morphgnt/tischendorf-data/tree/master/word-per-line/2.8/Unicode/MT.txt\" title=\"see this passage in its source document\" sec=\"Matthew 1:10\">Matthew 1:10</a></div>\n",
       "\n",
       "        <div class=\"features\"></div>\n",
       "    </div>\n",
       "\n",
       "<div class=\"word  hl\"  style=\"background-color: lightsalmon;\" >\n",
       "<div class=\"grk\">Ἑζεκίας </div>\n",
       "<div class=\"features\"> <span class=\"anlex_lem xft\"><span class=\"f\">anlex_lem=</span>Ἑζεκίας</span> <span class=\"gloss xft\"><span class=\"f\">gloss=</span>Hezekiah</span> <span class=\"ketiv xft\"><span class=\"f\">ketiv=</span>Ἑζεκίας</span> <span class=\"morph xft\"><span class=\"f\">morph=</span>noun-NSM</span> <span class=\"morph_bkp xft\"><span class=\"f\">morph_bkp=</span>N-NSM</span> <span class=\"qere xft\"><span class=\"f\">qere=</span>Ἑζεκίας</span> <span class=\"str_lem xft\"><span class=\"f\">str_lem=</span>Ἐζεκίας</span> <span class=\"strongs xft\"><span class=\"f\">strongs=</span>1478</span> <span class=\"vrsnum xft\"><span class=\"f\">vrsnum=</span>1</span></div>\n",
       "</div>\n",
       "<div class=\"word  hl\"  style=\"background-color: lightsalmon;\" >\n",
       "<div class=\"grk\">δὲ </div>\n",
       "<div class=\"features\"> <span class=\"anlex_lem xft\"><span class=\"f\">anlex_lem=</span>δέ</span> <span class=\"gloss xft\"><span class=\"f\">gloss=</span>but</span> <span class=\"ketiv xft\"><span class=\"f\">ketiv=</span>δὲ</span> <span class=\"morph xft\"><span class=\"f\">morph=</span>CONJ</span> <span class=\"morph_bkp xft\"><span class=\"f\">morph_bkp=</span>CONJ</span> <span class=\"qere xft\"><span class=\"f\">qere=</span>δὲ</span> <span class=\"str_lem xft\"><span class=\"f\">str_lem=</span>δέ</span> <span class=\"strongs xft\"><span class=\"f\">strongs=</span>1161</span> <span class=\"vrsnum xft\"><span class=\"f\">vrsnum=</span>2</span></div>\n",
       "</div>\n",
       "<div class=\"word  hl\"  style=\"background-color: lightsalmon;\" >\n",
       "<div class=\"grk\">ἐγέννησεν </div>\n",
       "<div class=\"features\"> <span class=\"anlex_lem xft\"><span class=\"f\">anlex_lem=</span>γεννάω</span> <span class=\"gloss xft\"><span class=\"f\">gloss=</span>to become the father of</span> <span class=\"ketiv xft\"><span class=\"f\">ketiv=</span>ἐγέννησεν</span> <span class=\"morph xft\"><span class=\"f\">morph=</span>verb-AAI-3S</span> <span class=\"morph_bkp xft\"><span class=\"f\">morph_bkp=</span>V-AAI-3S</span> <span class=\"qere xft\"><span class=\"f\">qere=</span>ἐγέννησεν</span> <span class=\"str_lem xft\"><span class=\"f\">str_lem=</span>γεννάω</span> <span class=\"strongs xft\"><span class=\"f\">strongs=</span>1080</span> <span class=\"vrsnum xft\"><span class=\"f\">vrsnum=</span>3</span></div>\n",
       "</div>\n",
       "<div class=\"word  hl\"  style=\"background-color: lightsalmon;\" >\n",
       "<div class=\"grk\">τὸν </div>\n",
       "<div class=\"features\"> <span class=\"anlex_lem xft\"><span class=\"f\">anlex_lem=</span>ὁ</span> <span class=\"gloss xft\"><span class=\"f\">gloss=</span>the</span> <span class=\"ketiv xft\"><span class=\"f\">ketiv=</span>τὸν</span> <span class=\"morph xft\"><span class=\"f\">morph=</span>T-ASM</span> <span class=\"morph_bkp xft\"><span class=\"f\">morph_bkp=</span>T-ASM</span> <span class=\"qere xft\"><span class=\"f\">qere=</span>τὸν</span> <span class=\"str_lem xft\"><span class=\"f\">str_lem=</span>ὁ</span> <span class=\"strongs xft\"><span class=\"f\">strongs=</span>3588</span> <span class=\"vrsnum xft\"><span class=\"f\">vrsnum=</span>4</span></div>\n",
       "</div>\n",
       "<div class=\"word  hl\"  style=\"background-color: lightsalmon;\" >\n",
       "<div class=\"grk\">Μανασσῆ, </div>\n",
       "<div class=\"features\"> <span class=\"anlex_lem xft\"><span class=\"f\">anlex_lem=</span>Μανασσῆ</span> <span class=\"gloss xft\"><span class=\"f\">gloss=</span>Manasseh</span> <span class=\"ketiv xft\"><span class=\"f\">ketiv=</span>Μανασσῆ,</span> <span class=\"morph xft\"><span class=\"f\">morph=</span>noun-ASM</span> <span class=\"morph_bkp xft\"><span class=\"f\">morph_bkp=</span>N-ASM</span> <span class=\"qere xft\"><span class=\"f\">qere=</span>Μανασσῆ,</span> <span class=\"str_lem xft\"><span class=\"f\">str_lem=</span>Μανασσῆς</span> <span class=\"strongs xft\"><span class=\"f\">strongs=</span>3128</span> <span class=\"vrsnum xft\"><span class=\"f\">vrsnum=</span>5</span></div>\n",
       "</div>\n",
       "<div class=\"word  hl\"  style=\"background-color: lightsalmon;\" >\n",
       "<div class=\"grk\">Μανασσῆς </div>\n",
       "<div class=\"features\"> <span class=\"anlex_lem xft\"><span class=\"f\">anlex_lem=</span>Μανασσῆ</span> <span class=\"gloss xft\"><span class=\"f\">gloss=</span>Manasseh</span> <span class=\"ketiv xft\"><span class=\"f\">ketiv=</span>Μανασσῆς</span> <span class=\"morph xft\"><span class=\"f\">morph=</span>noun-NSM</span> <span class=\"morph_bkp xft\"><span class=\"f\">morph_bkp=</span>N-NSM</span> <span class=\"qere xft\"><span class=\"f\">qere=</span>Μανασσῆς</span> <span class=\"str_lem xft\"><span class=\"f\">str_lem=</span>Μανασσῆς</span> <span class=\"strongs xft\"><span class=\"f\">strongs=</span>3128</span> <span class=\"vrsnum xft\"><span class=\"f\">vrsnum=</span>6</span></div>\n",
       "</div>\n",
       "<div class=\"word  hl\"  style=\"background-color: lightsalmon;\" >\n",
       "<div class=\"grk\">δὲ </div>\n",
       "<div class=\"features\"> <span class=\"anlex_lem xft\"><span class=\"f\">anlex_lem=</span>δέ</span> <span class=\"gloss xft\"><span class=\"f\">gloss=</span>but</span> <span class=\"ketiv xft\"><span class=\"f\">ketiv=</span>δὲ</span> <span class=\"morph xft\"><span class=\"f\">morph=</span>CONJ</span> <span class=\"morph_bkp xft\"><span class=\"f\">morph_bkp=</span>CONJ</span> <span class=\"qere xft\"><span class=\"f\">qere=</span>δὲ</span> <span class=\"str_lem xft\"><span class=\"f\">str_lem=</span>δέ</span> <span class=\"strongs xft\"><span class=\"f\">strongs=</span>1161</span> <span class=\"vrsnum xft\"><span class=\"f\">vrsnum=</span>7</span></div>\n",
       "</div>\n",
       "<div class=\"word  hl\"  style=\"background-color: lightsalmon;\" >\n",
       "<div class=\"grk\">ἐγέννησεν </div>\n",
       "<div class=\"features\"> <span class=\"anlex_lem xft\"><span class=\"f\">anlex_lem=</span>γεννάω</span> <span class=\"gloss xft\"><span class=\"f\">gloss=</span>to become the father of</span> <span class=\"ketiv xft\"><span class=\"f\">ketiv=</span>ἐγέννησεν</span> <span class=\"morph xft\"><span class=\"f\">morph=</span>verb-AAI-3S</span> <span class=\"morph_bkp xft\"><span class=\"f\">morph_bkp=</span>V-AAI-3S</span> <span class=\"qere xft\"><span class=\"f\">qere=</span>ἐγέννησεν</span> <span class=\"str_lem xft\"><span class=\"f\">str_lem=</span>γεννάω</span> <span class=\"strongs xft\"><span class=\"f\">strongs=</span>1080</span> <span class=\"vrsnum xft\"><span class=\"f\">vrsnum=</span>8</span></div>\n",
       "</div>\n",
       "<div class=\"word  hl\"  style=\"background-color: lightsalmon;\" >\n",
       "<div class=\"grk\">τὸν </div>\n",
       "<div class=\"features\"> <span class=\"anlex_lem xft\"><span class=\"f\">anlex_lem=</span>ὁ</span> <span class=\"gloss xft\"><span class=\"f\">gloss=</span>the</span> <span class=\"ketiv xft\"><span class=\"f\">ketiv=</span>τὸν</span> <span class=\"morph xft\"><span class=\"f\">morph=</span>T-ASM</span> <span class=\"morph_bkp xft\"><span class=\"f\">morph_bkp=</span>T-ASM</span> <span class=\"qere xft\"><span class=\"f\">qere=</span>τὸν</span> <span class=\"str_lem xft\"><span class=\"f\">str_lem=</span>ὁ</span> <span class=\"strongs xft\"><span class=\"f\">strongs=</span>3588</span> <span class=\"vrsnum xft\"><span class=\"f\">vrsnum=</span>9</span></div>\n",
       "</div>\n",
       "<div class=\"word  hl\"  style=\"background-color: lightsalmon;\" >\n",
       "<div class=\"grk\">Ἀμώς, </div>\n",
       "<div class=\"features\"> <span class=\"anlex_lem xft\"><span class=\"f\">anlex_lem=</span>Ἀμώς</span> <span class=\"gloss xft\"><span class=\"f\">gloss=</span>Amos</span> <span class=\"ketiv xft\"><span class=\"f\">ketiv=</span>Ἀμώς,</span> <span class=\"morph xft\"><span class=\"f\">morph=</span>noun-PRI</span> <span class=\"morph_bkp xft\"><span class=\"f\">morph_bkp=</span>N-PRI</span> <span class=\"qere xft\"><span class=\"f\">qere=</span>Ἀμώς,</span> <span class=\"str_lem xft\"><span class=\"f\">str_lem=</span>Ἀμώς</span> <span class=\"strongs xft\"><span class=\"f\">strongs=</span>301</span> <span class=\"vrsnum xft\"><span class=\"f\">vrsnum=</span>10</span></div>\n",
       "</div>\n",
       "<div class=\"word  hl\"  style=\"background-color: lightsalmon;\" >\n",
       "<div class=\"grk\">Ἀμὼς </div>\n",
       "<div class=\"features\"> <span class=\"anlex_lem xft\"><span class=\"f\">anlex_lem=</span>Ἀμώς</span> <span class=\"gloss xft\"><span class=\"f\">gloss=</span>Amos</span> <span class=\"ketiv xft\"><span class=\"f\">ketiv=</span>Ἀμὼς</span> <span class=\"morph xft\"><span class=\"f\">morph=</span>noun-PRI</span> <span class=\"morph_bkp xft\"><span class=\"f\">morph_bkp=</span>N-PRI</span> <span class=\"qere xft\"><span class=\"f\">qere=</span>Ἀμὼς</span> <span class=\"str_lem xft\"><span class=\"f\">str_lem=</span>Ἀμώς</span> <span class=\"strongs xft\"><span class=\"f\">strongs=</span>301</span> <span class=\"vrsnum xft\"><span class=\"f\">vrsnum=</span>11</span></div>\n",
       "</div>\n",
       "<div class=\"word  hl\"  style=\"background-color: lightsalmon;\" >\n",
       "<div class=\"grk\">δὲ </div>\n",
       "<div class=\"features\"> <span class=\"anlex_lem xft\"><span class=\"f\">anlex_lem=</span>δέ</span> <span class=\"gloss xft\"><span class=\"f\">gloss=</span>but</span> <span class=\"ketiv xft\"><span class=\"f\">ketiv=</span>δὲ</span> <span class=\"morph xft\"><span class=\"f\">morph=</span>CONJ</span> <span class=\"morph_bkp xft\"><span class=\"f\">morph_bkp=</span>CONJ</span> <span class=\"qere xft\"><span class=\"f\">qere=</span>δὲ</span> <span class=\"str_lem xft\"><span class=\"f\">str_lem=</span>δέ</span> <span class=\"strongs xft\"><span class=\"f\">strongs=</span>1161</span> <span class=\"vrsnum xft\"><span class=\"f\">vrsnum=</span>12</span></div>\n",
       "</div>\n",
       "<div class=\"word  hl\"  style=\"background-color: lightsalmon;\" >\n",
       "<div class=\"grk\">ἐγέννησεν </div>\n",
       "<div class=\"features\"> <span class=\"anlex_lem xft\"><span class=\"f\">anlex_lem=</span>γεννάω</span> <span class=\"gloss xft\"><span class=\"f\">gloss=</span>to become the father of</span> <span class=\"ketiv xft\"><span class=\"f\">ketiv=</span>ἐγέννησεν</span> <span class=\"morph xft\"><span class=\"f\">morph=</span>verb-AAI-3S</span> <span class=\"morph_bkp xft\"><span class=\"f\">morph_bkp=</span>V-AAI-3S</span> <span class=\"qere xft\"><span class=\"f\">qere=</span>ἐγέννησεν</span> <span class=\"str_lem xft\"><span class=\"f\">str_lem=</span>γεννάω</span> <span class=\"strongs xft\"><span class=\"f\">strongs=</span>1080</span> <span class=\"vrsnum xft\"><span class=\"f\">vrsnum=</span>13</span></div>\n",
       "</div>\n",
       "<div class=\"word  hl\"  style=\"background-color: lightsalmon;\" >\n",
       "<div class=\"grk\">τὸν </div>\n",
       "<div class=\"features\"> <span class=\"anlex_lem xft\"><span class=\"f\">anlex_lem=</span>ὁ</span> <span class=\"gloss xft\"><span class=\"f\">gloss=</span>the</span> <span class=\"ketiv xft\"><span class=\"f\">ketiv=</span>τὸν</span> <span class=\"morph xft\"><span class=\"f\">morph=</span>T-ASM</span> <span class=\"morph_bkp xft\"><span class=\"f\">morph_bkp=</span>T-ASM</span> <span class=\"qere xft\"><span class=\"f\">qere=</span>τὸν</span> <span class=\"str_lem xft\"><span class=\"f\">str_lem=</span>ὁ</span> <span class=\"strongs xft\"><span class=\"f\">strongs=</span>3588</span> <span class=\"vrsnum xft\"><span class=\"f\">vrsnum=</span>14</span></div>\n",
       "</div>\n",
       "<div class=\"word  hl\"  style=\"background-color: lightsalmon;\" >\n",
       "<div class=\"grk\">Ἰωσείαν, </div>\n",
       "<div class=\"features\"> <span class=\"anlex_lem xft\"><span class=\"f\">anlex_lem=</span>Ἰωσίας</span> <span class=\"gloss xft\"><span class=\"f\">gloss=</span>Josiah</span> <span class=\"ketiv xft\"><span class=\"f\">ketiv=</span>Ἰωσείαν,</span> <span class=\"morph xft\"><span class=\"f\">morph=</span>noun-ASM</span> <span class=\"morph_bkp xft\"><span class=\"f\">morph_bkp=</span>N-ASM</span> <span class=\"qere xft\"><span class=\"f\">qere=</span>Ἰωσείαν,</span> <span class=\"str_lem xft\"><span class=\"f\">str_lem=</span>Ἰωσίας</span> <span class=\"strongs xft\"><span class=\"f\">strongs=</span>2502</span> <span class=\"vrsnum xft\"><span class=\"f\">vrsnum=</span>15</span></div>\n",
       "</div>\n",
       "</div>\n",
       "</div>"
      ],
      "text/plain": [
       "<IPython.core.display.HTML object>"
      ]
     },
     "metadata": {},
     "output_type": "display_data"
    }
   ],
   "source": [
    "A.show(Mat1_1, start=1, end=10, condensed=True, colorMap={3: 'lightsalmon', 4: 'mediumaquamarine'})"
   ]
  },
  {
   "cell_type": "code",
   "execution_count": 39,
   "metadata": {},
   "outputs": [
    {
     "name": "stdout",
     "output_type": "stream",
     "text": [
      "  0.14s 627 results\n"
     ]
    }
   ],
   "source": [
    "CAPM ='''\n",
    "word morph~^I\n",
    "'''\n",
    "CAPM=A.search(CAPM)"
   ]
  },
  {
   "cell_type": "code",
   "execution_count": 40,
   "metadata": {},
   "outputs": [
    {
     "data": {
      "text/html": [
       "<p><b>verse</b> <i>1</i></p>"
      ],
      "text/plain": [
       "<IPython.core.display.HTML object>"
      ]
     },
     "metadata": {},
     "output_type": "display_data"
    },
    {
     "data": {
      "text/html": [
       "<div class=\"outeritem\">\n",
       "<div class=\"verse  \" >\n",
       "\n",
       "    <div class=\"ll\">\n",
       "        <div class=\"line\"><a href=\"https://github.com/morphgnt/tischendorf-data/tree/master/word-per-line/2.8/Unicode/MT.txt\" title=\"see this passage in its source document\" sec=\"Matthew 3:7\">Matthew 3:7</a></div>\n",
       "\n",
       "        <div class=\"features\"></div>\n",
       "    </div>\n",
       "\n",
       "<div class=\"word  \" >\n",
       "<div class=\"grk\">ἰδὼν </div>\n",
       "<div class=\"features\"> <span class=\"morph xft\"><span class=\"f\">morph=</span>V-2AAP-NSM</span></div>\n",
       "</div>\n",
       "<div class=\"word  \" >\n",
       "<div class=\"grk\">δὲ </div>\n",
       "<div class=\"features\"> <span class=\"morph xft\"><span class=\"f\">morph=</span>CONJ</span></div>\n",
       "</div>\n",
       "<div class=\"word  \" >\n",
       "<div class=\"grk\">πολλοὺς </div>\n",
       "<div class=\"features\"> <span class=\"morph xft\"><span class=\"f\">morph=</span>A-APM</span></div>\n",
       "</div>\n",
       "<div class=\"word  \" >\n",
       "<div class=\"grk\">τῶν </div>\n",
       "<div class=\"features\"> <span class=\"morph xft\"><span class=\"f\">morph=</span>T-GPM</span></div>\n",
       "</div>\n",
       "<div class=\"word  \" >\n",
       "<div class=\"grk\">Φαρισαίων </div>\n",
       "<div class=\"features\"> <span class=\"morph xft\"><span class=\"f\">morph=</span>N-GPM</span></div>\n",
       "</div>\n",
       "<div class=\"word  \" >\n",
       "<div class=\"grk\">καὶ </div>\n",
       "<div class=\"features\"> <span class=\"morph xft\"><span class=\"f\">morph=</span>CONJ</span></div>\n",
       "</div>\n",
       "<div class=\"word  \" >\n",
       "<div class=\"grk\">Σαδδουκαίων </div>\n",
       "<div class=\"features\"> <span class=\"morph xft\"><span class=\"f\">morph=</span>N-GPM</span></div>\n",
       "</div>\n",
       "<div class=\"word  \" >\n",
       "<div class=\"grk\">ἐρχομένους </div>\n",
       "<div class=\"features\"> <span class=\"morph xft\"><span class=\"f\">morph=</span>V-PNP-APM</span></div>\n",
       "</div>\n",
       "<div class=\"word  \" >\n",
       "<div class=\"grk\">ἐπὶ </div>\n",
       "<div class=\"features\"> <span class=\"morph xft\"><span class=\"f\">morph=</span>PREP</span></div>\n",
       "</div>\n",
       "<div class=\"word  \" >\n",
       "<div class=\"grk\">τὸ </div>\n",
       "<div class=\"features\"> <span class=\"morph xft\"><span class=\"f\">morph=</span>T-ASN</span></div>\n",
       "</div>\n",
       "<div class=\"word  \" >\n",
       "<div class=\"grk\">βάπτισμα </div>\n",
       "<div class=\"features\"> <span class=\"morph xft\"><span class=\"f\">morph=</span>N-ASN</span></div>\n",
       "</div>\n",
       "<div class=\"word  \" >\n",
       "<div class=\"grk\">εἶπεν </div>\n",
       "<div class=\"features\"> <span class=\"morph xft\"><span class=\"f\">morph=</span>V-2AAI-3S</span></div>\n",
       "</div>\n",
       "<div class=\"word  \" >\n",
       "<div class=\"grk\">αὐτοῖς, </div>\n",
       "<div class=\"features\"> <span class=\"morph xft\"><span class=\"f\">morph=</span>P-DPM</span></div>\n",
       "</div>\n",
       "<div class=\"word  \" >\n",
       "<div class=\"grk\">γεννήματα </div>\n",
       "<div class=\"features\"> <span class=\"morph xft\"><span class=\"f\">morph=</span>N-VPN</span></div>\n",
       "</div>\n",
       "<div class=\"word  \" >\n",
       "<div class=\"grk\">ἐχιδνῶν, </div>\n",
       "<div class=\"features\"> <span class=\"morph xft\"><span class=\"f\">morph=</span>N-GPF</span></div>\n",
       "</div>\n",
       "<div class=\"word  hl\" >\n",
       "<div class=\"grk\">τίς </div>\n",
       "<div class=\"features\"> <span class=\"morph xft\"><span class=\"f\">morph=</span>I-NSM</span></div>\n",
       "</div>\n",
       "<div class=\"word  \" >\n",
       "<div class=\"grk\">ὑπέδειξεν </div>\n",
       "<div class=\"features\"> <span class=\"morph xft\"><span class=\"f\">morph=</span>V-AAI-3S</span></div>\n",
       "</div>\n",
       "<div class=\"word  \" >\n",
       "<div class=\"grk\">ὑμῖν </div>\n",
       "<div class=\"features\"> <span class=\"morph xft\"><span class=\"f\">morph=</span>P-2DP</span></div>\n",
       "</div>\n",
       "<div class=\"word  \" >\n",
       "<div class=\"grk\">φυγεῖν </div>\n",
       "<div class=\"features\"> <span class=\"morph xft\"><span class=\"f\">morph=</span>V-2AAN</span></div>\n",
       "</div>\n",
       "<div class=\"word  \" >\n",
       "<div class=\"grk\">ἀπὸ </div>\n",
       "<div class=\"features\"> <span class=\"morph xft\"><span class=\"f\">morph=</span>PREP</span></div>\n",
       "</div>\n",
       "<div class=\"word  \" >\n",
       "<div class=\"grk\">τῆς </div>\n",
       "<div class=\"features\"> <span class=\"morph xft\"><span class=\"f\">morph=</span>T-GSF</span></div>\n",
       "</div>\n",
       "<div class=\"word  \" >\n",
       "<div class=\"grk\">μελλούσης </div>\n",
       "<div class=\"features\"> <span class=\"morph xft\"><span class=\"f\">morph=</span>V-PAP-GSF</span></div>\n",
       "</div>\n",
       "<div class=\"word  \" >\n",
       "<div class=\"grk\">ὀργῆς; </div>\n",
       "<div class=\"features\"> <span class=\"morph xft\"><span class=\"f\">morph=</span>N-GSF</span></div>\n",
       "</div>\n",
       "</div>\n",
       "</div>"
      ],
      "text/plain": [
       "<IPython.core.display.HTML object>"
      ]
     },
     "metadata": {},
     "output_type": "display_data"
    },
    {
     "data": {
      "text/html": [
       "<p><b>verse</b> <i>2</i></p>"
      ],
      "text/plain": [
       "<IPython.core.display.HTML object>"
      ]
     },
     "metadata": {},
     "output_type": "display_data"
    },
    {
     "data": {
      "text/html": [
       "<div class=\"outeritem\">\n",
       "<div class=\"verse  \" >\n",
       "\n",
       "    <div class=\"ll\">\n",
       "        <div class=\"line\"><a href=\"https://github.com/morphgnt/tischendorf-data/tree/master/word-per-line/2.8/Unicode/MT.txt\" title=\"see this passage in its source document\" sec=\"Matthew 5:13\">Matthew 5:13</a></div>\n",
       "\n",
       "        <div class=\"features\"></div>\n",
       "    </div>\n",
       "\n",
       "<div class=\"word  \" >\n",
       "<div class=\"grk\">Ὑμεῖς </div>\n",
       "<div class=\"features\"> <span class=\"morph xft\"><span class=\"f\">morph=</span>P-2NP</span></div>\n",
       "</div>\n",
       "<div class=\"word  \" >\n",
       "<div class=\"grk\">ἐστε </div>\n",
       "<div class=\"features\"> <span class=\"morph xft\"><span class=\"f\">morph=</span>V-PAI-2P</span></div>\n",
       "</div>\n",
       "<div class=\"word  \" >\n",
       "<div class=\"grk\">τὸ </div>\n",
       "<div class=\"features\"> <span class=\"morph xft\"><span class=\"f\">morph=</span>T-NSN</span></div>\n",
       "</div>\n",
       "<div class=\"word  \" >\n",
       "<div class=\"grk\">ἅλας </div>\n",
       "<div class=\"features\"> <span class=\"morph xft\"><span class=\"f\">morph=</span>N-NSN</span></div>\n",
       "</div>\n",
       "<div class=\"word  \" >\n",
       "<div class=\"grk\">τῆς </div>\n",
       "<div class=\"features\"> <span class=\"morph xft\"><span class=\"f\">morph=</span>T-GSF</span></div>\n",
       "</div>\n",
       "<div class=\"word  \" >\n",
       "<div class=\"grk\">γῆς· </div>\n",
       "<div class=\"features\"> <span class=\"morph xft\"><span class=\"f\">morph=</span>N-GSF</span></div>\n",
       "</div>\n",
       "<div class=\"word  \" >\n",
       "<div class=\"grk\">ἐὰν </div>\n",
       "<div class=\"features\"> <span class=\"morph xft\"><span class=\"f\">morph=</span>COND</span></div>\n",
       "</div>\n",
       "<div class=\"word  \" >\n",
       "<div class=\"grk\">δὲ </div>\n",
       "<div class=\"features\"> <span class=\"morph xft\"><span class=\"f\">morph=</span>CONJ</span></div>\n",
       "</div>\n",
       "<div class=\"word  \" >\n",
       "<div class=\"grk\">τὸ </div>\n",
       "<div class=\"features\"> <span class=\"morph xft\"><span class=\"f\">morph=</span>T-NSN</span></div>\n",
       "</div>\n",
       "<div class=\"word  \" >\n",
       "<div class=\"grk\">ἅλας </div>\n",
       "<div class=\"features\"> <span class=\"morph xft\"><span class=\"f\">morph=</span>N-NSN</span></div>\n",
       "</div>\n",
       "<div class=\"word  \" >\n",
       "<div class=\"grk\">μωρανθῇ, </div>\n",
       "<div class=\"features\"> <span class=\"morph xft\"><span class=\"f\">morph=</span>V-APS-3S</span></div>\n",
       "</div>\n",
       "<div class=\"word  \" >\n",
       "<div class=\"grk\">ἐν </div>\n",
       "<div class=\"features\"> <span class=\"morph xft\"><span class=\"f\">morph=</span>PREP</span></div>\n",
       "</div>\n",
       "<div class=\"word  hl\" >\n",
       "<div class=\"grk\">τίνι </div>\n",
       "<div class=\"features\"> <span class=\"morph xft\"><span class=\"f\">morph=</span>I-DSN</span></div>\n",
       "</div>\n",
       "<div class=\"word  \" >\n",
       "<div class=\"grk\">ἁλισθήσεται; </div>\n",
       "<div class=\"features\"> <span class=\"morph xft\"><span class=\"f\">morph=</span>V-FPI-3S</span></div>\n",
       "</div>\n",
       "<div class=\"word  \" >\n",
       "<div class=\"grk\">εἰς </div>\n",
       "<div class=\"features\"> <span class=\"morph xft\"><span class=\"f\">morph=</span>PREP</span></div>\n",
       "</div>\n",
       "<div class=\"word  \" >\n",
       "<div class=\"grk\">οὐδὲν </div>\n",
       "<div class=\"features\"> <span class=\"morph xft\"><span class=\"f\">morph=</span>A-ASN-N</span></div>\n",
       "</div>\n",
       "<div class=\"word  \" >\n",
       "<div class=\"grk\">ἰσχύει </div>\n",
       "<div class=\"features\"> <span class=\"morph xft\"><span class=\"f\">morph=</span>V-PAI-3S</span></div>\n",
       "</div>\n",
       "<div class=\"word  \" >\n",
       "<div class=\"grk\">ἔτι </div>\n",
       "<div class=\"features\"> <span class=\"morph xft\"><span class=\"f\">morph=</span>ADV</span></div>\n",
       "</div>\n",
       "<div class=\"word  \" >\n",
       "<div class=\"grk\">εἰ </div>\n",
       "<div class=\"features\"> <span class=\"morph xft\"><span class=\"f\">morph=</span>COND</span></div>\n",
       "</div>\n",
       "<div class=\"word  \" >\n",
       "<div class=\"grk\">μὴ </div>\n",
       "<div class=\"features\"> <span class=\"morph xft\"><span class=\"f\">morph=</span>PRT-N</span></div>\n",
       "</div>\n",
       "<div class=\"word  \" >\n",
       "<div class=\"grk\">βληθὲν </div>\n",
       "<div class=\"features\"> <span class=\"morph xft\"><span class=\"f\">morph=</span>V-APP-NSN</span></div>\n",
       "</div>\n",
       "<div class=\"word  \" >\n",
       "<div class=\"grk\">ἔξω </div>\n",
       "<div class=\"features\"> <span class=\"morph xft\"><span class=\"f\">morph=</span>ADV</span></div>\n",
       "</div>\n",
       "<div class=\"word  \" >\n",
       "<div class=\"grk\">καταπατεῖσθαι </div>\n",
       "<div class=\"features\"> <span class=\"morph xft\"><span class=\"f\">morph=</span>V-PPN</span></div>\n",
       "</div>\n",
       "<div class=\"word  \" >\n",
       "<div class=\"grk\">ὑπὸ </div>\n",
       "<div class=\"features\"> <span class=\"morph xft\"><span class=\"f\">morph=</span>PREP</span></div>\n",
       "</div>\n",
       "<div class=\"word  \" >\n",
       "<div class=\"grk\">τῶν </div>\n",
       "<div class=\"features\"> <span class=\"morph xft\"><span class=\"f\">morph=</span>T-GPM</span></div>\n",
       "</div>\n",
       "<div class=\"word  \" >\n",
       "<div class=\"grk\">ἀνθρώπων. </div>\n",
       "<div class=\"features\"> <span class=\"morph xft\"><span class=\"f\">morph=</span>N-GPM</span></div>\n",
       "</div>\n",
       "</div>\n",
       "</div>"
      ],
      "text/plain": [
       "<IPython.core.display.HTML object>"
      ]
     },
     "metadata": {},
     "output_type": "display_data"
    },
    {
     "data": {
      "text/html": [
       "<p><b>verse</b> <i>3</i></p>"
      ],
      "text/plain": [
       "<IPython.core.display.HTML object>"
      ]
     },
     "metadata": {},
     "output_type": "display_data"
    },
    {
     "data": {
      "text/html": [
       "<div class=\"outeritem\">\n",
       "<div class=\"verse  \" >\n",
       "\n",
       "    <div class=\"ll\">\n",
       "        <div class=\"line\"><a href=\"https://github.com/morphgnt/tischendorf-data/tree/master/word-per-line/2.8/Unicode/MT.txt\" title=\"see this passage in its source document\" sec=\"Matthew 5:46\">Matthew 5:46</a></div>\n",
       "\n",
       "        <div class=\"features\"></div>\n",
       "    </div>\n",
       "\n",
       "<div class=\"word  \" >\n",
       "<div class=\"grk\">ἐὰν </div>\n",
       "<div class=\"features\"> <span class=\"morph xft\"><span class=\"f\">morph=</span>COND</span></div>\n",
       "</div>\n",
       "<div class=\"word  \" >\n",
       "<div class=\"grk\">γὰρ </div>\n",
       "<div class=\"features\"> <span class=\"morph xft\"><span class=\"f\">morph=</span>CONJ</span></div>\n",
       "</div>\n",
       "<div class=\"word  \" >\n",
       "<div class=\"grk\">ἀγαπήσητε </div>\n",
       "<div class=\"features\"> <span class=\"morph xft\"><span class=\"f\">morph=</span>V-AAS-2P</span></div>\n",
       "</div>\n",
       "<div class=\"word  \" >\n",
       "<div class=\"grk\">τοὺς </div>\n",
       "<div class=\"features\"> <span class=\"morph xft\"><span class=\"f\">morph=</span>T-APM</span></div>\n",
       "</div>\n",
       "<div class=\"word  \" >\n",
       "<div class=\"grk\">ἀγαπῶντας </div>\n",
       "<div class=\"features\"> <span class=\"morph xft\"><span class=\"f\">morph=</span>V-PAP-APM</span></div>\n",
       "</div>\n",
       "<div class=\"word  \" >\n",
       "<div class=\"grk\">ὑμᾶς, </div>\n",
       "<div class=\"features\"> <span class=\"morph xft\"><span class=\"f\">morph=</span>P-2AP</span></div>\n",
       "</div>\n",
       "<div class=\"word  hl\" >\n",
       "<div class=\"grk\">τίνα </div>\n",
       "<div class=\"features\"> <span class=\"morph xft\"><span class=\"f\">morph=</span>I-ASM</span></div>\n",
       "</div>\n",
       "<div class=\"word  \" >\n",
       "<div class=\"grk\">μισθὸν </div>\n",
       "<div class=\"features\"> <span class=\"morph xft\"><span class=\"f\">morph=</span>N-ASM</span></div>\n",
       "</div>\n",
       "<div class=\"word  \" >\n",
       "<div class=\"grk\">ἔχετε; </div>\n",
       "<div class=\"features\"> <span class=\"morph xft\"><span class=\"f\">morph=</span>V-PAI-2P</span></div>\n",
       "</div>\n",
       "<div class=\"word  \" >\n",
       "<div class=\"grk\">οὐχὶ </div>\n",
       "<div class=\"features\"> <span class=\"morph xft\"><span class=\"f\">morph=</span>PRT-I</span></div>\n",
       "</div>\n",
       "<div class=\"word  \" >\n",
       "<div class=\"grk\">καὶ </div>\n",
       "<div class=\"features\"> <span class=\"morph xft\"><span class=\"f\">morph=</span>CONJ</span></div>\n",
       "</div>\n",
       "<div class=\"word  \" >\n",
       "<div class=\"grk\">οἱ </div>\n",
       "<div class=\"features\"> <span class=\"morph xft\"><span class=\"f\">morph=</span>T-NPM</span></div>\n",
       "</div>\n",
       "<div class=\"word  \" >\n",
       "<div class=\"grk\">τελῶναι </div>\n",
       "<div class=\"features\"> <span class=\"morph xft\"><span class=\"f\">morph=</span>N-NPM</span></div>\n",
       "</div>\n",
       "<div class=\"word  \" >\n",
       "<div class=\"grk\">τὸ </div>\n",
       "<div class=\"features\"> <span class=\"morph xft\"><span class=\"f\">morph=</span>T-ASN</span></div>\n",
       "</div>\n",
       "<div class=\"word  \" >\n",
       "<div class=\"grk\">αὐτὸ </div>\n",
       "<div class=\"features\"> <span class=\"morph xft\"><span class=\"f\">morph=</span>P-ASN</span></div>\n",
       "</div>\n",
       "<div class=\"word  \" >\n",
       "<div class=\"grk\">ποιοῦσιν; </div>\n",
       "<div class=\"features\"> <span class=\"morph xft\"><span class=\"f\">morph=</span>V-PAI-3P</span></div>\n",
       "</div>\n",
       "</div>\n",
       "</div>"
      ],
      "text/plain": [
       "<IPython.core.display.HTML object>"
      ]
     },
     "metadata": {},
     "output_type": "display_data"
    },
    {
     "data": {
      "text/html": [
       "<p><b>verse</b> <i>4</i></p>"
      ],
      "text/plain": [
       "<IPython.core.display.HTML object>"
      ]
     },
     "metadata": {},
     "output_type": "display_data"
    },
    {
     "data": {
      "text/html": [
       "<div class=\"outeritem\">\n",
       "<div class=\"verse  \" >\n",
       "\n",
       "    <div class=\"ll\">\n",
       "        <div class=\"line\"><a href=\"https://github.com/morphgnt/tischendorf-data/tree/master/word-per-line/2.8/Unicode/MT.txt\" title=\"see this passage in its source document\" sec=\"Matthew 5:47\">Matthew 5:47</a></div>\n",
       "\n",
       "        <div class=\"features\"></div>\n",
       "    </div>\n",
       "\n",
       "<div class=\"word  \" >\n",
       "<div class=\"grk\">καὶ </div>\n",
       "<div class=\"features\"> <span class=\"morph xft\"><span class=\"f\">morph=</span>CONJ</span></div>\n",
       "</div>\n",
       "<div class=\"word  \" >\n",
       "<div class=\"grk\">ἐὰν </div>\n",
       "<div class=\"features\"> <span class=\"morph xft\"><span class=\"f\">morph=</span>COND</span></div>\n",
       "</div>\n",
       "<div class=\"word  \" >\n",
       "<div class=\"grk\">ἀσπάσησθε </div>\n",
       "<div class=\"features\"> <span class=\"morph xft\"><span class=\"f\">morph=</span>V-ADS-2P</span></div>\n",
       "</div>\n",
       "<div class=\"word  \" >\n",
       "<div class=\"grk\">τοὺς </div>\n",
       "<div class=\"features\"> <span class=\"morph xft\"><span class=\"f\">morph=</span>T-APM</span></div>\n",
       "</div>\n",
       "<div class=\"word  \" >\n",
       "<div class=\"grk\">ἀδελφοὺς </div>\n",
       "<div class=\"features\"> <span class=\"morph xft\"><span class=\"f\">morph=</span>N-APM</span></div>\n",
       "</div>\n",
       "<div class=\"word  \" >\n",
       "<div class=\"grk\">ὑμῶν </div>\n",
       "<div class=\"features\"> <span class=\"morph xft\"><span class=\"f\">morph=</span>P-2GP</span></div>\n",
       "</div>\n",
       "<div class=\"word  \" >\n",
       "<div class=\"grk\">μόνον, </div>\n",
       "<div class=\"features\"> <span class=\"morph xft\"><span class=\"f\">morph=</span>ADV</span></div>\n",
       "</div>\n",
       "<div class=\"word  hl\" >\n",
       "<div class=\"grk\">τί </div>\n",
       "<div class=\"features\"> <span class=\"morph xft\"><span class=\"f\">morph=</span>I-ASN</span></div>\n",
       "</div>\n",
       "<div class=\"word  \" >\n",
       "<div class=\"grk\">περισσὸν </div>\n",
       "<div class=\"features\"> <span class=\"morph xft\"><span class=\"f\">morph=</span>A-ASN</span></div>\n",
       "</div>\n",
       "<div class=\"word  \" >\n",
       "<div class=\"grk\">ποιεῖτε; </div>\n",
       "<div class=\"features\"> <span class=\"morph xft\"><span class=\"f\">morph=</span>V-PAI-2P</span></div>\n",
       "</div>\n",
       "<div class=\"word  \" >\n",
       "<div class=\"grk\">οὐχὶ </div>\n",
       "<div class=\"features\"> <span class=\"morph xft\"><span class=\"f\">morph=</span>PRT-I</span></div>\n",
       "</div>\n",
       "<div class=\"word  \" >\n",
       "<div class=\"grk\">καὶ </div>\n",
       "<div class=\"features\"> <span class=\"morph xft\"><span class=\"f\">morph=</span>CONJ</span></div>\n",
       "</div>\n",
       "<div class=\"word  \" >\n",
       "<div class=\"grk\">οἱ </div>\n",
       "<div class=\"features\"> <span class=\"morph xft\"><span class=\"f\">morph=</span>T-NPM</span></div>\n",
       "</div>\n",
       "<div class=\"word  \" >\n",
       "<div class=\"grk\">ἐθνικοὶ </div>\n",
       "<div class=\"features\"> <span class=\"morph xft\"><span class=\"f\">morph=</span>A-NPM</span></div>\n",
       "</div>\n",
       "<div class=\"word  \" >\n",
       "<div class=\"grk\">τὸ </div>\n",
       "<div class=\"features\"> <span class=\"morph xft\"><span class=\"f\">morph=</span>T-ASN</span></div>\n",
       "</div>\n",
       "<div class=\"word  \" >\n",
       "<div class=\"grk\">αὐτὸ </div>\n",
       "<div class=\"features\"> <span class=\"morph xft\"><span class=\"f\">morph=</span>P-ASN</span></div>\n",
       "</div>\n",
       "<div class=\"word  \" >\n",
       "<div class=\"grk\">ποιοῦσιν; </div>\n",
       "<div class=\"features\"> <span class=\"morph xft\"><span class=\"f\">morph=</span>V-PAI-3P</span></div>\n",
       "</div>\n",
       "</div>\n",
       "</div>"
      ],
      "text/plain": [
       "<IPython.core.display.HTML object>"
      ]
     },
     "metadata": {},
     "output_type": "display_data"
    },
    {
     "data": {
      "text/html": [
       "<p><b>verse</b> <i>5</i></p>"
      ],
      "text/plain": [
       "<IPython.core.display.HTML object>"
      ]
     },
     "metadata": {},
     "output_type": "display_data"
    },
    {
     "data": {
      "text/html": [
       "<div class=\"outeritem\">\n",
       "<div class=\"verse  \" >\n",
       "\n",
       "    <div class=\"ll\">\n",
       "        <div class=\"line\"><a href=\"https://github.com/morphgnt/tischendorf-data/tree/master/word-per-line/2.8/Unicode/MT.txt\" title=\"see this passage in its source document\" sec=\"Matthew 6:3\">Matthew 6:3</a></div>\n",
       "\n",
       "        <div class=\"features\"></div>\n",
       "    </div>\n",
       "\n",
       "<div class=\"word  \" >\n",
       "<div class=\"grk\">σοῦ </div>\n",
       "<div class=\"features\"> <span class=\"morph xft\"><span class=\"f\">morph=</span>P-2GS</span></div>\n",
       "</div>\n",
       "<div class=\"word  \" >\n",
       "<div class=\"grk\">δὲ </div>\n",
       "<div class=\"features\"> <span class=\"morph xft\"><span class=\"f\">morph=</span>CONJ</span></div>\n",
       "</div>\n",
       "<div class=\"word  \" >\n",
       "<div class=\"grk\">ποιοῦντος </div>\n",
       "<div class=\"features\"> <span class=\"morph xft\"><span class=\"f\">morph=</span>V-PAP-GSM</span></div>\n",
       "</div>\n",
       "<div class=\"word  \" >\n",
       "<div class=\"grk\">ἐλεημοσύνην </div>\n",
       "<div class=\"features\"> <span class=\"morph xft\"><span class=\"f\">morph=</span>N-ASF</span></div>\n",
       "</div>\n",
       "<div class=\"word  \" >\n",
       "<div class=\"grk\">μὴ </div>\n",
       "<div class=\"features\"> <span class=\"morph xft\"><span class=\"f\">morph=</span>PRT-N</span></div>\n",
       "</div>\n",
       "<div class=\"word  \" >\n",
       "<div class=\"grk\">γνώτω </div>\n",
       "<div class=\"features\"> <span class=\"morph xft\"><span class=\"f\">morph=</span>V-2AAM-3S</span></div>\n",
       "</div>\n",
       "<div class=\"word  \" >\n",
       "<div class=\"grk\">ἡ </div>\n",
       "<div class=\"features\"> <span class=\"morph xft\"><span class=\"f\">morph=</span>T-NSF</span></div>\n",
       "</div>\n",
       "<div class=\"word  \" >\n",
       "<div class=\"grk\">ἀριστερά </div>\n",
       "<div class=\"features\"> <span class=\"morph xft\"><span class=\"f\">morph=</span>A-NSF</span></div>\n",
       "</div>\n",
       "<div class=\"word  \" >\n",
       "<div class=\"grk\">σου </div>\n",
       "<div class=\"features\"> <span class=\"morph xft\"><span class=\"f\">morph=</span>P-2GS</span></div>\n",
       "</div>\n",
       "<div class=\"word  hl\" >\n",
       "<div class=\"grk\">τί </div>\n",
       "<div class=\"features\"> <span class=\"morph xft\"><span class=\"f\">morph=</span>I-ASN</span></div>\n",
       "</div>\n",
       "<div class=\"word  \" >\n",
       "<div class=\"grk\">ποιεῖ </div>\n",
       "<div class=\"features\"> <span class=\"morph xft\"><span class=\"f\">morph=</span>V-PAI-3S</span></div>\n",
       "</div>\n",
       "<div class=\"word  \" >\n",
       "<div class=\"grk\">ἡ </div>\n",
       "<div class=\"features\"> <span class=\"morph xft\"><span class=\"f\">morph=</span>T-NSF</span></div>\n",
       "</div>\n",
       "<div class=\"word  \" >\n",
       "<div class=\"grk\">δεξιά </div>\n",
       "<div class=\"features\"> <span class=\"morph xft\"><span class=\"f\">morph=</span>A-NSF</span></div>\n",
       "</div>\n",
       "<div class=\"word  \" >\n",
       "<div class=\"grk\">σου, </div>\n",
       "<div class=\"features\"> <span class=\"morph xft\"><span class=\"f\">morph=</span>P-2GS</span></div>\n",
       "</div>\n",
       "</div>\n",
       "</div>"
      ],
      "text/plain": [
       "<IPython.core.display.HTML object>"
      ]
     },
     "metadata": {},
     "output_type": "display_data"
    },
    {
     "data": {
      "text/html": [
       "<p><b>verse</b> <i>6</i></p>"
      ],
      "text/plain": [
       "<IPython.core.display.HTML object>"
      ]
     },
     "metadata": {},
     "output_type": "display_data"
    },
    {
     "data": {
      "text/html": [
       "<div class=\"outeritem\">\n",
       "<div class=\"verse  \" >\n",
       "\n",
       "    <div class=\"ll\">\n",
       "        <div class=\"line\"><a href=\"https://github.com/morphgnt/tischendorf-data/tree/master/word-per-line/2.8/Unicode/MT.txt\" title=\"see this passage in its source document\" sec=\"Matthew 6:25\">Matthew 6:25</a></div>\n",
       "\n",
       "        <div class=\"features\"></div>\n",
       "    </div>\n",
       "\n",
       "<div class=\"word  \" >\n",
       "<div class=\"grk\">Διὰ </div>\n",
       "<div class=\"features\"> <span class=\"morph xft\"><span class=\"f\">morph=</span>PREP</span></div>\n",
       "</div>\n",
       "<div class=\"word  \" >\n",
       "<div class=\"grk\">τοῦτο </div>\n",
       "<div class=\"features\"> <span class=\"morph xft\"><span class=\"f\">morph=</span>D-ASN</span></div>\n",
       "</div>\n",
       "<div class=\"word  \" >\n",
       "<div class=\"grk\">λέγω </div>\n",
       "<div class=\"features\"> <span class=\"morph xft\"><span class=\"f\">morph=</span>V-PAI-1S</span></div>\n",
       "</div>\n",
       "<div class=\"word  \" >\n",
       "<div class=\"grk\">ὑμῖν, </div>\n",
       "<div class=\"features\"> <span class=\"morph xft\"><span class=\"f\">morph=</span>P-2DP</span></div>\n",
       "</div>\n",
       "<div class=\"word  \" >\n",
       "<div class=\"grk\">μὴ </div>\n",
       "<div class=\"features\"> <span class=\"morph xft\"><span class=\"f\">morph=</span>PRT-N</span></div>\n",
       "</div>\n",
       "<div class=\"word  \" >\n",
       "<div class=\"grk\">μεριμνᾶτε </div>\n",
       "<div class=\"features\"> <span class=\"morph xft\"><span class=\"f\">morph=</span>V-PAM-2P</span></div>\n",
       "</div>\n",
       "<div class=\"word  \" >\n",
       "<div class=\"grk\">τῇ </div>\n",
       "<div class=\"features\"> <span class=\"morph xft\"><span class=\"f\">morph=</span>T-DSF</span></div>\n",
       "</div>\n",
       "<div class=\"word  \" >\n",
       "<div class=\"grk\">ψυχῇ </div>\n",
       "<div class=\"features\"> <span class=\"morph xft\"><span class=\"f\">morph=</span>N-DSF</span></div>\n",
       "</div>\n",
       "<div class=\"word  \" >\n",
       "<div class=\"grk\">ὑμῶν </div>\n",
       "<div class=\"features\"> <span class=\"morph xft\"><span class=\"f\">morph=</span>P-2GP</span></div>\n",
       "</div>\n",
       "<div class=\"word  hl\" >\n",
       "<div class=\"grk\">τί </div>\n",
       "<div class=\"features\"> <span class=\"morph xft\"><span class=\"f\">morph=</span>I-ASN</span></div>\n",
       "</div>\n",
       "<div class=\"word  \" >\n",
       "<div class=\"grk\">φάγητε, </div>\n",
       "<div class=\"features\"> <span class=\"morph xft\"><span class=\"f\">morph=</span>V-2AAS-2P</span></div>\n",
       "</div>\n",
       "<div class=\"word  \" >\n",
       "<div class=\"grk\">μηδὲ </div>\n",
       "<div class=\"features\"> <span class=\"morph xft\"><span class=\"f\">morph=</span>CONJ-N</span></div>\n",
       "</div>\n",
       "<div class=\"word  \" >\n",
       "<div class=\"grk\">τῷ </div>\n",
       "<div class=\"features\"> <span class=\"morph xft\"><span class=\"f\">morph=</span>T-DSN</span></div>\n",
       "</div>\n",
       "<div class=\"word  \" >\n",
       "<div class=\"grk\">σώματι </div>\n",
       "<div class=\"features\"> <span class=\"morph xft\"><span class=\"f\">morph=</span>N-DSN</span></div>\n",
       "</div>\n",
       "<div class=\"word  \" >\n",
       "<div class=\"grk\">ὑμῶν </div>\n",
       "<div class=\"features\"> <span class=\"morph xft\"><span class=\"f\">morph=</span>P-2GP</span></div>\n",
       "</div>\n",
       "<div class=\"word  hl\" >\n",
       "<div class=\"grk\">τί </div>\n",
       "<div class=\"features\"> <span class=\"morph xft\"><span class=\"f\">morph=</span>I-ASN</span></div>\n",
       "</div>\n",
       "<div class=\"word  \" >\n",
       "<div class=\"grk\">ἐνδύσησθε· </div>\n",
       "<div class=\"features\"> <span class=\"morph xft\"><span class=\"f\">morph=</span>V-AMS-2P</span></div>\n",
       "</div>\n",
       "<div class=\"word  \" >\n",
       "<div class=\"grk\">οὐχὶ </div>\n",
       "<div class=\"features\"> <span class=\"morph xft\"><span class=\"f\">morph=</span>PRT-I</span></div>\n",
       "</div>\n",
       "<div class=\"word  \" >\n",
       "<div class=\"grk\">ἡ </div>\n",
       "<div class=\"features\"> <span class=\"morph xft\"><span class=\"f\">morph=</span>T-NSF</span></div>\n",
       "</div>\n",
       "<div class=\"word  \" >\n",
       "<div class=\"grk\">ψυχὴ </div>\n",
       "<div class=\"features\"> <span class=\"morph xft\"><span class=\"f\">morph=</span>N-NSF</span></div>\n",
       "</div>\n",
       "<div class=\"word  \" >\n",
       "<div class=\"grk\">πλεῖόν </div>\n",
       "<div class=\"features\"> <span class=\"morph xft\"><span class=\"f\">morph=</span>A-NSN-C</span></div>\n",
       "</div>\n",
       "<div class=\"word  \" >\n",
       "<div class=\"grk\">ἐστιν </div>\n",
       "<div class=\"features\"> <span class=\"morph xft\"><span class=\"f\">morph=</span>V-PAI-3S</span></div>\n",
       "</div>\n",
       "<div class=\"word  \" >\n",
       "<div class=\"grk\">τῆς </div>\n",
       "<div class=\"features\"> <span class=\"morph xft\"><span class=\"f\">morph=</span>T-GSF</span></div>\n",
       "</div>\n",
       "<div class=\"word  \" >\n",
       "<div class=\"grk\">τροφῆς </div>\n",
       "<div class=\"features\"> <span class=\"morph xft\"><span class=\"f\">morph=</span>N-GSF</span></div>\n",
       "</div>\n",
       "<div class=\"word  \" >\n",
       "<div class=\"grk\">καὶ </div>\n",
       "<div class=\"features\"> <span class=\"morph xft\"><span class=\"f\">morph=</span>CONJ</span></div>\n",
       "</div>\n",
       "<div class=\"word  \" >\n",
       "<div class=\"grk\">τὸ </div>\n",
       "<div class=\"features\"> <span class=\"morph xft\"><span class=\"f\">morph=</span>T-NSN</span></div>\n",
       "</div>\n",
       "<div class=\"word  \" >\n",
       "<div class=\"grk\">σῶμα </div>\n",
       "<div class=\"features\"> <span class=\"morph xft\"><span class=\"f\">morph=</span>N-NSN</span></div>\n",
       "</div>\n",
       "<div class=\"word  \" >\n",
       "<div class=\"grk\">τοῦ </div>\n",
       "<div class=\"features\"> <span class=\"morph xft\"><span class=\"f\">morph=</span>T-GSN</span></div>\n",
       "</div>\n",
       "<div class=\"word  \" >\n",
       "<div class=\"grk\">ἐνδύματος; </div>\n",
       "<div class=\"features\"> <span class=\"morph xft\"><span class=\"f\">morph=</span>N-GSN</span></div>\n",
       "</div>\n",
       "</div>\n",
       "</div>"
      ],
      "text/plain": [
       "<IPython.core.display.HTML object>"
      ]
     },
     "metadata": {},
     "output_type": "display_data"
    },
    {
     "data": {
      "text/html": [
       "<p><b>verse</b> <i>7</i></p>"
      ],
      "text/plain": [
       "<IPython.core.display.HTML object>"
      ]
     },
     "metadata": {},
     "output_type": "display_data"
    },
    {
     "data": {
      "text/html": [
       "<div class=\"outeritem\">\n",
       "<div class=\"verse  \" >\n",
       "\n",
       "    <div class=\"ll\">\n",
       "        <div class=\"line\"><a href=\"https://github.com/morphgnt/tischendorf-data/tree/master/word-per-line/2.8/Unicode/MT.txt\" title=\"see this passage in its source document\" sec=\"Matthew 6:27\">Matthew 6:27</a></div>\n",
       "\n",
       "        <div class=\"features\"></div>\n",
       "    </div>\n",
       "\n",
       "<div class=\"word  hl\" >\n",
       "<div class=\"grk\">τίς </div>\n",
       "<div class=\"features\"> <span class=\"morph xft\"><span class=\"f\">morph=</span>I-NSM</span></div>\n",
       "</div>\n",
       "<div class=\"word  \" >\n",
       "<div class=\"grk\">δὲ </div>\n",
       "<div class=\"features\"> <span class=\"morph xft\"><span class=\"f\">morph=</span>CONJ</span></div>\n",
       "</div>\n",
       "<div class=\"word  \" >\n",
       "<div class=\"grk\">ἐξ </div>\n",
       "<div class=\"features\"> <span class=\"morph xft\"><span class=\"f\">morph=</span>PREP</span></div>\n",
       "</div>\n",
       "<div class=\"word  \" >\n",
       "<div class=\"grk\">ὑμῶν </div>\n",
       "<div class=\"features\"> <span class=\"morph xft\"><span class=\"f\">morph=</span>P-2GP</span></div>\n",
       "</div>\n",
       "<div class=\"word  \" >\n",
       "<div class=\"grk\">μεριμνῶν </div>\n",
       "<div class=\"features\"> <span class=\"morph xft\"><span class=\"f\">morph=</span>V-PAP-NSM</span></div>\n",
       "</div>\n",
       "<div class=\"word  \" >\n",
       "<div class=\"grk\">δύναται </div>\n",
       "<div class=\"features\"> <span class=\"morph xft\"><span class=\"f\">morph=</span>V-PNI-3S</span></div>\n",
       "</div>\n",
       "<div class=\"word  \" >\n",
       "<div class=\"grk\">προσθεῖναι </div>\n",
       "<div class=\"features\"> <span class=\"morph xft\"><span class=\"f\">morph=</span>V-2AAN</span></div>\n",
       "</div>\n",
       "<div class=\"word  \" >\n",
       "<div class=\"grk\">ἐπὶ </div>\n",
       "<div class=\"features\"> <span class=\"morph xft\"><span class=\"f\">morph=</span>PREP</span></div>\n",
       "</div>\n",
       "<div class=\"word  \" >\n",
       "<div class=\"grk\">τὴν </div>\n",
       "<div class=\"features\"> <span class=\"morph xft\"><span class=\"f\">morph=</span>T-ASF</span></div>\n",
       "</div>\n",
       "<div class=\"word  \" >\n",
       "<div class=\"grk\">ἡλικίαν </div>\n",
       "<div class=\"features\"> <span class=\"morph xft\"><span class=\"f\">morph=</span>N-ASF</span></div>\n",
       "</div>\n",
       "<div class=\"word  \" >\n",
       "<div class=\"grk\">αὐτοῦ </div>\n",
       "<div class=\"features\"> <span class=\"morph xft\"><span class=\"f\">morph=</span>P-GSM</span></div>\n",
       "</div>\n",
       "<div class=\"word  \" >\n",
       "<div class=\"grk\">πῆχυν </div>\n",
       "<div class=\"features\"> <span class=\"morph xft\"><span class=\"f\">morph=</span>N-ASM</span></div>\n",
       "</div>\n",
       "<div class=\"word  \" >\n",
       "<div class=\"grk\">ἕνα; </div>\n",
       "<div class=\"features\"> <span class=\"morph xft\"><span class=\"f\">morph=</span>A-ASM</span></div>\n",
       "</div>\n",
       "</div>\n",
       "</div>"
      ],
      "text/plain": [
       "<IPython.core.display.HTML object>"
      ]
     },
     "metadata": {},
     "output_type": "display_data"
    },
    {
     "data": {
      "text/html": [
       "<p><b>verse</b> <i>8</i></p>"
      ],
      "text/plain": [
       "<IPython.core.display.HTML object>"
      ]
     },
     "metadata": {},
     "output_type": "display_data"
    },
    {
     "data": {
      "text/html": [
       "<div class=\"outeritem\">\n",
       "<div class=\"verse  \" >\n",
       "\n",
       "    <div class=\"ll\">\n",
       "        <div class=\"line\"><a href=\"https://github.com/morphgnt/tischendorf-data/tree/master/word-per-line/2.8/Unicode/MT.txt\" title=\"see this passage in its source document\" sec=\"Matthew 6:28\">Matthew 6:28</a></div>\n",
       "\n",
       "        <div class=\"features\"></div>\n",
       "    </div>\n",
       "\n",
       "<div class=\"word  \" >\n",
       "<div class=\"grk\">καὶ </div>\n",
       "<div class=\"features\"> <span class=\"morph xft\"><span class=\"f\">morph=</span>CONJ</span></div>\n",
       "</div>\n",
       "<div class=\"word  \" >\n",
       "<div class=\"grk\">περὶ </div>\n",
       "<div class=\"features\"> <span class=\"morph xft\"><span class=\"f\">morph=</span>PREP</span></div>\n",
       "</div>\n",
       "<div class=\"word  \" >\n",
       "<div class=\"grk\">ἐνδύματος </div>\n",
       "<div class=\"features\"> <span class=\"morph xft\"><span class=\"f\">morph=</span>N-GSN</span></div>\n",
       "</div>\n",
       "<div class=\"word  hl\" >\n",
       "<div class=\"grk\">τί </div>\n",
       "<div class=\"features\"> <span class=\"morph xft\"><span class=\"f\">morph=</span>I-ASN</span></div>\n",
       "</div>\n",
       "<div class=\"word  \" >\n",
       "<div class=\"grk\">μεριμνᾶτε; </div>\n",
       "<div class=\"features\"> <span class=\"morph xft\"><span class=\"f\">morph=</span>V-PAI-2P</span></div>\n",
       "</div>\n",
       "<div class=\"word  \" >\n",
       "<div class=\"grk\">καταμάθετε </div>\n",
       "<div class=\"features\"> <span class=\"morph xft\"><span class=\"f\">morph=</span>V-2AAM-2P</span></div>\n",
       "</div>\n",
       "<div class=\"word  \" >\n",
       "<div class=\"grk\">τὰ </div>\n",
       "<div class=\"features\"> <span class=\"morph xft\"><span class=\"f\">morph=</span>T-APN</span></div>\n",
       "</div>\n",
       "<div class=\"word  \" >\n",
       "<div class=\"grk\">κρίνα </div>\n",
       "<div class=\"features\"> <span class=\"morph xft\"><span class=\"f\">morph=</span>N-APN</span></div>\n",
       "</div>\n",
       "<div class=\"word  \" >\n",
       "<div class=\"grk\">τοῦ </div>\n",
       "<div class=\"features\"> <span class=\"morph xft\"><span class=\"f\">morph=</span>T-GSM</span></div>\n",
       "</div>\n",
       "<div class=\"word  \" >\n",
       "<div class=\"grk\">ἀγροῦ </div>\n",
       "<div class=\"features\"> <span class=\"morph xft\"><span class=\"f\">morph=</span>N-GSM</span></div>\n",
       "</div>\n",
       "<div class=\"word  \" >\n",
       "<div class=\"grk\">πῶς </div>\n",
       "<div class=\"features\"> <span class=\"morph xft\"><span class=\"f\">morph=</span>ADV</span></div>\n",
       "</div>\n",
       "<div class=\"word  \" >\n",
       "<div class=\"grk\">αὐξάνουσιν· </div>\n",
       "<div class=\"features\"> <span class=\"morph xft\"><span class=\"f\">morph=</span>V-PAI-3P</span></div>\n",
       "</div>\n",
       "<div class=\"word  \" >\n",
       "<div class=\"grk\">οὐ </div>\n",
       "<div class=\"features\"> <span class=\"morph xft\"><span class=\"f\">morph=</span>PRT-N</span></div>\n",
       "</div>\n",
       "<div class=\"word  \" >\n",
       "<div class=\"grk\">κοπιῶσιν </div>\n",
       "<div class=\"features\"> <span class=\"morph xft\"><span class=\"f\">morph=</span>V-PAI-3P</span></div>\n",
       "</div>\n",
       "<div class=\"word  \" >\n",
       "<div class=\"grk\">οὐδὲ </div>\n",
       "<div class=\"features\"> <span class=\"morph xft\"><span class=\"f\">morph=</span>CONJ-N</span></div>\n",
       "</div>\n",
       "<div class=\"word  \" >\n",
       "<div class=\"grk\">νήθουσιν· </div>\n",
       "<div class=\"features\"> <span class=\"morph xft\"><span class=\"f\">morph=</span>V-PAI-3P</span></div>\n",
       "</div>\n",
       "</div>\n",
       "</div>"
      ],
      "text/plain": [
       "<IPython.core.display.HTML object>"
      ]
     },
     "metadata": {},
     "output_type": "display_data"
    },
    {
     "data": {
      "text/html": [
       "<p><b>verse</b> <i>9</i></p>"
      ],
      "text/plain": [
       "<IPython.core.display.HTML object>"
      ]
     },
     "metadata": {},
     "output_type": "display_data"
    },
    {
     "data": {
      "text/html": [
       "<div class=\"outeritem\">\n",
       "<div class=\"verse  \" >\n",
       "\n",
       "    <div class=\"ll\">\n",
       "        <div class=\"line\"><a href=\"https://github.com/morphgnt/tischendorf-data/tree/master/word-per-line/2.8/Unicode/MT.txt\" title=\"see this passage in its source document\" sec=\"Matthew 6:31\">Matthew 6:31</a></div>\n",
       "\n",
       "        <div class=\"features\"></div>\n",
       "    </div>\n",
       "\n",
       "<div class=\"word  \" >\n",
       "<div class=\"grk\">μὴ </div>\n",
       "<div class=\"features\"> <span class=\"morph xft\"><span class=\"f\">morph=</span>PRT-N</span></div>\n",
       "</div>\n",
       "<div class=\"word  \" >\n",
       "<div class=\"grk\">οὖν </div>\n",
       "<div class=\"features\"> <span class=\"morph xft\"><span class=\"f\">morph=</span>CONJ</span></div>\n",
       "</div>\n",
       "<div class=\"word  \" >\n",
       "<div class=\"grk\">μεριμνήσητε </div>\n",
       "<div class=\"features\"> <span class=\"morph xft\"><span class=\"f\">morph=</span>V-AAS-2P</span></div>\n",
       "</div>\n",
       "<div class=\"word  \" >\n",
       "<div class=\"grk\">λέγοντες, </div>\n",
       "<div class=\"features\"> <span class=\"morph xft\"><span class=\"f\">morph=</span>V-PAP-NPM</span></div>\n",
       "</div>\n",
       "<div class=\"word  hl\" >\n",
       "<div class=\"grk\">τί </div>\n",
       "<div class=\"features\"> <span class=\"morph xft\"><span class=\"f\">morph=</span>I-ASN</span></div>\n",
       "</div>\n",
       "<div class=\"word  \" >\n",
       "<div class=\"grk\">φάγωμεν; </div>\n",
       "<div class=\"features\"> <span class=\"morph xft\"><span class=\"f\">morph=</span>V-2AAS-1P</span></div>\n",
       "</div>\n",
       "<div class=\"word  \" >\n",
       "<div class=\"grk\">ἤ, </div>\n",
       "<div class=\"features\"> <span class=\"morph xft\"><span class=\"f\">morph=</span>PRT</span></div>\n",
       "</div>\n",
       "<div class=\"word  hl\" >\n",
       "<div class=\"grk\">τί </div>\n",
       "<div class=\"features\"> <span class=\"morph xft\"><span class=\"f\">morph=</span>I-ASN</span></div>\n",
       "</div>\n",
       "<div class=\"word  \" >\n",
       "<div class=\"grk\">πίωμεν; </div>\n",
       "<div class=\"features\"> <span class=\"morph xft\"><span class=\"f\">morph=</span>V-2AAS-1P</span></div>\n",
       "</div>\n",
       "<div class=\"word  \" >\n",
       "<div class=\"grk\">ἤ, </div>\n",
       "<div class=\"features\"> <span class=\"morph xft\"><span class=\"f\">morph=</span>PRT</span></div>\n",
       "</div>\n",
       "<div class=\"word  hl\" >\n",
       "<div class=\"grk\">τί </div>\n",
       "<div class=\"features\"> <span class=\"morph xft\"><span class=\"f\">morph=</span>I-ASN</span></div>\n",
       "</div>\n",
       "<div class=\"word  \" >\n",
       "<div class=\"grk\">περιβαλώμεθα; </div>\n",
       "<div class=\"features\"> <span class=\"morph xft\"><span class=\"f\">morph=</span>V-2AMS-1P</span></div>\n",
       "</div>\n",
       "</div>\n",
       "</div>"
      ],
      "text/plain": [
       "<IPython.core.display.HTML object>"
      ]
     },
     "metadata": {},
     "output_type": "display_data"
    },
    {
     "data": {
      "text/html": [
       "<p><b>verse</b> <i>10</i></p>"
      ],
      "text/plain": [
       "<IPython.core.display.HTML object>"
      ]
     },
     "metadata": {},
     "output_type": "display_data"
    },
    {
     "data": {
      "text/html": [
       "<div class=\"outeritem\">\n",
       "<div class=\"verse  \" >\n",
       "\n",
       "    <div class=\"ll\">\n",
       "        <div class=\"line\"><a href=\"https://github.com/morphgnt/tischendorf-data/tree/master/word-per-line/2.8/Unicode/MT.txt\" title=\"see this passage in its source document\" sec=\"Matthew 7:3\">Matthew 7:3</a></div>\n",
       "\n",
       "        <div class=\"features\"></div>\n",
       "    </div>\n",
       "\n",
       "<div class=\"word  hl\" >\n",
       "<div class=\"grk\">τί </div>\n",
       "<div class=\"features\"> <span class=\"morph xft\"><span class=\"f\">morph=</span>I-ASN</span></div>\n",
       "</div>\n",
       "<div class=\"word  \" >\n",
       "<div class=\"grk\">δὲ </div>\n",
       "<div class=\"features\"> <span class=\"morph xft\"><span class=\"f\">morph=</span>CONJ</span></div>\n",
       "</div>\n",
       "<div class=\"word  \" >\n",
       "<div class=\"grk\">βλέπεις </div>\n",
       "<div class=\"features\"> <span class=\"morph xft\"><span class=\"f\">morph=</span>V-PAI-2S</span></div>\n",
       "</div>\n",
       "<div class=\"word  \" >\n",
       "<div class=\"grk\">τὸ </div>\n",
       "<div class=\"features\"> <span class=\"morph xft\"><span class=\"f\">morph=</span>T-ASN</span></div>\n",
       "</div>\n",
       "<div class=\"word  \" >\n",
       "<div class=\"grk\">κάρφος </div>\n",
       "<div class=\"features\"> <span class=\"morph xft\"><span class=\"f\">morph=</span>N-ASN</span></div>\n",
       "</div>\n",
       "<div class=\"word  \" >\n",
       "<div class=\"grk\">τὸ </div>\n",
       "<div class=\"features\"> <span class=\"morph xft\"><span class=\"f\">morph=</span>T-ASN</span></div>\n",
       "</div>\n",
       "<div class=\"word  \" >\n",
       "<div class=\"grk\">ἐν </div>\n",
       "<div class=\"features\"> <span class=\"morph xft\"><span class=\"f\">morph=</span>PREP</span></div>\n",
       "</div>\n",
       "<div class=\"word  \" >\n",
       "<div class=\"grk\">τῷ </div>\n",
       "<div class=\"features\"> <span class=\"morph xft\"><span class=\"f\">morph=</span>T-DSM</span></div>\n",
       "</div>\n",
       "<div class=\"word  \" >\n",
       "<div class=\"grk\">ὀφθαλμῷ </div>\n",
       "<div class=\"features\"> <span class=\"morph xft\"><span class=\"f\">morph=</span>N-DSM</span></div>\n",
       "</div>\n",
       "<div class=\"word  \" >\n",
       "<div class=\"grk\">τοῦ </div>\n",
       "<div class=\"features\"> <span class=\"morph xft\"><span class=\"f\">morph=</span>T-GSM</span></div>\n",
       "</div>\n",
       "<div class=\"word  \" >\n",
       "<div class=\"grk\">ἀδελφοῦ </div>\n",
       "<div class=\"features\"> <span class=\"morph xft\"><span class=\"f\">morph=</span>N-GSM</span></div>\n",
       "</div>\n",
       "<div class=\"word  \" >\n",
       "<div class=\"grk\">σου, </div>\n",
       "<div class=\"features\"> <span class=\"morph xft\"><span class=\"f\">morph=</span>P-2GS</span></div>\n",
       "</div>\n",
       "<div class=\"word  \" >\n",
       "<div class=\"grk\">τὴν </div>\n",
       "<div class=\"features\"> <span class=\"morph xft\"><span class=\"f\">morph=</span>T-ASF</span></div>\n",
       "</div>\n",
       "<div class=\"word  \" >\n",
       "<div class=\"grk\">δὲ </div>\n",
       "<div class=\"features\"> <span class=\"morph xft\"><span class=\"f\">morph=</span>CONJ</span></div>\n",
       "</div>\n",
       "<div class=\"word  \" >\n",
       "<div class=\"grk\">ἐν </div>\n",
       "<div class=\"features\"> <span class=\"morph xft\"><span class=\"f\">morph=</span>PREP</span></div>\n",
       "</div>\n",
       "<div class=\"word  \" >\n",
       "<div class=\"grk\">τῷ </div>\n",
       "<div class=\"features\"> <span class=\"morph xft\"><span class=\"f\">morph=</span>T-DSM</span></div>\n",
       "</div>\n",
       "<div class=\"word  \" >\n",
       "<div class=\"grk\">σῷ </div>\n",
       "<div class=\"features\"> <span class=\"morph xft\"><span class=\"f\">morph=</span>S-2SDSM</span></div>\n",
       "</div>\n",
       "<div class=\"word  \" >\n",
       "<div class=\"grk\">ὀφθαλμῷ </div>\n",
       "<div class=\"features\"> <span class=\"morph xft\"><span class=\"f\">morph=</span>N-DSM</span></div>\n",
       "</div>\n",
       "<div class=\"word  \" >\n",
       "<div class=\"grk\">δοκὸν </div>\n",
       "<div class=\"features\"> <span class=\"morph xft\"><span class=\"f\">morph=</span>N-ASF</span></div>\n",
       "</div>\n",
       "<div class=\"word  \" >\n",
       "<div class=\"grk\">οὐ </div>\n",
       "<div class=\"features\"> <span class=\"morph xft\"><span class=\"f\">morph=</span>PRT-N</span></div>\n",
       "</div>\n",
       "<div class=\"word  \" >\n",
       "<div class=\"grk\">κατανοεῖς; </div>\n",
       "<div class=\"features\"> <span class=\"morph xft\"><span class=\"f\">morph=</span>V-PAI-2S</span></div>\n",
       "</div>\n",
       "</div>\n",
       "</div>"
      ],
      "text/plain": [
       "<IPython.core.display.HTML object>"
      ]
     },
     "metadata": {},
     "output_type": "display_data"
    }
   ],
   "source": [
    "A.show(CAPM, start=1, end=10, condensed=True)"
   ]
  },
  {
   "cell_type": "markdown",
   "metadata": {},
   "source": [
    "## in a particular NT text: *Colossians*"
   ]
  },
  {
   "cell_type": "code",
   "execution_count": 14,
   "metadata": {},
   "outputs": [
    {
     "name": "stdout",
     "output_type": "stream",
     "text": [
      "  1.03s 28 results\n"
     ]
    }
   ],
   "source": [
    "Col2_16 ='''\n",
    "book book=Colossians\n",
    "    chapter chapter=2\n",
    "        verse verse=16|17\n",
    "            word morph* anlex_lem* str_lem* ketiv* qere* morph* strongs* vrsnum* gloss*\n",
    "'''\n",
    "Col2_16=A.search(Col2_16)"
   ]
  },
  {
   "cell_type": "code",
   "execution_count": 15,
   "metadata": {},
   "outputs": [
    {
     "data": {
      "text/html": [
       "<p><b>verse</b> <i>1</i></p>"
      ],
      "text/plain": [
       "<IPython.core.display.HTML object>"
      ]
     },
     "metadata": {},
     "output_type": "display_data"
    },
    {
     "data": {
      "text/html": [
       "<div class=\"outeritem\">\n",
       "<div class=\"verse  \" >\n",
       "\n",
       "    <div class=\"ll\">\n",
       "        <div class=\"line\"><a href=\"https://github.com/morphgnt/tischendorf-data/tree/master/word-per-line/2.8/Unicode/COL.txt\" title=\"see this passage in its source document\" sec=\"Colossians 2:16\">Colossians 2:16</a></div>\n",
       "\n",
       "        <div class=\"features\"> <span class=\"verse xft\"><span class=\"f\">verse=</span>16</span></div>\n",
       "    </div>\n",
       "\n",
       "<div class=\"word  hl\"  style=\"background-color: mediumaquamarine;\" >\n",
       "<div class=\"grk\">Μὴ </div>\n",
       "<div class=\"features\"> <span class=\"anlex_lem xft\"><span class=\"f\">anlex_lem=</span>μή</span> <span class=\"gloss xft\"><span class=\"f\">gloss=</span>no</span> <span class=\"ketiv xft\"><span class=\"f\">ketiv=</span>Μὴ</span> <span class=\"morph xft\"><span class=\"f\">morph=</span>PRT-N</span> <span class=\"qere xft\"><span class=\"f\">qere=</span>Μὴ</span> <span class=\"str_lem xft\"><span class=\"f\">str_lem=</span>μή</span> <span class=\"strongs xft\"><span class=\"f\">strongs=</span>3361</span> <span class=\"vrsnum xft\"><span class=\"f\">vrsnum=</span>1</span></div>\n",
       "</div>\n",
       "<div class=\"word  hl\"  style=\"background-color: mediumaquamarine;\" >\n",
       "<div class=\"grk\">οὖν </div>\n",
       "<div class=\"features\"> <span class=\"anlex_lem xft\"><span class=\"f\">anlex_lem=</span>οὖν</span> <span class=\"gloss xft\"><span class=\"f\">gloss=</span>therefore</span> <span class=\"ketiv xft\"><span class=\"f\">ketiv=</span>οὖν</span> <span class=\"morph xft\"><span class=\"f\">morph=</span>CONJ</span> <span class=\"qere xft\"><span class=\"f\">qere=</span>οὖν</span> <span class=\"str_lem xft\"><span class=\"f\">str_lem=</span>οὖν</span> <span class=\"strongs xft\"><span class=\"f\">strongs=</span>3767</span> <span class=\"vrsnum xft\"><span class=\"f\">vrsnum=</span>2</span></div>\n",
       "</div>\n",
       "<div class=\"word  hl\"  style=\"background-color: mediumaquamarine;\" >\n",
       "<div class=\"grk\">τις </div>\n",
       "<div class=\"features\"> <span class=\"anlex_lem xft\"><span class=\"f\">anlex_lem=</span>τὶς</span> <span class=\"gloss xft\"><span class=\"f\">gloss=</span>someone</span> <span class=\"ketiv xft\"><span class=\"f\">ketiv=</span>τις</span> <span class=\"morph xft\"><span class=\"f\">morph=</span>X-NSM</span> <span class=\"qere xft\"><span class=\"f\">qere=</span>τις</span> <span class=\"str_lem xft\"><span class=\"f\">str_lem=</span>τὶς</span> <span class=\"strongs xft\"><span class=\"f\">strongs=</span>5100</span> <span class=\"vrsnum xft\"><span class=\"f\">vrsnum=</span>3</span></div>\n",
       "</div>\n",
       "<div class=\"word  hl\"  style=\"background-color: mediumaquamarine;\" >\n",
       "<div class=\"grk\">ὑμᾶς </div>\n",
       "<div class=\"features\"> <span class=\"anlex_lem xft\"><span class=\"f\">anlex_lem=</span>σύ</span> <span class=\"gloss xft\"><span class=\"f\">gloss=</span>you</span> <span class=\"ketiv xft\"><span class=\"f\">ketiv=</span>ὑμᾶς</span> <span class=\"morph xft\"><span class=\"f\">morph=</span>P-2AP</span> <span class=\"qere xft\"><span class=\"f\">qere=</span>ὑμᾶς</span> <span class=\"str_lem xft\"><span class=\"f\">str_lem=</span>ὑμεῖς</span> <span class=\"strongs xft\"><span class=\"f\">strongs=</span>5210</span> <span class=\"vrsnum xft\"><span class=\"f\">vrsnum=</span>4</span></div>\n",
       "</div>\n",
       "<div class=\"word  hl\"  style=\"background-color: mediumaquamarine;\" >\n",
       "<div class=\"grk\">κρινέτω </div>\n",
       "<div class=\"features\"> <span class=\"anlex_lem xft\"><span class=\"f\">anlex_lem=</span>κρίνω</span> <span class=\"gloss xft\"><span class=\"f\">gloss=</span>to decide</span> <span class=\"ketiv xft\"><span class=\"f\">ketiv=</span>κρινέτω</span> <span class=\"morph xft\"><span class=\"f\">morph=</span>V-PAM-3S</span> <span class=\"qere xft\"><span class=\"f\">qere=</span>κρινέτω</span> <span class=\"str_lem xft\"><span class=\"f\">str_lem=</span>κρίνω</span> <span class=\"strongs xft\"><span class=\"f\">strongs=</span>2919</span> <span class=\"vrsnum xft\"><span class=\"f\">vrsnum=</span>5</span></div>\n",
       "</div>\n",
       "<div class=\"word  hl\"  style=\"background-color: mediumaquamarine;\" >\n",
       "<div class=\"grk\">ἐν </div>\n",
       "<div class=\"features\"> <span class=\"anlex_lem xft\"><span class=\"f\">anlex_lem=</span>ἐν</span> <span class=\"gloss xft\"><span class=\"f\">gloss=</span>in</span> <span class=\"ketiv xft\"><span class=\"f\">ketiv=</span>ἐν</span> <span class=\"morph xft\"><span class=\"f\">morph=</span>PREP</span> <span class=\"qere xft\"><span class=\"f\">qere=</span>ἐν</span> <span class=\"str_lem xft\"><span class=\"f\">str_lem=</span>ἐν</span> <span class=\"strongs xft\"><span class=\"f\">strongs=</span>1722</span> <span class=\"vrsnum xft\"><span class=\"f\">vrsnum=</span>6</span></div>\n",
       "</div>\n",
       "<div class=\"word  hl\"  style=\"background-color: mediumaquamarine;\" >\n",
       "<div class=\"grk\">βρώσει </div>\n",
       "<div class=\"features\"> <span class=\"anlex_lem xft\"><span class=\"f\">anlex_lem=</span>βρῶσις</span> <span class=\"gloss xft\"><span class=\"f\">gloss=</span>consumable</span> <span class=\"ketiv xft\"><span class=\"f\">ketiv=</span>βρώσει</span> <span class=\"morph xft\"><span class=\"f\">morph=</span>N-DSF</span> <span class=\"qere xft\"><span class=\"f\">qere=</span>βρώσει</span> <span class=\"str_lem xft\"><span class=\"f\">str_lem=</span>βρῶσις</span> <span class=\"strongs xft\"><span class=\"f\">strongs=</span>1035</span> <span class=\"vrsnum xft\"><span class=\"f\">vrsnum=</span>7</span></div>\n",
       "</div>\n",
       "<div class=\"word  hl\"  style=\"background-color: mediumaquamarine;\" >\n",
       "<div class=\"grk\">ἢ </div>\n",
       "<div class=\"features\"> <span class=\"anlex_lem xft\"><span class=\"f\">anlex_lem=</span>ἤ</span> <span class=\"gloss xft\"><span class=\"f\">gloss=</span>either...or</span> <span class=\"ketiv xft\"><span class=\"f\">ketiv=</span>ἢ</span> <span class=\"morph xft\"><span class=\"f\">morph=</span>PRT</span> <span class=\"qere xft\"><span class=\"f\">qere=</span>ἢ</span> <span class=\"str_lem xft\"><span class=\"f\">str_lem=</span>ἤ</span> <span class=\"strongs xft\"><span class=\"f\">strongs=</span>2228</span> <span class=\"vrsnum xft\"><span class=\"f\">vrsnum=</span>8</span></div>\n",
       "</div>\n",
       "<div class=\"word  hl\"  style=\"background-color: mediumaquamarine;\" >\n",
       "<div class=\"grk\">ἐν </div>\n",
       "<div class=\"features\"> <span class=\"anlex_lem xft\"><span class=\"f\">anlex_lem=</span>ἐν</span> <span class=\"gloss xft\"><span class=\"f\">gloss=</span>in</span> <span class=\"ketiv xft\"><span class=\"f\">ketiv=</span>ἐν</span> <span class=\"morph xft\"><span class=\"f\">morph=</span>PREP</span> <span class=\"qere xft\"><span class=\"f\">qere=</span>ἐν</span> <span class=\"str_lem xft\"><span class=\"f\">str_lem=</span>ἐν</span> <span class=\"strongs xft\"><span class=\"f\">strongs=</span>1722</span> <span class=\"vrsnum xft\"><span class=\"f\">vrsnum=</span>9</span></div>\n",
       "</div>\n",
       "<div class=\"word  hl\"  style=\"background-color: mediumaquamarine;\" >\n",
       "<div class=\"grk\">πόσει </div>\n",
       "<div class=\"features\"> <span class=\"anlex_lem xft\"><span class=\"f\">anlex_lem=</span>πόσις</span> <span class=\"gloss xft\"><span class=\"f\">gloss=</span>drinking</span> <span class=\"ketiv xft\"><span class=\"f\">ketiv=</span>πόσει</span> <span class=\"morph xft\"><span class=\"f\">morph=</span>N-DSF</span> <span class=\"qere xft\"><span class=\"f\">qere=</span>πόσει</span> <span class=\"str_lem xft\"><span class=\"f\">str_lem=</span>πόσις</span> <span class=\"strongs xft\"><span class=\"f\">strongs=</span>4213</span> <span class=\"vrsnum xft\"><span class=\"f\">vrsnum=</span>10</span></div>\n",
       "</div>\n",
       "<div class=\"word  hl\"  style=\"background-color: mediumaquamarine;\" >\n",
       "<div class=\"grk\">ἢ </div>\n",
       "<div class=\"features\"> <span class=\"anlex_lem xft\"><span class=\"f\">anlex_lem=</span>ἤ</span> <span class=\"gloss xft\"><span class=\"f\">gloss=</span>either...or</span> <span class=\"ketiv xft\"><span class=\"f\">ketiv=</span>ἢ</span> <span class=\"morph xft\"><span class=\"f\">morph=</span>PRT</span> <span class=\"qere xft\"><span class=\"f\">qere=</span>ἢ</span> <span class=\"str_lem xft\"><span class=\"f\">str_lem=</span>ἤ</span> <span class=\"strongs xft\"><span class=\"f\">strongs=</span>2228</span> <span class=\"vrsnum xft\"><span class=\"f\">vrsnum=</span>11</span></div>\n",
       "</div>\n",
       "<div class=\"word  hl\"  style=\"background-color: mediumaquamarine;\" >\n",
       "<div class=\"grk\">ἐν </div>\n",
       "<div class=\"features\"> <span class=\"anlex_lem xft\"><span class=\"f\">anlex_lem=</span>ἐν</span> <span class=\"gloss xft\"><span class=\"f\">gloss=</span>in</span> <span class=\"ketiv xft\"><span class=\"f\">ketiv=</span>ἐν</span> <span class=\"morph xft\"><span class=\"f\">morph=</span>PREP</span> <span class=\"qere xft\"><span class=\"f\">qere=</span>ἐν</span> <span class=\"str_lem xft\"><span class=\"f\">str_lem=</span>ἐν</span> <span class=\"strongs xft\"><span class=\"f\">strongs=</span>1722</span> <span class=\"vrsnum xft\"><span class=\"f\">vrsnum=</span>12</span></div>\n",
       "</div>\n",
       "<div class=\"word  hl\"  style=\"background-color: mediumaquamarine;\" >\n",
       "<div class=\"grk\">μέρει </div>\n",
       "<div class=\"features\"> <span class=\"anlex_lem xft\"><span class=\"f\">anlex_lem=</span>μέρος</span> <span class=\"gloss xft\"><span class=\"f\">gloss=</span>part</span> <span class=\"ketiv xft\"><span class=\"f\">ketiv=</span>μέρει</span> <span class=\"morph xft\"><span class=\"f\">morph=</span>N-DSN</span> <span class=\"qere xft\"><span class=\"f\">qere=</span>μέρει</span> <span class=\"str_lem xft\"><span class=\"f\">str_lem=</span>μέρος</span> <span class=\"strongs xft\"><span class=\"f\">strongs=</span>3313</span> <span class=\"vrsnum xft\"><span class=\"f\">vrsnum=</span>13</span></div>\n",
       "</div>\n",
       "<div class=\"word  hl\"  style=\"background-color: mediumaquamarine;\" >\n",
       "<div class=\"grk\">ἑορτῆς </div>\n",
       "<div class=\"features\"> <span class=\"anlex_lem xft\"><span class=\"f\">anlex_lem=</span>ἑορτή</span> <span class=\"gloss xft\"><span class=\"f\">gloss=</span>feast</span> <span class=\"ketiv xft\"><span class=\"f\">ketiv=</span>ἑορτῆς</span> <span class=\"morph xft\"><span class=\"f\">morph=</span>N-GSF</span> <span class=\"qere xft\"><span class=\"f\">qere=</span>ἑορτῆς</span> <span class=\"str_lem xft\"><span class=\"f\">str_lem=</span>ἑορτή</span> <span class=\"strongs xft\"><span class=\"f\">strongs=</span>1859</span> <span class=\"vrsnum xft\"><span class=\"f\">vrsnum=</span>14</span></div>\n",
       "</div>\n",
       "<div class=\"word  hl\"  style=\"background-color: mediumaquamarine;\" >\n",
       "<div class=\"grk\">ἢ </div>\n",
       "<div class=\"features\"> <span class=\"anlex_lem xft\"><span class=\"f\">anlex_lem=</span>ἤ</span> <span class=\"gloss xft\"><span class=\"f\">gloss=</span>either...or</span> <span class=\"ketiv xft\"><span class=\"f\">ketiv=</span>ἢ</span> <span class=\"morph xft\"><span class=\"f\">morph=</span>PRT</span> <span class=\"qere xft\"><span class=\"f\">qere=</span>ἢ</span> <span class=\"str_lem xft\"><span class=\"f\">str_lem=</span>ἤ</span> <span class=\"strongs xft\"><span class=\"f\">strongs=</span>2228</span> <span class=\"vrsnum xft\"><span class=\"f\">vrsnum=</span>15</span></div>\n",
       "</div>\n",
       "<div class=\"word  hl\"  style=\"background-color: mediumaquamarine;\" >\n",
       "<div class=\"grk\">νουμηνίας </div>\n",
       "<div class=\"features\"> <span class=\"anlex_lem xft\"><span class=\"f\">anlex_lem=</span>νεομηνία</span> <span class=\"gloss xft\"><span class=\"f\">gloss=</span>New Moon Celebration</span> <span class=\"ketiv xft\"><span class=\"f\">ketiv=</span>νουμηνίας</span> <span class=\"morph xft\"><span class=\"f\">morph=</span>N-GSF</span> <span class=\"qere xft\"><span class=\"f\">qere=</span>νουμηνίας</span> <span class=\"str_lem xft\"><span class=\"f\">str_lem=</span>νουμηνία</span> <span class=\"strongs xft\"><span class=\"f\">strongs=</span>3561</span> <span class=\"vrsnum xft\"><span class=\"f\">vrsnum=</span>16</span></div>\n",
       "</div>\n",
       "<div class=\"word  hl\"  style=\"background-color: mediumaquamarine;\" >\n",
       "<div class=\"grk\">ἢ </div>\n",
       "<div class=\"features\"> <span class=\"anlex_lem xft\"><span class=\"f\">anlex_lem=</span>ἤ</span> <span class=\"gloss xft\"><span class=\"f\">gloss=</span>either...or</span> <span class=\"ketiv xft\"><span class=\"f\">ketiv=</span>ἢ</span> <span class=\"morph xft\"><span class=\"f\">morph=</span>PRT</span> <span class=\"qere xft\"><span class=\"f\">qere=</span>ἢ</span> <span class=\"str_lem xft\"><span class=\"f\">str_lem=</span>ἤ</span> <span class=\"strongs xft\"><span class=\"f\">strongs=</span>2228</span> <span class=\"vrsnum xft\"><span class=\"f\">vrsnum=</span>17</span></div>\n",
       "</div>\n",
       "<div class=\"word  hl\"  style=\"background-color: mediumaquamarine;\" >\n",
       "<div class=\"grk\">σαββάτων, </div>\n",
       "<div class=\"features\"> <span class=\"anlex_lem xft\"><span class=\"f\">anlex_lem=</span>σάββατον</span> <span class=\"gloss xft\"><span class=\"f\">gloss=</span>Sabbath</span> <span class=\"ketiv xft\"><span class=\"f\">ketiv=</span>σαββάτων,</span> <span class=\"morph xft\"><span class=\"f\">morph=</span>N-GPN</span> <span class=\"qere xft\"><span class=\"f\">qere=</span>σαββάτων,</span> <span class=\"str_lem xft\"><span class=\"f\">str_lem=</span>σάββατον</span> <span class=\"strongs xft\"><span class=\"f\">strongs=</span>4521</span> <span class=\"vrsnum xft\"><span class=\"f\">vrsnum=</span>18</span></div>\n",
       "</div>\n",
       "</div>\n",
       "</div>"
      ],
      "text/plain": [
       "<IPython.core.display.HTML object>"
      ]
     },
     "metadata": {},
     "output_type": "display_data"
    },
    {
     "data": {
      "text/html": [
       "<p><b>verse</b> <i>2</i></p>"
      ],
      "text/plain": [
       "<IPython.core.display.HTML object>"
      ]
     },
     "metadata": {},
     "output_type": "display_data"
    },
    {
     "data": {
      "text/html": [
       "<div class=\"outeritem\">\n",
       "<div class=\"verse  \" >\n",
       "\n",
       "    <div class=\"ll\">\n",
       "        <div class=\"line\"><a href=\"https://github.com/morphgnt/tischendorf-data/tree/master/word-per-line/2.8/Unicode/COL.txt\" title=\"see this passage in its source document\" sec=\"Colossians 2:17\">Colossians 2:17</a></div>\n",
       "\n",
       "        <div class=\"features\"> <span class=\"verse xft\"><span class=\"f\">verse=</span>17</span></div>\n",
       "    </div>\n",
       "\n",
       "<div class=\"word  hl\"  style=\"background-color: mediumaquamarine;\" >\n",
       "<div class=\"grk\">ἅ </div>\n",
       "<div class=\"features\"> <span class=\"anlex_lem xft\"><span class=\"f\">anlex_lem=</span>ὅς</span> <span class=\"gloss xft\"><span class=\"f\">gloss=</span>who</span> <span class=\"ketiv xft\"><span class=\"f\">ketiv=</span>ἅ</span> <span class=\"morph xft\"><span class=\"f\">morph=</span>R-NPN</span> <span class=\"qere xft\"><span class=\"f\">qere=</span>ἅ</span> <span class=\"str_lem xft\"><span class=\"f\">str_lem=</span>ὅς</span> <span class=\"strongs xft\"><span class=\"f\">strongs=</span>3739</span> <span class=\"vrsnum xft\"><span class=\"f\">vrsnum=</span>1</span></div>\n",
       "</div>\n",
       "<div class=\"word  hl\"  style=\"background-color: mediumaquamarine;\" >\n",
       "<div class=\"grk\">ἐστιν </div>\n",
       "<div class=\"features\"> <span class=\"anlex_lem xft\"><span class=\"f\">anlex_lem=</span>εἰμί</span> <span class=\"gloss xft\"><span class=\"f\">gloss=</span>to be</span> <span class=\"ketiv xft\"><span class=\"f\">ketiv=</span>ἐστιν</span> <span class=\"morph xft\"><span class=\"f\">morph=</span>V-PAI-3S</span> <span class=\"qere xft\"><span class=\"f\">qere=</span>ἐστιν</span> <span class=\"str_lem xft\"><span class=\"f\">str_lem=</span>εἰμί</span> <span class=\"strongs xft\"><span class=\"f\">strongs=</span>1510</span> <span class=\"vrsnum xft\"><span class=\"f\">vrsnum=</span>2</span></div>\n",
       "</div>\n",
       "<div class=\"word  hl\"  style=\"background-color: mediumaquamarine;\" >\n",
       "<div class=\"grk\">σκιὰ </div>\n",
       "<div class=\"features\"> <span class=\"anlex_lem xft\"><span class=\"f\">anlex_lem=</span>σκιά</span> <span class=\"gloss xft\"><span class=\"f\">gloss=</span>shadow</span> <span class=\"ketiv xft\"><span class=\"f\">ketiv=</span>σκιὰ</span> <span class=\"morph xft\"><span class=\"f\">morph=</span>N-NSF</span> <span class=\"qere xft\"><span class=\"f\">qere=</span>σκιὰ</span> <span class=\"str_lem xft\"><span class=\"f\">str_lem=</span>σκιά</span> <span class=\"strongs xft\"><span class=\"f\">strongs=</span>4639</span> <span class=\"vrsnum xft\"><span class=\"f\">vrsnum=</span>3</span></div>\n",
       "</div>\n",
       "<div class=\"word  hl\"  style=\"background-color: mediumaquamarine;\" >\n",
       "<div class=\"grk\">τῶν </div>\n",
       "<div class=\"features\"> <span class=\"anlex_lem xft\"><span class=\"f\">anlex_lem=</span>ὁ</span> <span class=\"gloss xft\"><span class=\"f\">gloss=</span>the</span> <span class=\"ketiv xft\"><span class=\"f\">ketiv=</span>τῶν</span> <span class=\"morph xft\"><span class=\"f\">morph=</span>T-GPN</span> <span class=\"qere xft\"><span class=\"f\">qere=</span>τῶν</span> <span class=\"str_lem xft\"><span class=\"f\">str_lem=</span>ὁ</span> <span class=\"strongs xft\"><span class=\"f\">strongs=</span>3588</span> <span class=\"vrsnum xft\"><span class=\"f\">vrsnum=</span>4</span></div>\n",
       "</div>\n",
       "<div class=\"word  hl\"  style=\"background-color: mediumaquamarine;\" >\n",
       "<div class=\"grk\">μελλόντων, </div>\n",
       "<div class=\"features\"> <span class=\"anlex_lem xft\"><span class=\"f\">anlex_lem=</span>μέλλω</span> <span class=\"gloss xft\"><span class=\"f\">gloss=</span>to be about to</span> <span class=\"ketiv xft\"><span class=\"f\">ketiv=</span>μελλόντων,</span> <span class=\"morph xft\"><span class=\"f\">morph=</span>V-PAP-GPN</span> <span class=\"qere xft\"><span class=\"f\">qere=</span>μελλόντων,</span> <span class=\"str_lem xft\"><span class=\"f\">str_lem=</span>μέλλω</span> <span class=\"strongs xft\"><span class=\"f\">strongs=</span>3195</span> <span class=\"vrsnum xft\"><span class=\"f\">vrsnum=</span>5</span></div>\n",
       "</div>\n",
       "<div class=\"word  hl\"  style=\"background-color: mediumaquamarine;\" >\n",
       "<div class=\"grk\">τὸ </div>\n",
       "<div class=\"features\"> <span class=\"anlex_lem xft\"><span class=\"f\">anlex_lem=</span>ὁ</span> <span class=\"gloss xft\"><span class=\"f\">gloss=</span>the</span> <span class=\"ketiv xft\"><span class=\"f\">ketiv=</span>τὸ</span> <span class=\"morph xft\"><span class=\"f\">morph=</span>T-NSN</span> <span class=\"qere xft\"><span class=\"f\">qere=</span>τὸ</span> <span class=\"str_lem xft\"><span class=\"f\">str_lem=</span>ὁ</span> <span class=\"strongs xft\"><span class=\"f\">strongs=</span>3588</span> <span class=\"vrsnum xft\"><span class=\"f\">vrsnum=</span>6</span></div>\n",
       "</div>\n",
       "<div class=\"word  hl\"  style=\"background-color: mediumaquamarine;\" >\n",
       "<div class=\"grk\">δὲ </div>\n",
       "<div class=\"features\"> <span class=\"anlex_lem xft\"><span class=\"f\">anlex_lem=</span>δέ</span> <span class=\"gloss xft\"><span class=\"f\">gloss=</span>but</span> <span class=\"ketiv xft\"><span class=\"f\">ketiv=</span>δὲ</span> <span class=\"morph xft\"><span class=\"f\">morph=</span>CONJ</span> <span class=\"qere xft\"><span class=\"f\">qere=</span>δὲ</span> <span class=\"str_lem xft\"><span class=\"f\">str_lem=</span>δέ</span> <span class=\"strongs xft\"><span class=\"f\">strongs=</span>1161</span> <span class=\"vrsnum xft\"><span class=\"f\">vrsnum=</span>7</span></div>\n",
       "</div>\n",
       "<div class=\"word  hl\"  style=\"background-color: mediumaquamarine;\" >\n",
       "<div class=\"grk\">σῶμα </div>\n",
       "<div class=\"features\"> <span class=\"anlex_lem xft\"><span class=\"f\">anlex_lem=</span>σῶμα</span> <span class=\"gloss xft\"><span class=\"f\">gloss=</span>body</span> <span class=\"ketiv xft\"><span class=\"f\">ketiv=</span>σῶμα</span> <span class=\"morph xft\"><span class=\"f\">morph=</span>N-NSN</span> <span class=\"qere xft\"><span class=\"f\">qere=</span>σῶμα</span> <span class=\"str_lem xft\"><span class=\"f\">str_lem=</span>σῶμα</span> <span class=\"strongs xft\"><span class=\"f\">strongs=</span>4983</span> <span class=\"vrsnum xft\"><span class=\"f\">vrsnum=</span>8</span></div>\n",
       "</div>\n",
       "<div class=\"word  hl\"  style=\"background-color: mediumaquamarine;\" >\n",
       "<div class=\"grk\">τοῦ </div>\n",
       "<div class=\"features\"> <span class=\"anlex_lem xft\"><span class=\"f\">anlex_lem=</span>ὁ</span> <span class=\"gloss xft\"><span class=\"f\">gloss=</span>the</span> <span class=\"ketiv xft\"><span class=\"f\">ketiv=</span>τοῦ</span> <span class=\"morph xft\"><span class=\"f\">morph=</span>T-GSM</span> <span class=\"qere xft\"><span class=\"f\">qere=</span>τοῦ</span> <span class=\"str_lem xft\"><span class=\"f\">str_lem=</span>ὁ</span> <span class=\"strongs xft\"><span class=\"f\">strongs=</span>3588</span> <span class=\"vrsnum xft\"><span class=\"f\">vrsnum=</span>9</span></div>\n",
       "</div>\n",
       "<div class=\"word  hl\"  style=\"background-color: mediumaquamarine;\" >\n",
       "<div class=\"grk\">Χριστοῦ. </div>\n",
       "<div class=\"features\"> <span class=\"anlex_lem xft\"><span class=\"f\">anlex_lem=</span>Χριστός</span> <span class=\"gloss xft\"><span class=\"f\">gloss=</span>Christ</span> <span class=\"ketiv xft\"><span class=\"f\">ketiv=</span>Χριστοῦ.</span> <span class=\"morph xft\"><span class=\"f\">morph=</span>N-GSM</span> <span class=\"qere xft\"><span class=\"f\">qere=</span>Χριστοῦ.</span> <span class=\"str_lem xft\"><span class=\"f\">str_lem=</span>Χριστός</span> <span class=\"strongs xft\"><span class=\"f\">strongs=</span>5547</span> <span class=\"vrsnum xft\"><span class=\"f\">vrsnum=</span>10</span></div>\n",
       "</div>\n",
       "</div>\n",
       "</div>"
      ],
      "text/plain": [
       "<IPython.core.display.HTML object>"
      ]
     },
     "metadata": {},
     "output_type": "display_data"
    }
   ],
   "source": [
    "A.show(Col2_16, start=1, end=10, condensed=True, colorMap={3: 'lightsalmon', 4: 'mediumaquamarine'})"
   ]
  },
  {
   "cell_type": "code",
   "execution_count": 7,
   "metadata": {},
   "outputs": [
    {
     "data": {
      "text/html": [
       "<p><b>verse</b> <i>1</i></p>"
      ],
      "text/plain": [
       "<IPython.core.display.HTML object>"
      ]
     },
     "metadata": {},
     "output_type": "display_data"
    },
    {
     "data": {
      "text/html": [
       "<div class=\"outeritem\">\n",
       "<div class=\"verse  \" >\n",
       "\n",
       "    <div class=\"ll\">\n",
       "        <div class=\"line\"><a href=\"https://github.com/morphgnt/tischendorf-data/tree/master/word-per-line/2.8/Unicode/COL.txt\" title=\"see this passage in its source document\" sec=\"Colossians 2:16\">Colossians 2:16</a></div>\n",
       "\n",
       "        <div class=\"features\"> <span class=\"verse xft\"><span class=\"f\">verse=</span>16</span></div>\n",
       "    </div>\n",
       "\n",
       "<div class=\"word  hl\"  style=\"background-color: mediumaquamarine;\" >\n",
       "<div class=\"grk\">Μὴ </div>\n",
       "<div class=\"features\"> <span class=\"anlex_lem xft\"><span class=\"f\">anlex_lem=</span>μή</span> <span class=\"gloss xft\"><span class=\"f\">gloss=</span>no</span> <span class=\"ketiv xft\"><span class=\"f\">ketiv=</span>Μὴ</span> <span class=\"morph xft\"><span class=\"f\">morph=</span>PRT-N</span> <span class=\"qere xft\"><span class=\"f\">qere=</span>Μὴ</span> <span class=\"str_lem xft\"><span class=\"f\">str_lem=</span>μή</span> <span class=\"strongs xft\"><span class=\"f\">strongs=</span>3361</span> <span class=\"vrsnum xft\"><span class=\"f\">vrsnum=</span>1</span></div>\n",
       "</div>\n",
       "<div class=\"word  hl\"  style=\"background-color: mediumaquamarine;\" >\n",
       "<div class=\"grk\">οὖν </div>\n",
       "<div class=\"features\"> <span class=\"anlex_lem xft\"><span class=\"f\">anlex_lem=</span>οὖν</span> <span class=\"gloss xft\"><span class=\"f\">gloss=</span>therefore</span> <span class=\"ketiv xft\"><span class=\"f\">ketiv=</span>οὖν</span> <span class=\"morph xft\"><span class=\"f\">morph=</span>CONJ</span> <span class=\"qere xft\"><span class=\"f\">qere=</span>οὖν</span> <span class=\"str_lem xft\"><span class=\"f\">str_lem=</span>οὖν</span> <span class=\"strongs xft\"><span class=\"f\">strongs=</span>3767</span> <span class=\"vrsnum xft\"><span class=\"f\">vrsnum=</span>2</span></div>\n",
       "</div>\n",
       "<div class=\"word  hl\"  style=\"background-color: mediumaquamarine;\" >\n",
       "<div class=\"grk\">τις </div>\n",
       "<div class=\"features\"> <span class=\"anlex_lem xft\"><span class=\"f\">anlex_lem=</span>τὶς</span> <span class=\"gloss xft\"><span class=\"f\">gloss=</span>someone</span> <span class=\"ketiv xft\"><span class=\"f\">ketiv=</span>τις</span> <span class=\"morph xft\"><span class=\"f\">morph=</span>X-NSM</span> <span class=\"qere xft\"><span class=\"f\">qere=</span>τις</span> <span class=\"str_lem xft\"><span class=\"f\">str_lem=</span>τὶς</span> <span class=\"strongs xft\"><span class=\"f\">strongs=</span>5100</span> <span class=\"vrsnum xft\"><span class=\"f\">vrsnum=</span>3</span></div>\n",
       "</div>\n",
       "<div class=\"word  hl\"  style=\"background-color: mediumaquamarine;\" >\n",
       "<div class=\"grk\">ὑμᾶς </div>\n",
       "<div class=\"features\"> <span class=\"anlex_lem xft\"><span class=\"f\">anlex_lem=</span>σύ</span> <span class=\"gloss xft\"><span class=\"f\">gloss=</span>you</span> <span class=\"ketiv xft\"><span class=\"f\">ketiv=</span>ὑμᾶς</span> <span class=\"morph xft\"><span class=\"f\">morph=</span>P-2AP</span> <span class=\"qere xft\"><span class=\"f\">qere=</span>ὑμᾶς</span> <span class=\"str_lem xft\"><span class=\"f\">str_lem=</span>ὑμεῖς</span> <span class=\"strongs xft\"><span class=\"f\">strongs=</span>5210</span> <span class=\"vrsnum xft\"><span class=\"f\">vrsnum=</span>4</span></div>\n",
       "</div>\n",
       "<div class=\"word  hl\"  style=\"background-color: mediumaquamarine;\" >\n",
       "<div class=\"grk\">κρινέτω </div>\n",
       "<div class=\"features\"> <span class=\"anlex_lem xft\"><span class=\"f\">anlex_lem=</span>κρίνω</span> <span class=\"gloss xft\"><span class=\"f\">gloss=</span>to decide</span> <span class=\"ketiv xft\"><span class=\"f\">ketiv=</span>κρινέτω</span> <span class=\"morph xft\"><span class=\"f\">morph=</span>V-PAM-3S</span> <span class=\"qere xft\"><span class=\"f\">qere=</span>κρινέτω</span> <span class=\"str_lem xft\"><span class=\"f\">str_lem=</span>κρίνω</span> <span class=\"strongs xft\"><span class=\"f\">strongs=</span>2919</span> <span class=\"vrsnum xft\"><span class=\"f\">vrsnum=</span>5</span></div>\n",
       "</div>\n",
       "<div class=\"word  hl\"  style=\"background-color: mediumaquamarine;\" >\n",
       "<div class=\"grk\">ἐν </div>\n",
       "<div class=\"features\"> <span class=\"anlex_lem xft\"><span class=\"f\">anlex_lem=</span>ἐν</span> <span class=\"gloss xft\"><span class=\"f\">gloss=</span>in</span> <span class=\"ketiv xft\"><span class=\"f\">ketiv=</span>ἐν</span> <span class=\"morph xft\"><span class=\"f\">morph=</span>PREP</span> <span class=\"qere xft\"><span class=\"f\">qere=</span>ἐν</span> <span class=\"str_lem xft\"><span class=\"f\">str_lem=</span>ἐν</span> <span class=\"strongs xft\"><span class=\"f\">strongs=</span>1722</span> <span class=\"vrsnum xft\"><span class=\"f\">vrsnum=</span>6</span></div>\n",
       "</div>\n",
       "<div class=\"word  hl\"  style=\"background-color: mediumaquamarine;\" >\n",
       "<div class=\"grk\">βρώσει </div>\n",
       "<div class=\"features\"> <span class=\"anlex_lem xft\"><span class=\"f\">anlex_lem=</span>βρῶσις</span> <span class=\"gloss xft\"><span class=\"f\">gloss=</span>consumable</span> <span class=\"ketiv xft\"><span class=\"f\">ketiv=</span>βρώσει</span> <span class=\"morph xft\"><span class=\"f\">morph=</span>N-DSF</span> <span class=\"qere xft\"><span class=\"f\">qere=</span>βρώσει</span> <span class=\"str_lem xft\"><span class=\"f\">str_lem=</span>βρῶσις</span> <span class=\"strongs xft\"><span class=\"f\">strongs=</span>1035</span> <span class=\"vrsnum xft\"><span class=\"f\">vrsnum=</span>7</span></div>\n",
       "</div>\n",
       "<div class=\"word  hl\"  style=\"background-color: mediumaquamarine;\" >\n",
       "<div class=\"grk\">ἢ </div>\n",
       "<div class=\"features\"> <span class=\"anlex_lem xft\"><span class=\"f\">anlex_lem=</span>ἤ</span> <span class=\"gloss xft\"><span class=\"f\">gloss=</span>either...or</span> <span class=\"ketiv xft\"><span class=\"f\">ketiv=</span>ἢ</span> <span class=\"morph xft\"><span class=\"f\">morph=</span>PRT</span> <span class=\"qere xft\"><span class=\"f\">qere=</span>ἢ</span> <span class=\"str_lem xft\"><span class=\"f\">str_lem=</span>ἤ</span> <span class=\"strongs xft\"><span class=\"f\">strongs=</span>2228</span> <span class=\"vrsnum xft\"><span class=\"f\">vrsnum=</span>8</span></div>\n",
       "</div>\n",
       "<div class=\"word  hl\"  style=\"background-color: mediumaquamarine;\" >\n",
       "<div class=\"grk\">ἐν </div>\n",
       "<div class=\"features\"> <span class=\"anlex_lem xft\"><span class=\"f\">anlex_lem=</span>ἐν</span> <span class=\"gloss xft\"><span class=\"f\">gloss=</span>in</span> <span class=\"ketiv xft\"><span class=\"f\">ketiv=</span>ἐν</span> <span class=\"morph xft\"><span class=\"f\">morph=</span>PREP</span> <span class=\"qere xft\"><span class=\"f\">qere=</span>ἐν</span> <span class=\"str_lem xft\"><span class=\"f\">str_lem=</span>ἐν</span> <span class=\"strongs xft\"><span class=\"f\">strongs=</span>1722</span> <span class=\"vrsnum xft\"><span class=\"f\">vrsnum=</span>9</span></div>\n",
       "</div>\n",
       "<div class=\"word  hl\"  style=\"background-color: mediumaquamarine;\" >\n",
       "<div class=\"grk\">πόσει </div>\n",
       "<div class=\"features\"> <span class=\"anlex_lem xft\"><span class=\"f\">anlex_lem=</span>πόσις</span> <span class=\"gloss xft\"><span class=\"f\">gloss=</span>drinking</span> <span class=\"ketiv xft\"><span class=\"f\">ketiv=</span>πόσει</span> <span class=\"morph xft\"><span class=\"f\">morph=</span>N-DSF</span> <span class=\"qere xft\"><span class=\"f\">qere=</span>πόσει</span> <span class=\"str_lem xft\"><span class=\"f\">str_lem=</span>πόσις</span> <span class=\"strongs xft\"><span class=\"f\">strongs=</span>4213</span> <span class=\"vrsnum xft\"><span class=\"f\">vrsnum=</span>10</span></div>\n",
       "</div>\n",
       "<div class=\"word  hl\"  style=\"background-color: mediumaquamarine;\" >\n",
       "<div class=\"grk\">ἢ </div>\n",
       "<div class=\"features\"> <span class=\"anlex_lem xft\"><span class=\"f\">anlex_lem=</span>ἤ</span> <span class=\"gloss xft\"><span class=\"f\">gloss=</span>either...or</span> <span class=\"ketiv xft\"><span class=\"f\">ketiv=</span>ἢ</span> <span class=\"morph xft\"><span class=\"f\">morph=</span>PRT</span> <span class=\"qere xft\"><span class=\"f\">qere=</span>ἢ</span> <span class=\"str_lem xft\"><span class=\"f\">str_lem=</span>ἤ</span> <span class=\"strongs xft\"><span class=\"f\">strongs=</span>2228</span> <span class=\"vrsnum xft\"><span class=\"f\">vrsnum=</span>11</span></div>\n",
       "</div>\n",
       "<div class=\"word  hl\"  style=\"background-color: mediumaquamarine;\" >\n",
       "<div class=\"grk\">ἐν </div>\n",
       "<div class=\"features\"> <span class=\"anlex_lem xft\"><span class=\"f\">anlex_lem=</span>ἐν</span> <span class=\"gloss xft\"><span class=\"f\">gloss=</span>in</span> <span class=\"ketiv xft\"><span class=\"f\">ketiv=</span>ἐν</span> <span class=\"morph xft\"><span class=\"f\">morph=</span>PREP</span> <span class=\"qere xft\"><span class=\"f\">qere=</span>ἐν</span> <span class=\"str_lem xft\"><span class=\"f\">str_lem=</span>ἐν</span> <span class=\"strongs xft\"><span class=\"f\">strongs=</span>1722</span> <span class=\"vrsnum xft\"><span class=\"f\">vrsnum=</span>12</span></div>\n",
       "</div>\n",
       "<div class=\"word  hl\"  style=\"background-color: mediumaquamarine;\" >\n",
       "<div class=\"grk\">μέρει </div>\n",
       "<div class=\"features\"> <span class=\"anlex_lem xft\"><span class=\"f\">anlex_lem=</span>μέρος</span> <span class=\"gloss xft\"><span class=\"f\">gloss=</span>part</span> <span class=\"ketiv xft\"><span class=\"f\">ketiv=</span>μέρει</span> <span class=\"morph xft\"><span class=\"f\">morph=</span>N-DSN</span> <span class=\"qere xft\"><span class=\"f\">qere=</span>μέρει</span> <span class=\"str_lem xft\"><span class=\"f\">str_lem=</span>μέρος</span> <span class=\"strongs xft\"><span class=\"f\">strongs=</span>3313</span> <span class=\"vrsnum xft\"><span class=\"f\">vrsnum=</span>13</span></div>\n",
       "</div>\n",
       "<div class=\"word  hl\"  style=\"background-color: mediumaquamarine;\" >\n",
       "<div class=\"grk\">ἑορτῆς </div>\n",
       "<div class=\"features\"> <span class=\"anlex_lem xft\"><span class=\"f\">anlex_lem=</span>ἑορτή</span> <span class=\"gloss xft\"><span class=\"f\">gloss=</span>feast</span> <span class=\"ketiv xft\"><span class=\"f\">ketiv=</span>ἑορτῆς</span> <span class=\"morph xft\"><span class=\"f\">morph=</span>N-GSF</span> <span class=\"qere xft\"><span class=\"f\">qere=</span>ἑορτῆς</span> <span class=\"str_lem xft\"><span class=\"f\">str_lem=</span>ἑορτή</span> <span class=\"strongs xft\"><span class=\"f\">strongs=</span>1859</span> <span class=\"vrsnum xft\"><span class=\"f\">vrsnum=</span>14</span></div>\n",
       "</div>\n",
       "<div class=\"word  hl\"  style=\"background-color: mediumaquamarine;\" >\n",
       "<div class=\"grk\">ἢ </div>\n",
       "<div class=\"features\"> <span class=\"anlex_lem xft\"><span class=\"f\">anlex_lem=</span>ἤ</span> <span class=\"gloss xft\"><span class=\"f\">gloss=</span>either...or</span> <span class=\"ketiv xft\"><span class=\"f\">ketiv=</span>ἢ</span> <span class=\"morph xft\"><span class=\"f\">morph=</span>PRT</span> <span class=\"qere xft\"><span class=\"f\">qere=</span>ἢ</span> <span class=\"str_lem xft\"><span class=\"f\">str_lem=</span>ἤ</span> <span class=\"strongs xft\"><span class=\"f\">strongs=</span>2228</span> <span class=\"vrsnum xft\"><span class=\"f\">vrsnum=</span>15</span></div>\n",
       "</div>\n",
       "<div class=\"word  hl\"  style=\"background-color: mediumaquamarine;\" >\n",
       "<div class=\"grk\">νουμηνίας </div>\n",
       "<div class=\"features\"> <span class=\"anlex_lem xft\"><span class=\"f\">anlex_lem=</span>νεομηνία</span> <span class=\"gloss xft\"><span class=\"f\">gloss=</span>New Moon Celebration</span> <span class=\"ketiv xft\"><span class=\"f\">ketiv=</span>νουμηνίας</span> <span class=\"morph xft\"><span class=\"f\">morph=</span>N-GSF</span> <span class=\"qere xft\"><span class=\"f\">qere=</span>νουμηνίας</span> <span class=\"str_lem xft\"><span class=\"f\">str_lem=</span>νουμηνία</span> <span class=\"strongs xft\"><span class=\"f\">strongs=</span>3561</span> <span class=\"vrsnum xft\"><span class=\"f\">vrsnum=</span>16</span></div>\n",
       "</div>\n",
       "<div class=\"word  hl\"  style=\"background-color: mediumaquamarine;\" >\n",
       "<div class=\"grk\">ἢ </div>\n",
       "<div class=\"features\"> <span class=\"anlex_lem xft\"><span class=\"f\">anlex_lem=</span>ἤ</span> <span class=\"gloss xft\"><span class=\"f\">gloss=</span>either...or</span> <span class=\"ketiv xft\"><span class=\"f\">ketiv=</span>ἢ</span> <span class=\"morph xft\"><span class=\"f\">morph=</span>PRT</span> <span class=\"qere xft\"><span class=\"f\">qere=</span>ἢ</span> <span class=\"str_lem xft\"><span class=\"f\">str_lem=</span>ἤ</span> <span class=\"strongs xft\"><span class=\"f\">strongs=</span>2228</span> <span class=\"vrsnum xft\"><span class=\"f\">vrsnum=</span>17</span></div>\n",
       "</div>\n",
       "<div class=\"word  hl\"  style=\"background-color: mediumaquamarine;\" >\n",
       "<div class=\"grk\">σαββάτων, </div>\n",
       "<div class=\"features\"> <span class=\"anlex_lem xft\"><span class=\"f\">anlex_lem=</span>σάββατον</span> <span class=\"gloss xft\"><span class=\"f\">gloss=</span>Sabbath</span> <span class=\"ketiv xft\"><span class=\"f\">ketiv=</span>σαββάτων,</span> <span class=\"morph xft\"><span class=\"f\">morph=</span>N-GPN</span> <span class=\"qere xft\"><span class=\"f\">qere=</span>σαββάτων,</span> <span class=\"str_lem xft\"><span class=\"f\">str_lem=</span>σάββατον</span> <span class=\"strongs xft\"><span class=\"f\">strongs=</span>4521</span> <span class=\"vrsnum xft\"><span class=\"f\">vrsnum=</span>18</span></div>\n",
       "</div>\n",
       "</div>\n",
       "</div>"
      ],
      "text/plain": [
       "<IPython.core.display.HTML object>"
      ]
     },
     "metadata": {},
     "output_type": "display_data"
    },
    {
     "data": {
      "text/html": [
       "<p><b>verse</b> <i>2</i></p>"
      ],
      "text/plain": [
       "<IPython.core.display.HTML object>"
      ]
     },
     "metadata": {},
     "output_type": "display_data"
    },
    {
     "data": {
      "text/html": [
       "<div class=\"outeritem\">\n",
       "<div class=\"verse  \" >\n",
       "\n",
       "    <div class=\"ll\">\n",
       "        <div class=\"line\"><a href=\"https://github.com/morphgnt/tischendorf-data/tree/master/word-per-line/2.8/Unicode/COL.txt\" title=\"see this passage in its source document\" sec=\"Colossians 2:17\">Colossians 2:17</a></div>\n",
       "\n",
       "        <div class=\"features\"> <span class=\"verse xft\"><span class=\"f\">verse=</span>17</span></div>\n",
       "    </div>\n",
       "\n",
       "<div class=\"word  hl\"  style=\"background-color: mediumaquamarine;\" >\n",
       "<div class=\"grk\">ἅ </div>\n",
       "<div class=\"features\"> <span class=\"anlex_lem xft\"><span class=\"f\">anlex_lem=</span>ὅς</span> <span class=\"gloss xft\"><span class=\"f\">gloss=</span>who</span> <span class=\"ketiv xft\"><span class=\"f\">ketiv=</span>ἅ</span> <span class=\"morph xft\"><span class=\"f\">morph=</span>R-NPN</span> <span class=\"qere xft\"><span class=\"f\">qere=</span>ἅ</span> <span class=\"str_lem xft\"><span class=\"f\">str_lem=</span>ὅς</span> <span class=\"strongs xft\"><span class=\"f\">strongs=</span>3739</span> <span class=\"vrsnum xft\"><span class=\"f\">vrsnum=</span>1</span></div>\n",
       "</div>\n",
       "<div class=\"word  hl\"  style=\"background-color: mediumaquamarine;\" >\n",
       "<div class=\"grk\">ἐστιν </div>\n",
       "<div class=\"features\"> <span class=\"anlex_lem xft\"><span class=\"f\">anlex_lem=</span>εἰμί</span> <span class=\"gloss xft\"><span class=\"f\">gloss=</span>to be</span> <span class=\"ketiv xft\"><span class=\"f\">ketiv=</span>ἐστιν</span> <span class=\"morph xft\"><span class=\"f\">morph=</span>V-PAI-3S</span> <span class=\"qere xft\"><span class=\"f\">qere=</span>ἐστιν</span> <span class=\"str_lem xft\"><span class=\"f\">str_lem=</span>εἰμί</span> <span class=\"strongs xft\"><span class=\"f\">strongs=</span>1510</span> <span class=\"vrsnum xft\"><span class=\"f\">vrsnum=</span>2</span></div>\n",
       "</div>\n",
       "<div class=\"word  hl\"  style=\"background-color: mediumaquamarine;\" >\n",
       "<div class=\"grk\">σκιὰ </div>\n",
       "<div class=\"features\"> <span class=\"anlex_lem xft\"><span class=\"f\">anlex_lem=</span>σκιά</span> <span class=\"gloss xft\"><span class=\"f\">gloss=</span>shadow</span> <span class=\"ketiv xft\"><span class=\"f\">ketiv=</span>σκιὰ</span> <span class=\"morph xft\"><span class=\"f\">morph=</span>N-NSF</span> <span class=\"qere xft\"><span class=\"f\">qere=</span>σκιὰ</span> <span class=\"str_lem xft\"><span class=\"f\">str_lem=</span>σκιά</span> <span class=\"strongs xft\"><span class=\"f\">strongs=</span>4639</span> <span class=\"vrsnum xft\"><span class=\"f\">vrsnum=</span>3</span></div>\n",
       "</div>\n",
       "<div class=\"word  hl\"  style=\"background-color: mediumaquamarine;\" >\n",
       "<div class=\"grk\">τῶν </div>\n",
       "<div class=\"features\"> <span class=\"anlex_lem xft\"><span class=\"f\">anlex_lem=</span>ὁ</span> <span class=\"gloss xft\"><span class=\"f\">gloss=</span>the</span> <span class=\"ketiv xft\"><span class=\"f\">ketiv=</span>τῶν</span> <span class=\"morph xft\"><span class=\"f\">morph=</span>T-GPN</span> <span class=\"qere xft\"><span class=\"f\">qere=</span>τῶν</span> <span class=\"str_lem xft\"><span class=\"f\">str_lem=</span>ὁ</span> <span class=\"strongs xft\"><span class=\"f\">strongs=</span>3588</span> <span class=\"vrsnum xft\"><span class=\"f\">vrsnum=</span>4</span></div>\n",
       "</div>\n",
       "<div class=\"word  hl\"  style=\"background-color: mediumaquamarine;\" >\n",
       "<div class=\"grk\">μελλόντων, </div>\n",
       "<div class=\"features\"> <span class=\"anlex_lem xft\"><span class=\"f\">anlex_lem=</span>μέλλω</span> <span class=\"gloss xft\"><span class=\"f\">gloss=</span>to be about to</span> <span class=\"ketiv xft\"><span class=\"f\">ketiv=</span>μελλόντων,</span> <span class=\"morph xft\"><span class=\"f\">morph=</span>V-PAP-GPN</span> <span class=\"qere xft\"><span class=\"f\">qere=</span>μελλόντων,</span> <span class=\"str_lem xft\"><span class=\"f\">str_lem=</span>μέλλω</span> <span class=\"strongs xft\"><span class=\"f\">strongs=</span>3195</span> <span class=\"vrsnum xft\"><span class=\"f\">vrsnum=</span>5</span></div>\n",
       "</div>\n",
       "<div class=\"word  hl\"  style=\"background-color: mediumaquamarine;\" >\n",
       "<div class=\"grk\">τὸ </div>\n",
       "<div class=\"features\"> <span class=\"anlex_lem xft\"><span class=\"f\">anlex_lem=</span>ὁ</span> <span class=\"gloss xft\"><span class=\"f\">gloss=</span>the</span> <span class=\"ketiv xft\"><span class=\"f\">ketiv=</span>τὸ</span> <span class=\"morph xft\"><span class=\"f\">morph=</span>T-NSN</span> <span class=\"qere xft\"><span class=\"f\">qere=</span>τὸ</span> <span class=\"str_lem xft\"><span class=\"f\">str_lem=</span>ὁ</span> <span class=\"strongs xft\"><span class=\"f\">strongs=</span>3588</span> <span class=\"vrsnum xft\"><span class=\"f\">vrsnum=</span>6</span></div>\n",
       "</div>\n",
       "<div class=\"word  hl\"  style=\"background-color: mediumaquamarine;\" >\n",
       "<div class=\"grk\">δὲ </div>\n",
       "<div class=\"features\"> <span class=\"anlex_lem xft\"><span class=\"f\">anlex_lem=</span>δέ</span> <span class=\"gloss xft\"><span class=\"f\">gloss=</span>but</span> <span class=\"ketiv xft\"><span class=\"f\">ketiv=</span>δὲ</span> <span class=\"morph xft\"><span class=\"f\">morph=</span>CONJ</span> <span class=\"qere xft\"><span class=\"f\">qere=</span>δὲ</span> <span class=\"str_lem xft\"><span class=\"f\">str_lem=</span>δέ</span> <span class=\"strongs xft\"><span class=\"f\">strongs=</span>1161</span> <span class=\"vrsnum xft\"><span class=\"f\">vrsnum=</span>7</span></div>\n",
       "</div>\n",
       "<div class=\"word  hl\"  style=\"background-color: mediumaquamarine;\" >\n",
       "<div class=\"grk\">σῶμα </div>\n",
       "<div class=\"features\"> <span class=\"anlex_lem xft\"><span class=\"f\">anlex_lem=</span>σῶμα</span> <span class=\"gloss xft\"><span class=\"f\">gloss=</span>body</span> <span class=\"ketiv xft\"><span class=\"f\">ketiv=</span>σῶμα</span> <span class=\"morph xft\"><span class=\"f\">morph=</span>N-NSN</span> <span class=\"qere xft\"><span class=\"f\">qere=</span>σῶμα</span> <span class=\"str_lem xft\"><span class=\"f\">str_lem=</span>σῶμα</span> <span class=\"strongs xft\"><span class=\"f\">strongs=</span>4983</span> <span class=\"vrsnum xft\"><span class=\"f\">vrsnum=</span>8</span></div>\n",
       "</div>\n",
       "<div class=\"word  hl\"  style=\"background-color: mediumaquamarine;\" >\n",
       "<div class=\"grk\">τοῦ </div>\n",
       "<div class=\"features\"> <span class=\"anlex_lem xft\"><span class=\"f\">anlex_lem=</span>ὁ</span> <span class=\"gloss xft\"><span class=\"f\">gloss=</span>the</span> <span class=\"ketiv xft\"><span class=\"f\">ketiv=</span>τοῦ</span> <span class=\"morph xft\"><span class=\"f\">morph=</span>T-GSM</span> <span class=\"qere xft\"><span class=\"f\">qere=</span>τοῦ</span> <span class=\"str_lem xft\"><span class=\"f\">str_lem=</span>ὁ</span> <span class=\"strongs xft\"><span class=\"f\">strongs=</span>3588</span> <span class=\"vrsnum xft\"><span class=\"f\">vrsnum=</span>9</span></div>\n",
       "</div>\n",
       "<div class=\"word  hl\"  style=\"background-color: mediumaquamarine;\" >\n",
       "<div class=\"grk\">Χριστοῦ. </div>\n",
       "<div class=\"features\"> <span class=\"anlex_lem xft\"><span class=\"f\">anlex_lem=</span>Χριστός</span> <span class=\"gloss xft\"><span class=\"f\">gloss=</span>Christ</span> <span class=\"ketiv xft\"><span class=\"f\">ketiv=</span>Χριστοῦ.</span> <span class=\"morph xft\"><span class=\"f\">morph=</span>N-GSM</span> <span class=\"qere xft\"><span class=\"f\">qere=</span>Χριστοῦ.</span> <span class=\"str_lem xft\"><span class=\"f\">str_lem=</span>Χριστός</span> <span class=\"strongs xft\"><span class=\"f\">strongs=</span>5547</span> <span class=\"vrsnum xft\"><span class=\"f\">vrsnum=</span>10</span></div>\n",
       "</div>\n",
       "</div>\n",
       "</div>"
      ],
      "text/plain": [
       "<IPython.core.display.HTML object>"
      ]
     },
     "metadata": {},
     "output_type": "display_data"
    }
   ],
   "source": [
    "A.show(Col2_16, start=1, end=10, condensed=True, colorMap={2: 'lightsalmon', 4: 'mediumaquamarine'})"
   ]
  },
  {
   "cell_type": "markdown",
   "metadata": {},
   "source": [
    "## Lets do a morph search"
   ]
  },
  {
   "cell_type": "code",
   "execution_count": null,
   "metadata": {},
   "outputs": [],
   "source": [
    "verbs2sg='''\n",
    "word morph~V*P*I*2S anlex_lem=βλέπω\n",
    "'''\n",
    "verbs2sg=A.search(verbs2sg)"
   ]
  },
  {
   "cell_type": "code",
   "execution_count": null,
   "metadata": {},
   "outputs": [],
   "source": [
    "A.table(verbs2sg, start=1, end=12, condensed=True, colorMap={2: 'lightsalmon', 4: 'mediumaquamarine'})"
   ]
  },
  {
   "cell_type": "markdown",
   "metadata": {},
   "source": [
    "## Gloss search\n",
    "\n",
    "book', 'chapter', 'paragraph', 'lex', 'verse', 'word'"
   ]
  },
  {
   "cell_type": "code",
   "execution_count": 9,
   "metadata": {},
   "outputs": [
    {
     "name": "stdout",
     "output_type": "stream",
     "text": [
      "  0.41s 28 results\n"
     ]
    }
   ],
   "source": [
    "gloss ='''\n",
    "book book=Colossians\n",
    "    chapter chapter=2\n",
    "        verse verse=16|17\n",
    "            word gloss*\n",
    "'''\n",
    "gloss=A.search(gloss)"
   ]
  },
  {
   "cell_type": "code",
   "execution_count": 13,
   "metadata": {},
   "outputs": [
    {
     "data": {
      "text/html": [
       "<p><b>verse</b> <i>1</i></p>"
      ],
      "text/plain": [
       "<IPython.core.display.HTML object>"
      ]
     },
     "metadata": {},
     "output_type": "display_data"
    },
    {
     "data": {
      "text/html": [
       "<div class=\"outeritem\">\n",
       "<div class=\"verse  \" >\n",
       "\n",
       "    <div class=\"ll\">\n",
       "        <div class=\"line\"><a href=\"https://github.com/morphgnt/tischendorf-data/tree/master/word-per-line/2.8/Unicode/COL.txt\" title=\"see this passage in its source document\" sec=\"Colossians 2:16\">Colossians 2:16</a></div>\n",
       "\n",
       "        <div class=\"features\"> <span class=\"verse xft\"><span class=\"f\">verse=</span>16</span></div>\n",
       "    </div>\n",
       "\n",
       "<div class=\"word  hl\"  style=\"background-color: mediumaquamarine;\" >\n",
       "<div class=\"grk\">Μὴ </div>\n",
       "<div class=\"features\"> <span class=\"gloss xft\"><span class=\"f\">gloss=</span>no</span></div>\n",
       "</div>\n",
       "<div class=\"word  hl\"  style=\"background-color: mediumaquamarine;\" >\n",
       "<div class=\"grk\">οὖν </div>\n",
       "<div class=\"features\"> <span class=\"gloss xft\"><span class=\"f\">gloss=</span>therefore</span></div>\n",
       "</div>\n",
       "<div class=\"word  hl\"  style=\"background-color: mediumaquamarine;\" >\n",
       "<div class=\"grk\">τις </div>\n",
       "<div class=\"features\"> <span class=\"gloss xft\"><span class=\"f\">gloss=</span>someone</span></div>\n",
       "</div>\n",
       "<div class=\"word  hl\"  style=\"background-color: mediumaquamarine;\" >\n",
       "<div class=\"grk\">ὑμᾶς </div>\n",
       "<div class=\"features\"> <span class=\"gloss xft\"><span class=\"f\">gloss=</span>you</span></div>\n",
       "</div>\n",
       "<div class=\"word  hl\"  style=\"background-color: mediumaquamarine;\" >\n",
       "<div class=\"grk\">κρινέτω </div>\n",
       "<div class=\"features\"> <span class=\"gloss xft\"><span class=\"f\">gloss=</span>to decide</span></div>\n",
       "</div>\n",
       "<div class=\"word  hl\"  style=\"background-color: mediumaquamarine;\" >\n",
       "<div class=\"grk\">ἐν </div>\n",
       "<div class=\"features\"> <span class=\"gloss xft\"><span class=\"f\">gloss=</span>in</span></div>\n",
       "</div>\n",
       "<div class=\"word  hl\"  style=\"background-color: mediumaquamarine;\" >\n",
       "<div class=\"grk\">βρώσει </div>\n",
       "<div class=\"features\"> <span class=\"gloss xft\"><span class=\"f\">gloss=</span>consumable</span></div>\n",
       "</div>\n",
       "<div class=\"word  hl\"  style=\"background-color: mediumaquamarine;\" >\n",
       "<div class=\"grk\">ἢ </div>\n",
       "<div class=\"features\"> <span class=\"gloss xft\"><span class=\"f\">gloss=</span>either...or</span></div>\n",
       "</div>\n",
       "<div class=\"word  hl\"  style=\"background-color: mediumaquamarine;\" >\n",
       "<div class=\"grk\">ἐν </div>\n",
       "<div class=\"features\"> <span class=\"gloss xft\"><span class=\"f\">gloss=</span>in</span></div>\n",
       "</div>\n",
       "<div class=\"word  hl\"  style=\"background-color: mediumaquamarine;\" >\n",
       "<div class=\"grk\">πόσει </div>\n",
       "<div class=\"features\"> <span class=\"gloss xft\"><span class=\"f\">gloss=</span>drinking</span></div>\n",
       "</div>\n",
       "<div class=\"word  hl\"  style=\"background-color: mediumaquamarine;\" >\n",
       "<div class=\"grk\">ἢ </div>\n",
       "<div class=\"features\"> <span class=\"gloss xft\"><span class=\"f\">gloss=</span>either...or</span></div>\n",
       "</div>\n",
       "<div class=\"word  hl\"  style=\"background-color: mediumaquamarine;\" >\n",
       "<div class=\"grk\">ἐν </div>\n",
       "<div class=\"features\"> <span class=\"gloss xft\"><span class=\"f\">gloss=</span>in</span></div>\n",
       "</div>\n",
       "<div class=\"word  hl\"  style=\"background-color: mediumaquamarine;\" >\n",
       "<div class=\"grk\">μέρει </div>\n",
       "<div class=\"features\"> <span class=\"gloss xft\"><span class=\"f\">gloss=</span>part</span></div>\n",
       "</div>\n",
       "<div class=\"word  hl\"  style=\"background-color: mediumaquamarine;\" >\n",
       "<div class=\"grk\">ἑορτῆς </div>\n",
       "<div class=\"features\"> <span class=\"gloss xft\"><span class=\"f\">gloss=</span>feast</span></div>\n",
       "</div>\n",
       "<div class=\"word  hl\"  style=\"background-color: mediumaquamarine;\" >\n",
       "<div class=\"grk\">ἢ </div>\n",
       "<div class=\"features\"> <span class=\"gloss xft\"><span class=\"f\">gloss=</span>either...or</span></div>\n",
       "</div>\n",
       "<div class=\"word  hl\"  style=\"background-color: mediumaquamarine;\" >\n",
       "<div class=\"grk\">νουμηνίας </div>\n",
       "<div class=\"features\"> <span class=\"gloss xft\"><span class=\"f\">gloss=</span>New Moon Celebration</span></div>\n",
       "</div>\n",
       "<div class=\"word  hl\"  style=\"background-color: mediumaquamarine;\" >\n",
       "<div class=\"grk\">ἢ </div>\n",
       "<div class=\"features\"> <span class=\"gloss xft\"><span class=\"f\">gloss=</span>either...or</span></div>\n",
       "</div>\n",
       "<div class=\"word  hl\"  style=\"background-color: mediumaquamarine;\" >\n",
       "<div class=\"grk\">σαββάτων, </div>\n",
       "<div class=\"features\"> <span class=\"gloss xft\"><span class=\"f\">gloss=</span>Sabbath</span></div>\n",
       "</div>\n",
       "</div>\n",
       "</div>"
      ],
      "text/plain": [
       "<IPython.core.display.HTML object>"
      ]
     },
     "metadata": {},
     "output_type": "display_data"
    },
    {
     "data": {
      "text/html": [
       "<p><b>verse</b> <i>2</i></p>"
      ],
      "text/plain": [
       "<IPython.core.display.HTML object>"
      ]
     },
     "metadata": {},
     "output_type": "display_data"
    },
    {
     "data": {
      "text/html": [
       "<div class=\"outeritem\">\n",
       "<div class=\"verse  \" >\n",
       "\n",
       "    <div class=\"ll\">\n",
       "        <div class=\"line\"><a href=\"https://github.com/morphgnt/tischendorf-data/tree/master/word-per-line/2.8/Unicode/COL.txt\" title=\"see this passage in its source document\" sec=\"Colossians 2:17\">Colossians 2:17</a></div>\n",
       "\n",
       "        <div class=\"features\"> <span class=\"verse xft\"><span class=\"f\">verse=</span>17</span></div>\n",
       "    </div>\n",
       "\n",
       "<div class=\"word  hl\"  style=\"background-color: mediumaquamarine;\" >\n",
       "<div class=\"grk\">ἅ </div>\n",
       "<div class=\"features\"> <span class=\"gloss xft\"><span class=\"f\">gloss=</span>who</span></div>\n",
       "</div>\n",
       "<div class=\"word  hl\"  style=\"background-color: mediumaquamarine;\" >\n",
       "<div class=\"grk\">ἐστιν </div>\n",
       "<div class=\"features\"> <span class=\"gloss xft\"><span class=\"f\">gloss=</span>to be</span></div>\n",
       "</div>\n",
       "<div class=\"word  hl\"  style=\"background-color: mediumaquamarine;\" >\n",
       "<div class=\"grk\">σκιὰ </div>\n",
       "<div class=\"features\"> <span class=\"gloss xft\"><span class=\"f\">gloss=</span>shadow</span></div>\n",
       "</div>\n",
       "<div class=\"word  hl\"  style=\"background-color: mediumaquamarine;\" >\n",
       "<div class=\"grk\">τῶν </div>\n",
       "<div class=\"features\"> <span class=\"gloss xft\"><span class=\"f\">gloss=</span>the</span></div>\n",
       "</div>\n",
       "<div class=\"word  hl\"  style=\"background-color: mediumaquamarine;\" >\n",
       "<div class=\"grk\">μελλόντων, </div>\n",
       "<div class=\"features\"> <span class=\"gloss xft\"><span class=\"f\">gloss=</span>to be about to</span></div>\n",
       "</div>\n",
       "<div class=\"word  hl\"  style=\"background-color: mediumaquamarine;\" >\n",
       "<div class=\"grk\">τὸ </div>\n",
       "<div class=\"features\"> <span class=\"gloss xft\"><span class=\"f\">gloss=</span>the</span></div>\n",
       "</div>\n",
       "<div class=\"word  hl\"  style=\"background-color: mediumaquamarine;\" >\n",
       "<div class=\"grk\">δὲ </div>\n",
       "<div class=\"features\"> <span class=\"gloss xft\"><span class=\"f\">gloss=</span>but</span></div>\n",
       "</div>\n",
       "<div class=\"word  hl\"  style=\"background-color: mediumaquamarine;\" >\n",
       "<div class=\"grk\">σῶμα </div>\n",
       "<div class=\"features\"> <span class=\"gloss xft\"><span class=\"f\">gloss=</span>body</span></div>\n",
       "</div>\n",
       "<div class=\"word  hl\"  style=\"background-color: mediumaquamarine;\" >\n",
       "<div class=\"grk\">τοῦ </div>\n",
       "<div class=\"features\"> <span class=\"gloss xft\"><span class=\"f\">gloss=</span>the</span></div>\n",
       "</div>\n",
       "<div class=\"word  hl\"  style=\"background-color: mediumaquamarine;\" >\n",
       "<div class=\"grk\">Χριστοῦ. </div>\n",
       "<div class=\"features\"> <span class=\"gloss xft\"><span class=\"f\">gloss=</span>Christ</span></div>\n",
       "</div>\n",
       "</div>\n",
       "</div>"
      ],
      "text/plain": [
       "<IPython.core.display.HTML object>"
      ]
     },
     "metadata": {},
     "output_type": "display_data"
    }
   ],
   "source": [
    "A.show(gloss, start=1, end=12, condensed=True, colorMap={2: 'lightsalmon', 4: 'mediumaquamarine'})"
   ]
  },
  {
   "cell_type": "markdown",
   "metadata": {},
   "source": [
    "# Lets search for corellated conjunctions "
   ]
  },
  {
   "cell_type": "markdown",
   "metadata": {},
   "source": [
    "This comes form Brad's article submission"
   ]
  },
  {
   "cell_type": "code",
   "execution_count": null,
   "metadata": {},
   "outputs": [],
   "source": [
    "HeHeHe ='''\n",
    "verse\n",
    "    word anlex_lem=ἤ\n",
    "    < word anlex_lem=ἤ\n",
    "    < word anlex_lem=ἤ    \n",
    "'''\n",
    "HeHeHe=A.search(HeHeHe)"
   ]
  },
  {
   "cell_type": "code",
   "execution_count": null,
   "metadata": {},
   "outputs": [],
   "source": [
    "A.table(HeHeHe, start=1, end=10, condensed=True, colorMap={3: 'lightsalmon', 4: 'mediumaquamarine'})"
   ]
  },
  {
   "cell_type": "markdown",
   "metadata": {},
   "source": [
    "Lets look at the conjunction sequence that we have in the NA28"
   ]
  },
  {
   "cell_type": "code",
   "execution_count": null,
   "metadata": {},
   "outputs": [],
   "source": [
    "KaiHeHe ='''\n",
    "verse\n",
    "    word anlex_lem=καί\n",
    "    < word anlex_lem=ἤ\n",
    "    < word anlex_lem=ἤ    \n",
    "'''\n",
    "KaiHeHe=A.search(KaiHeHe)"
   ]
  },
  {
   "cell_type": "code",
   "execution_count": null,
   "metadata": {},
   "outputs": [],
   "source": [
    "A.show(KaiHeHe, start=1, end=10, condensed=True, colorMap={2: 'lightsalmon', 3: 'mediumaquamarine', 4: 'mediumaquamarine', 5: 'mediumaquamarine'})"
   ]
  },
  {
   "cell_type": "markdown",
   "metadata": {},
   "source": [
    "Lets look at the pattern that appears in the Mehrheitstext."
   ]
  },
  {
   "cell_type": "code",
   "execution_count": null,
   "metadata": {},
   "outputs": [],
   "source": [
    "NoKaiButHeHe ='''\n",
    "verse\n",
    "/without/\n",
    "    w0:word anlex_lem=καί\n",
    "    w1:word anlex_lem=ἤ\n",
    "    w2:word anlex_lem=ἤ\n",
    "    w0 < w1\n",
    "    w1 < w2\n",
    "/-/\n",
    "    w1:word anlex_lem=ἤ\n",
    "    w2:word anlex_lem=ἤ\n",
    "    w1 < w2\n",
    "'''\n",
    "NoKaiButHeHe=A.search(NoKaiButHeHe)"
   ]
  },
  {
   "cell_type": "code",
   "execution_count": null,
   "metadata": {},
   "outputs": [],
   "source": [
    "A.show(NoKaiButHeHe, start=1, end=10, condensed=True, colorMap={2: 'lightsalmon', 3: 'mediumaquamarine', 4: 'mediumaquamarine', 5: 'mediumaquamarine'})"
   ]
  },
  {
   "cell_type": "code",
   "execution_count": null,
   "metadata": {},
   "outputs": [],
   "source": [
    "A.table(NoKaiButHeHe, start=1, end=10, condensed=True, colorMap={2: 'lightsalmon', 3: 'mediumaquamarine', 4: 'mediumaquamarine', 5: 'mediumaquamarine'})"
   ]
  },
  {
   "cell_type": "markdown",
   "metadata": {},
   "source": [
    "Mat 6:31 clearly shows that he he does not have to be an \"either or\" constrution..."
   ]
  },
  {
   "cell_type": "code",
   "execution_count": null,
   "metadata": {},
   "outputs": [],
   "source": []
  }
 ],
 "metadata": {
  "kernelspec": {
   "display_name": "Python 3",
   "language": "python",
   "name": "python3"
  },
  "language_info": {
   "codemirror_mode": {
    "name": "ipython",
    "version": 3
   },
   "file_extension": ".py",
   "mimetype": "text/x-python",
   "name": "python",
   "nbconvert_exporter": "python",
   "pygments_lexer": "ipython3",
   "version": "3.7.4"
  },
  "toc": {
   "base_numbering": 1,
   "nav_menu": {},
   "number_sections": true,
   "sideBar": true,
   "skip_h1_title": false,
   "title_cell": "Table of Contents",
   "title_sidebar": "Contents",
   "toc_cell": false,
   "toc_position": {
    "height": "calc(100% - 180px)",
    "left": "10px",
    "top": "150px",
    "width": "218.4px"
   },
   "toc_section_display": true,
   "toc_window_display": false
  }
 },
 "nbformat": 4,
 "nbformat_minor": 2
}
